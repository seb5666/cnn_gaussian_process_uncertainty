{
 "cells": [
  {
   "cell_type": "markdown",
   "metadata": {},
   "source": [
    "# Gaussian process classifiers and CNN uncertainty"
   ]
  },
  {
   "cell_type": "markdown",
   "metadata": {},
   "source": [
    "## To do:\n",
    "- With and without learning phase\n",
    "- Print prediciton probability difference between correct and second best\n",
    "- Then print prediction probability difference between expected output and given output for the incorrect examples"
   ]
  },
  {
   "cell_type": "markdown",
   "metadata": {},
   "source": [
    "## Train CNN on MNIST"
   ]
  },
  {
   "cell_type": "code",
   "execution_count": 21,
   "metadata": {
    "collapsed": false
   },
   "outputs": [],
   "source": [
    "import keras\n",
    "from keras.datasets import mnist\n",
    "from keras.models import Sequential\n",
    "from keras.layers import Dense, Dropout, Flatten\n",
    "from keras.layers import Conv2D, MaxPooling2D\n",
    "from keras import backend as K\n",
    "\n",
    "import numpy as np\n",
    "\n",
    "from sklearn.metrics import classification_report\n",
    "import sklearn.gaussian_process as gp\n",
    "from sklearn.gaussian_process import GaussianProcessClassifier\n",
    "from sklearn.gaussian_process.kernels import RBF\n",
    "import matplotlib.pyplot as plt\n",
    "%matplotlib inline"
   ]
  },
  {
   "cell_type": "code",
   "execution_count": 22,
   "metadata": {
    "collapsed": false
   },
   "outputs": [],
   "source": [
    "model = keras.models.load_model('my_model.h5')"
   ]
  },
  {
   "cell_type": "code",
   "execution_count": 23,
   "metadata": {
    "collapsed": false
   },
   "outputs": [
    {
     "name": "stdout",
     "output_type": "stream",
     "text": [
      "x_train shape: (60000, 28, 28)\n",
      "60000 train samples\n",
      "10000 test samples\n"
     ]
    }
   ],
   "source": [
    "#Load training data\n",
    "(X_train, y_train), (X_test, y_test) = mnist.load_data()\n",
    "\n",
    "X_train = X_train.astype('float32')\n",
    "X_test = X_test.astype('float32')\n",
    "\n",
    "X_train /= 255\n",
    "X_test /= 255\n",
    "\n",
    "num_classes = 10\n",
    "y_train_one_hot = keras.utils.to_categorical(y_train, num_classes)\n",
    "y_test_one_hot = keras.utils.to_categorical(y_test, num_classes)\n",
    "\n",
    "print('x_train shape:', X_train.shape)\n",
    "print(X_train.shape[0], 'train samples')\n",
    "print(X_test.shape[0], 'test samples')"
   ]
  },
  {
   "cell_type": "code",
   "execution_count": 24,
   "metadata": {
    "collapsed": false
   },
   "outputs": [
    {
     "name": "stdout",
     "output_type": "stream",
     "text": [
      "Image data format: channels_last\n"
     ]
    }
   ],
   "source": [
    "#Handle Theano and Tensorflow data format\n",
    "img_rows, img_cols = 28,28\n",
    "\n",
    "print(\"Image data format: {}\".format(K.image_data_format()))\n",
    "\n",
    "if K.image_data_format() == 'channel_first':\n",
    "    X_train = x_train.reshape(X_train.shape[0], 1, img_rows, img_cols)\n",
    "    X_test = x_test.reshape(X_test.shape[0], 1, img_rows, img_cols)\n",
    "    input_shape = (1, img_rows, img_cols)\n",
    "else:\n",
    "    X_train = X_train.reshape(X_train.shape[0], img_rows, img_cols, 1)\n",
    "    X_test = X_test.reshape(X_test.shape[0], img_rows, img_cols, 1)\n",
    "    input_shape = (img_rows, img_cols, 1)"
   ]
  },
  {
   "cell_type": "code",
   "execution_count": 25,
   "metadata": {
    "collapsed": false
   },
   "outputs": [],
   "source": [
    "train_model = False\n",
    "if train_model:\n",
    "    batch_size = 128\n",
    "    epochs = 12\n",
    "\n",
    "    model = Sequential()\n",
    "    model.add(Conv2D(32, kernel_size=(3,3), activation='relu', input_shape=input_shape)) \n",
    "    model.add(Conv2D(64, (3,3), activation='relu'))\n",
    "    model.add(MaxPooling2D(pool_size=(2,2)))\n",
    "    model.add(Dropout(0.25))\n",
    "    model.add(Flatten())\n",
    "    model.add(Dense(128, activation='relu'))\n",
    "    model.add(Dropout(0.5))\n",
    "    model.add(Dense(num_classes, activation='softmax'))\n",
    "\n",
    "    model.compile(loss=keras.losses.categorical_crossentropy, optimizer=keras.optimizers.Adadelta(), metrics=['accuracy'])\n",
    "    model.fit(X_train, y_train_one_hot, batch_size=batch_size, epochs=epochs, verbose=1, validation_data=(X_test, y_test_one_hot))"
   ]
  },
  {
   "cell_type": "code",
   "execution_count": 31,
   "metadata": {
    "collapsed": false
   },
   "outputs": [
    {
     "name": "stdout",
     "output_type": "stream",
     "text": [
      "Test loss: 0.028256796755890535\n",
      "Test accuracy: 0.9906\n",
      "             precision    recall  f1-score   support\n",
      "\n",
      "          0       1.00      0.99      0.99       990\n",
      "          1       1.00      0.99      0.99      1137\n",
      "          2       0.99      0.99      0.99      1036\n",
      "          3       1.00      0.99      0.99      1021\n",
      "          4       0.99      0.99      0.99       976\n",
      "          5       0.99      0.99      0.99       891\n",
      "          6       0.99      0.99      0.99       953\n",
      "          7       0.99      0.99      0.99      1024\n",
      "          8       0.99      0.99      0.99       967\n",
      "          9       0.99      0.99      0.99      1005\n",
      "\n",
      "avg / total       0.99      0.99      0.99     10000\n",
      "\n"
     ]
    }
   ],
   "source": [
    "#evaluate CNN\n",
    "score = model.evaluate(X_test, y_test_one_hot, verbose=0)\n",
    "print(\"Test loss: {}\".format(score[0]))\n",
    "print(\"Test accuracy: {}\".format(score[1]))\n",
    "cnn_predictions = np.argmax(model.predict(X_test), axis=1)\n",
    "print(classification_report(cnn_predictions, y_test))"
   ]
  },
  {
   "cell_type": "code",
   "execution_count": null,
   "metadata": {
    "collapsed": true
   },
   "outputs": [],
   "source": [
    "def get_ith_layer_output(model, X, i, mode='test'):\n",
    "    ''' see https://keras.io/getting-started/faq/#keras-faq-frequently-asked-keras-questions'''\n",
    "    get_ith_layer = keras.backend.function(\n",
    "        [model.layers[0].input, keras.backend.learning_phase()], [model.layers[i].output])\n",
    "    layer_output = get_ith_layer([X, 0 if mode=='test' else 1])[0]\n",
    "    return layer_output"
   ]
  },
  {
   "cell_type": "code",
   "execution_count": null,
   "metadata": {
    "collapsed": false
   },
   "outputs": [],
   "source": [
    "last_layer_train_outputs = get_ith_layer_output(model, X_train, -2)"
   ]
  },
  {
   "cell_type": "code",
   "execution_count": null,
   "metadata": {
    "collapsed": true
   },
   "outputs": [],
   "source": [
    "last_layer_test_outputs = get_ith_layer_output(model, X_test, -2)"
   ]
  },
  {
   "cell_type": "markdown",
   "metadata": {},
   "source": [
    "##  Use a GP to predict output with uncertainty"
   ]
  },
  {
   "cell_type": "code",
   "execution_count": 9,
   "metadata": {
    "collapsed": false
   },
   "outputs": [
    {
     "name": "stdout",
     "output_type": "stream",
     "text": [
      "(60000, 128)\n",
      "(60000,)\n"
     ]
    }
   ],
   "source": [
    "print(last_layer_train_outputs.shape)\n",
    "print(y_train.shape)"
   ]
  },
  {
   "cell_type": "code",
   "execution_count": 22,
   "metadata": {
    "collapsed": false
   },
   "outputs": [],
   "source": [
    "kernel = 1.0 * RBF([1.0])\n",
    "gpc_rbf_isotropic = GaussianProcessClassifier(kernel=kernel, multi_class=\"one_vs_rest\").fit(last_layer_train_outputs[:1000],y_train[:1000])"
   ]
  },
  {
   "cell_type": "code",
   "execution_count": 23,
   "metadata": {
    "collapsed": false
   },
   "outputs": [],
   "source": [
    "predictions = gpc_rbf_isotropic.predict(last_layer_test_outputs)"
   ]
  },
  {
   "cell_type": "code",
   "execution_count": 21,
   "metadata": {
    "collapsed": false
   },
   "outputs": [
    {
     "name": "stdout",
     "output_type": "stream",
     "text": [
      "             precision    recall  f1-score   support\n",
      "\n",
      "          0       0.99      0.97      0.98      1001\n",
      "          1       1.00      0.94      0.97      1210\n",
      "          2       0.91      0.99      0.95       944\n",
      "          3       0.96      0.99      0.97       980\n",
      "          4       0.98      0.97      0.97       989\n",
      "          5       0.89      0.99      0.94       798\n",
      "          6       0.98      0.95      0.97       990\n",
      "          7       0.95      0.96      0.96      1015\n",
      "          8       0.89      0.99      0.94       875\n",
      "          9       0.99      0.83      0.90      1198\n",
      "\n",
      "avg / total       0.96      0.95      0.95     10000\n",
      "\n"
     ]
    }
   ],
   "source": [
    "print(classification_report(predictions, y_test))"
   ]
  },
  {
   "cell_type": "code",
   "execution_count": 24,
   "metadata": {
    "collapsed": false
   },
   "outputs": [
    {
     "name": "stdout",
     "output_type": "stream",
     "text": [
      "             precision    recall  f1-score   support\n",
      "\n",
      "          0       0.99      0.98      0.98       984\n",
      "          1       0.99      0.99      0.99      1136\n",
      "          2       0.98      0.98      0.98      1031\n",
      "          3       0.97      0.99      0.98       993\n",
      "          4       0.97      0.99      0.98       965\n",
      "          5       0.98      0.97      0.98       902\n",
      "          6       0.99      0.98      0.98       962\n",
      "          7       0.96      0.98      0.97      1017\n",
      "          8       0.95      0.97      0.96       961\n",
      "          9       0.98      0.94      0.96      1049\n",
      "\n",
      "avg / total       0.98      0.98      0.98     10000\n",
      "\n"
     ]
    }
   ],
   "source": [
    "print(classification_report(predictions, y_test))"
   ]
  },
  {
   "cell_type": "code",
   "execution_count": 41,
   "metadata": {
    "collapsed": false
   },
   "outputs": [
    {
     "data": {
      "text/plain": [
       "(10000, 10)"
      ]
     },
     "execution_count": 41,
     "metadata": {},
     "output_type": "execute_result"
    }
   ],
   "source": [
    "predictions_proba = gpc_rbf_isotropic.predict_proba(last_layer_test_outputs)\n",
    "predictions_proba.shape"
   ]
  },
  {
   "cell_type": "code",
   "execution_count": 44,
   "metadata": {
    "collapsed": true
   },
   "outputs": [],
   "source": [
    "correct_indices = np.argwhere(predictions == y_test)"
   ]
  },
  {
   "cell_type": "code",
   "execution_count": 38,
   "metadata": {
    "collapsed": false
   },
   "outputs": [
    {
     "name": "stdout",
     "output_type": "stream",
     "text": [
      "(9764, 1)\n",
      "(236, 1)\n"
     ]
    }
   ],
   "source": [
    "print(correct_indices.shape)\n"
   ]
  },
  {
   "cell_type": "code",
   "execution_count": 122,
   "metadata": {
    "collapsed": false
   },
   "outputs": [
    {
     "data": {
      "text/plain": [
       "(array([  5.,   1.,   4.,   5.,  11.,  12.,  20.,  19.,  22.,  31.,  32.,\n",
       "         46.,  54.,  63.,  58.,  74.,  90., 113., 119., 133., 164., 178.,\n",
       "        220., 292., 356., 435., 486., 520., 507., 567., 589., 532., 529.,\n",
       "        457., 464., 411., 332., 270., 264., 216., 183., 167., 158., 143.,\n",
       "        118., 113.,  88.,  50.,  32.,  11.]),\n",
       " array([0.1665273 , 0.17794037, 0.18935343, 0.2007665 , 0.21217956,\n",
       "        0.22359262, 0.23500569, 0.24641875, 0.25783182, 0.26924488,\n",
       "        0.28065795, 0.29207101, 0.30348407, 0.31489714, 0.3263102 ,\n",
       "        0.33772327, 0.34913633, 0.3605494 , 0.37196246, 0.38337552,\n",
       "        0.39478859, 0.40620165, 0.41761472, 0.42902778, 0.44044085,\n",
       "        0.45185391, 0.46326698, 0.47468004, 0.4860931 , 0.49750617,\n",
       "        0.50891923, 0.5203323 , 0.53174536, 0.54315843, 0.55457149,\n",
       "        0.56598455, 0.57739762, 0.58881068, 0.60022375, 0.61163681,\n",
       "        0.62304988, 0.63446294, 0.645876  , 0.65728907, 0.66870213,\n",
       "        0.6801152 , 0.69152826, 0.70294133, 0.71435439, 0.72576746,\n",
       "        0.73718052]),\n",
       " <a list of 50 Patch objects>)"
      ]
     },
     "execution_count": 122,
     "metadata": {},
     "output_type": "execute_result"
    },
    {
     "data": {
      "image/png": "[encoded data removed]",
      "text/plain": [
       "<matplotlib.figure.Figure at 0x13494ec88>"
      ]
     },
     "metadata": {},
     "output_type": "display_data"
    }
   ],
   "source": [
    "correct_probabilitis = np.max(predictions_proba[correct_indices].reshape(-1, 10), axis=1)\n",
    "plt.hist(correct_probabilitis, bins=50)"
   ]
  },
  {
   "cell_type": "code",
   "execution_count": 135,
   "metadata": {
    "collapsed": false
   },
   "outputs": [
    {
     "name": "stdout",
     "output_type": "stream",
     "text": [
      "[0.25262906 0.32661127 0.1816585  0.22869449 0.18348076 0.14792772\n",
      " 0.15582759 0.23528749 0.20546723 0.22288029]\n"
     ]
    },
    {
     "data": {
      "text/plain": [
       "(array([ 1.,  1.,  2.,  0.,  2.,  2.,  2.,  5.,  1.,  6.,  4.,  5.,  7.,\n",
       "         6.,  6.,  5.,  4.,  7.,  4.,  5.,  8.,  6.,  8.,  5.,  7., 10.,\n",
       "        17.,  6.,  6.,  7., 11.,  9.,  6., 10.,  8.,  3.,  6.,  5.,  5.,\n",
       "         5.,  2.,  1.,  1.,  4.,  1.,  1.,  0.,  2.,  0.,  1.]),\n",
       " array([0.04434977, 0.05034103, 0.05633229, 0.06232355, 0.06831481,\n",
       "        0.07430607, 0.08029733, 0.08628859, 0.09227985, 0.09827111,\n",
       "        0.10426237, 0.11025363, 0.11624489, 0.12223615, 0.12822741,\n",
       "        0.13421867, 0.14020993, 0.14620119, 0.15219245, 0.15818371,\n",
       "        0.16417497, 0.17016623, 0.17615748, 0.18214874, 0.18814   ,\n",
       "        0.19413126, 0.20012252, 0.20611378, 0.21210504, 0.2180963 ,\n",
       "        0.22408756, 0.23007882, 0.23607008, 0.24206134, 0.2480526 ,\n",
       "        0.25404386, 0.26003512, 0.26602638, 0.27201764, 0.2780089 ,\n",
       "        0.28400016, 0.28999142, 0.29598268, 0.30197394, 0.3079652 ,\n",
       "        0.31395645, 0.31994771, 0.32593897, 0.33193023, 0.33792149,\n",
       "        0.34391275]),\n",
       " <a list of 50 Patch objects>)"
      ]
     },
     "execution_count": 135,
     "metadata": {},
     "output_type": "execute_result"
    },
    {
     "data": {
      "image/png": "[encoded data removed]",
      "text/plain": [
       "<matplotlib.figure.Figure at 0x13c97c860>"
      ]
     },
     "metadata": {},
     "output_type": "display_data"
    }
   ],
   "source": [
    "#compute probability assigned to the correct label in missclassified examples\n",
    "incorrect_indices = np.argwhere(predictions != y_test)\n",
    "incorrect_probabilities = predictions_proba[incorrect_indices].reshape(-1, 10)\n",
    "correct_predictions = y_test[incorrect_indices].reshape(-1)\n",
    "incorrect_probabilities_correct_label = incorrect_probabilities[np.arange(len(correct_predictions)), correct_predictions]\n",
    "print(incorrect_probabilities_correct_label[:10])\n",
    "plt.hist(incorrect_probabilities_correct_label, bins=50)"
   ]
  },
  {
   "cell_type": "code",
   "execution_count": 132,
   "metadata": {
    "collapsed": false
   },
   "outputs": [
    {
     "name": "stdout",
     "output_type": "stream",
     "text": [
      "[0.29355185 0.32900504 0.21293704 0.25253253 0.29585329 0.3219425\n",
      " 0.46849576 0.2641355  0.3750401  0.23265359]\n"
     ]
    },
    {
     "data": {
      "text/plain": [
       "(array([ 1.,  2.,  3.,  2.,  6.,  5.,  5.,  6.,  8.,  7., 15., 12., 15.,\n",
       "         5., 12.,  9., 13.,  5.,  7.,  8.,  9.,  8.,  8.,  3.,  4., 10.,\n",
       "         8.,  4.,  1.,  6.,  6.,  3.,  5.,  0.,  1.,  1.,  0.,  1.,  2.,\n",
       "         1.,  1.,  2.,  2.,  0.,  1.,  1.,  1.,  0.,  0.,  1.]),\n",
       " array([0.16524893, 0.17313687, 0.18102482, 0.18891276, 0.19680071,\n",
       "        0.20468865, 0.2125766 , 0.22046454, 0.22835249, 0.23624043,\n",
       "        0.24412838, 0.25201633, 0.25990427, 0.26779222, 0.27568016,\n",
       "        0.28356811, 0.29145605, 0.299344  , 0.30723194, 0.31511989,\n",
       "        0.32300783, 0.33089578, 0.33878372, 0.34667167, 0.35455961,\n",
       "        0.36244756, 0.37033551, 0.37822345, 0.3861114 , 0.39399934,\n",
       "        0.40188729, 0.40977523, 0.41766318, 0.42555112, 0.43343907,\n",
       "        0.44132701, 0.44921496, 0.4571029 , 0.46499085, 0.4728788 ,\n",
       "        0.48076674, 0.48865469, 0.49654263, 0.50443058, 0.51231852,\n",
       "        0.52020647, 0.52809441, 0.53598236, 0.5438703 , 0.55175825,\n",
       "        0.55964619]),\n",
       " <a list of 50 Patch objects>)"
      ]
     },
     "execution_count": 132,
     "metadata": {},
     "output_type": "execute_result"
    },
    {
     "data": {
      "image/png": "[encoded data removed]",
      "text/plain": [
       "<matplotlib.figure.Figure at 0x13c652b38>"
      ]
     },
     "metadata": {},
     "output_type": "display_data"
    }
   ],
   "source": [
    "#highest probability assigned in mislabbeled examples\n",
    "incorrect_indices = np.argwhere(predictions != y_test)\n",
    "incorrect_probabilities = np.max(predictions_proba[incorrect_indices].reshape(-1, 10), axis=1)\n",
    "print(incorrect_probabilities[:10])\n",
    "plt.hist(incorrect_probabilities, bins=50)"
   ]
  },
  {
   "cell_type": "code",
   "execution_count": null,
   "metadata": {
    "collapsed": true
   },
   "outputs": [],
   "source": []
  }
 ],
 "metadata": {
  "anaconda-cloud": {},
  "kernelspec": {
   "display_name": "Python [conda env:python3]",
   "language": "python",
   "name": "conda-env-python3-py"
  },
  "language_info": {
   "codemirror_mode": {
    "name": "ipython",
    "version": 3
   },
   "file_extension": ".py",
   "mimetype": "text/x-python",
   "name": "python",
   "nbconvert_exporter": "python",
   "pygments_lexer": "ipython3",
   "version": "3.5.2"
  },
  "toc": {
   "nav_menu": {},
   "number_sections": true,
   "sideBar": true,
   "skip_h1_title": false,
   "toc_cell": false,
   "toc_position": {},
   "toc_section_display": "block",
   "toc_window_display": false
  }
 },
 "nbformat": 4,
 "nbformat_minor": 1
}
