{
 "cells": [
  {
   "cell_type": "markdown",
   "metadata": {},
   "source": [
    "# Gaussian process classifiers and CNN uncertainty"
   ]
  },
  {
   "cell_type": "markdown",
   "metadata": {},
   "source": [
    "## To do:\n",
    "- With and without learning phase"
   ]
  },
  {
   "cell_type": "markdown",
   "metadata": {},
   "source": [
    "## Questions\n",
    "- Is it possible to train the GP on all 60'000 training images?\n",
    "    - Doesn't look like it... Either use more compute power or just use 1'000 or so examples"
   ]
  },
  {
   "cell_type": "markdown",
   "metadata": {},
   "source": [
    "## Meeting notes (24/01/2018)\n",
    "- Gaussian process should give more than just a probability, it should give an uncertainty for each probablity. Think $x$ where $P(C = k) = p \\pm x$\n",
    "- There is no conventional way of obtaining this with neural networks alone. One way that would be possible is to use dropout at classification time to obtain multiple samples, each a bit different, for the same probability and then look at the variance.\n",
    "- Instead of looking at the difference in probabilities to decide whether we should classify and example or say \"I don't know\", use the lowerbound and upperbound of the two highest probabilities and see if they overlap"
   ]
  },
  {
   "cell_type": "markdown",
   "metadata": {},
   "source": [
    "# Train CNN on MNIST"
   ]
  },
  {
   "cell_type": "code",
   "execution_count": 2,
   "metadata": {},
   "outputs": [
    {
     "name": "stderr",
     "output_type": "stream",
     "text": [
      "/Users/sebastian/anaconda/envs/python3/lib/python3.6/site-packages/h5py/__init__.py:36: FutureWarning: Conversion of the second argument of issubdtype from `float` to `np.floating` is deprecated. In future, it will be treated as `np.float64 == np.dtype(float).type`.\n",
      "  from ._conv import register_converters as _register_converters\n",
      "Using TensorFlow backend.\n"
     ]
    }
   ],
   "source": [
    "import keras\n",
    "from keras.datasets import mnist\n",
    "from keras.models import Sequential\n",
    "from keras.layers import Dense, Dropout, Flatten\n",
    "from keras.layers import Conv2D, MaxPooling2D\n",
    "from keras import backend as K\n",
    "\n",
    "import numpy as np\n",
    "\n",
    "from sklearn.metrics import classification_report\n",
    "import sklearn.gaussian_process as gp\n",
    "from sklearn.gaussian_process import GaussianProcessClassifier\n",
    "from sklearn.gaussian_process.kernels import RBF, WhiteKernel\n",
    "import matplotlib.pyplot as plt\n",
    "%matplotlib inline"
   ]
  },
  {
   "cell_type": "code",
   "execution_count": 3,
   "metadata": {},
   "outputs": [],
   "source": [
    "model = keras.models.load_model('my_model.h5')"
   ]
  },
  {
   "cell_type": "code",
   "execution_count": null,
   "metadata": {},
   "outputs": [],
   "source": [
    "#Load training data\n",
    "(X_train, y_train), (X_test, y_test) = mnist.load_data()\n",
    "\n",
    "X_train = X_train.astype('float32')\n",
    "X_test = X_test.astype('float32')\n",
    "\n",
    "X_train /= 255\n",
    "X_test /= 255\n",
    "\n",
    "num_classes = 10\n",
    "y_train_one_hot = keras.utils.to_categorical(y_train, num_classes)\n",
    "y_test_one_hot = keras.utils.to_categorical(y_test, num_classes)\n",
    "\n",
    "print('x_train shape:', X_train.shape)\n",
    "print(X_train.shape[0], 'train samples')\n",
    "print(X_test.shape[0], 'test samples')"
   ]
  },
  {
   "cell_type": "code",
   "execution_count": 5,
   "metadata": {},
   "outputs": [
    {
     "name": "stdout",
     "output_type": "stream",
     "text": [
      "Image data format: channels_last\n"
     ]
    }
   ],
   "source": [
    "#Handle Theano and Tensorflow data format\n",
    "img_rows, img_cols = 28,28\n",
    "\n",
    "print(\"Image data format: {}\".format(K.image_data_format()))\n",
    "\n",
    "if K.image_data_format() == 'channel_first':\n",
    "    X_train = x_train.reshape(X_train.shape[0], 1, img_rows, img_cols)\n",
    "    X_test = x_test.reshape(X_test.shape[0], 1, img_rows, img_cols)\n",
    "    input_shape = (1, img_rows, img_cols)\n",
    "else:\n",
    "    X_train = X_train.reshape(X_train.shape[0], img_rows, img_cols, 1)\n",
    "    X_test = X_test.reshape(X_test.shape[0], img_rows, img_cols, 1)\n",
    "    input_shape = (img_rows, img_cols, 1)"
   ]
  },
  {
   "cell_type": "code",
   "execution_count": 6,
   "metadata": {},
   "outputs": [],
   "source": [
    "train_model = False\n",
    "if train_model:\n",
    "    batch_size = 128\n",
    "    epochs = 12\n",
    "\n",
    "    model = Sequential()\n",
    "    model.add(Conv2D(32, kernel_size=(3,3), activation='relu', input_shape=input_shape)) \n",
    "    model.add(Conv2D(64, (3,3), activation='relu'))\n",
    "    model.add(MaxPooling2D(pool_size=(2,2)))\n",
    "    model.add(Dropout(0.25))\n",
    "    model.add(Flatten())\n",
    "    model.add(Dense(128, activation='relu'))\n",
    "    model.add(Dropout(0.5))\n",
    "    model.add(Dense(num_classes, activation='softmax'))\n",
    "\n",
    "    model.compile(loss=keras.losses.categorical_crossentropy, optimizer=keras.optimizers.Adadelta(), metrics=['accuracy'])\n",
    "    model.fit(X_train, y_train_one_hot, batch_size=batch_size, epochs=epochs, verbose=1, validation_data=(X_test, y_test_one_hot))"
   ]
  },
  {
   "cell_type": "code",
   "execution_count": 7,
   "metadata": {},
   "outputs": [
    {
     "name": "stdout",
     "output_type": "stream",
     "text": [
      "Test loss: 0.028256796755890535\n",
      "Test accuracy: 0.9906\n",
      "(10000, 28, 28, 1)\n",
      "             precision    recall  f1-score   support\n",
      "\n",
      "          0       0.99      1.00      0.99       980\n",
      "          1       0.99      1.00      0.99      1135\n",
      "          2       0.99      0.99      0.99      1032\n",
      "          3       0.99      1.00      0.99      1010\n",
      "          4       0.99      0.99      0.99       982\n",
      "          5       0.99      0.99      0.99       892\n",
      "          6       0.99      0.99      0.99       958\n",
      "          7       0.99      0.99      0.99      1028\n",
      "          8       0.99      0.99      0.99       974\n",
      "          9       0.99      0.99      0.99      1009\n",
      "\n",
      "avg / total       0.99      0.99      0.99     10000\n",
      "\n"
     ]
    }
   ],
   "source": [
    "#evaluate CNN\n",
    "score = model.evaluate(X_test, y_test_one_hot, verbose=0)\n",
    "print(\"Test loss: {}\".format(score[0]))\n",
    "print(\"Test accuracy: {}\".format(score[1]))\n",
    "print(X_test.shape)\n",
    "cnn_predictions = np.argmax(model.predict(X_test), axis=1)\n",
    "print(classification_report(y_test, cnn_predictions))"
   ]
  },
  {
   "cell_type": "code",
   "execution_count": null,
   "metadata": {},
   "outputs": [],
   "source": [
    "def get_ith_layer_output(model, X, i, mode='test'):\n",
    "    ''' see https://keras.io/getting-started/faq/#keras-faq-frequently-asked-keras-questions'''\n",
    "    get_ith_layer = keras.backend.function(\n",
    "        [model.layers[0].input, keras.backend.learning_phase()], [model.layers[i].output])\n",
    "    layer_output = get_ith_layer([X, 0 if mode=='test' else 1])[0]\n",
    "    return layer_output"
   ]
  },
  {
   "cell_type": "code",
   "execution_count": 8,
   "metadata": {},
   "outputs": [
    {
     "ename": "KeyboardInterrupt",
     "evalue": "",
     "output_type": "error",
     "traceback": [
      "\u001b[0;31m---------------------------------------------------------------------------\u001b[0m",
      "\u001b[0;31mKeyboardInterrupt\u001b[0m                         Traceback (most recent call last)",
      "\u001b[0;32m<ipython-input-8-5cc24db147f8>\u001b[0m in \u001b[0;36m<module>\u001b[0;34m()\u001b[0m\n\u001b[0;32m----> 1\u001b[0;31m \u001b[0mlast_layer_train_outputs\u001b[0m \u001b[0;34m=\u001b[0m \u001b[0mget_ith_layer_output\u001b[0m\u001b[0;34m(\u001b[0m\u001b[0mmodel\u001b[0m\u001b[0;34m,\u001b[0m \u001b[0mX_train\u001b[0m\u001b[0;34m,\u001b[0m \u001b[0;34m-\u001b[0m\u001b[0;36m2\u001b[0m\u001b[0;34m)\u001b[0m\u001b[0;34m\u001b[0m\u001b[0m\n\u001b[0m",
      "\u001b[0;32m<ipython-input-7-613a9b2f9b85>\u001b[0m in \u001b[0;36mget_ith_layer_output\u001b[0;34m(model, X, i, mode)\u001b[0m\n\u001b[1;32m      3\u001b[0m     get_ith_layer = keras.backend.function(\n\u001b[1;32m      4\u001b[0m         [model.layers[0].input, keras.backend.learning_phase()], [model.layers[i].output])\n\u001b[0;32m----> 5\u001b[0;31m     \u001b[0mlayer_output\u001b[0m \u001b[0;34m=\u001b[0m \u001b[0mget_ith_layer\u001b[0m\u001b[0;34m(\u001b[0m\u001b[0;34m[\u001b[0m\u001b[0mX\u001b[0m\u001b[0;34m,\u001b[0m \u001b[0;36m0\u001b[0m \u001b[0;32mif\u001b[0m \u001b[0mmode\u001b[0m\u001b[0;34m==\u001b[0m\u001b[0;34m'test'\u001b[0m \u001b[0;32melse\u001b[0m \u001b[0;36m1\u001b[0m\u001b[0;34m]\u001b[0m\u001b[0;34m)\u001b[0m\u001b[0;34m[\u001b[0m\u001b[0;36m0\u001b[0m\u001b[0;34m]\u001b[0m\u001b[0;34m\u001b[0m\u001b[0m\n\u001b[0m\u001b[1;32m      6\u001b[0m     \u001b[0;32mreturn\u001b[0m \u001b[0mlayer_output\u001b[0m\u001b[0;34m\u001b[0m\u001b[0m\n",
      "\u001b[0;32m~/anaconda/envs/python3/lib/python3.6/site-packages/keras/backend/tensorflow_backend.py\u001b[0m in \u001b[0;36m__call__\u001b[0;34m(self, inputs)\u001b[0m\n\u001b[1;32m   2473\u001b[0m         \u001b[0msession\u001b[0m \u001b[0;34m=\u001b[0m \u001b[0mget_session\u001b[0m\u001b[0;34m(\u001b[0m\u001b[0;34m)\u001b[0m\u001b[0;34m\u001b[0m\u001b[0m\n\u001b[1;32m   2474\u001b[0m         updated = session.run(fetches=fetches, feed_dict=feed_dict,\n\u001b[0;32m-> 2475\u001b[0;31m                               **self.session_kwargs)\n\u001b[0m\u001b[1;32m   2476\u001b[0m         \u001b[0;32mreturn\u001b[0m \u001b[0mupdated\u001b[0m\u001b[0;34m[\u001b[0m\u001b[0;34m:\u001b[0m\u001b[0mlen\u001b[0m\u001b[0;34m(\u001b[0m\u001b[0mself\u001b[0m\u001b[0;34m.\u001b[0m\u001b[0moutputs\u001b[0m\u001b[0;34m)\u001b[0m\u001b[0;34m]\u001b[0m\u001b[0;34m\u001b[0m\u001b[0m\n\u001b[1;32m   2477\u001b[0m \u001b[0;34m\u001b[0m\u001b[0m\n",
      "\u001b[0;32m~/anaconda/envs/python3/lib/python3.6/site-packages/tensorflow/python/client/session.py\u001b[0m in \u001b[0;36mrun\u001b[0;34m(self, fetches, feed_dict, options, run_metadata)\u001b[0m\n\u001b[1;32m    893\u001b[0m     \u001b[0;32mtry\u001b[0m\u001b[0;34m:\u001b[0m\u001b[0;34m\u001b[0m\u001b[0m\n\u001b[1;32m    894\u001b[0m       result = self._run(None, fetches, feed_dict, options_ptr,\n\u001b[0;32m--> 895\u001b[0;31m                          run_metadata_ptr)\n\u001b[0m\u001b[1;32m    896\u001b[0m       \u001b[0;32mif\u001b[0m \u001b[0mrun_metadata\u001b[0m\u001b[0;34m:\u001b[0m\u001b[0;34m\u001b[0m\u001b[0m\n\u001b[1;32m    897\u001b[0m         \u001b[0mproto_data\u001b[0m \u001b[0;34m=\u001b[0m \u001b[0mtf_session\u001b[0m\u001b[0;34m.\u001b[0m\u001b[0mTF_GetBuffer\u001b[0m\u001b[0;34m(\u001b[0m\u001b[0mrun_metadata_ptr\u001b[0m\u001b[0;34m)\u001b[0m\u001b[0;34m\u001b[0m\u001b[0m\n",
      "\u001b[0;32m~/anaconda/envs/python3/lib/python3.6/site-packages/tensorflow/python/client/session.py\u001b[0m in \u001b[0;36m_run\u001b[0;34m(self, handle, fetches, feed_dict, options, run_metadata)\u001b[0m\n\u001b[1;32m   1126\u001b[0m     \u001b[0;32mif\u001b[0m \u001b[0mfinal_fetches\u001b[0m \u001b[0;32mor\u001b[0m \u001b[0mfinal_targets\u001b[0m \u001b[0;32mor\u001b[0m \u001b[0;34m(\u001b[0m\u001b[0mhandle\u001b[0m \u001b[0;32mand\u001b[0m \u001b[0mfeed_dict_tensor\u001b[0m\u001b[0;34m)\u001b[0m\u001b[0;34m:\u001b[0m\u001b[0;34m\u001b[0m\u001b[0m\n\u001b[1;32m   1127\u001b[0m       results = self._do_run(handle, final_targets, final_fetches,\n\u001b[0;32m-> 1128\u001b[0;31m                              feed_dict_tensor, options, run_metadata)\n\u001b[0m\u001b[1;32m   1129\u001b[0m     \u001b[0;32melse\u001b[0m\u001b[0;34m:\u001b[0m\u001b[0;34m\u001b[0m\u001b[0m\n\u001b[1;32m   1130\u001b[0m       \u001b[0mresults\u001b[0m \u001b[0;34m=\u001b[0m \u001b[0;34m[\u001b[0m\u001b[0;34m]\u001b[0m\u001b[0;34m\u001b[0m\u001b[0m\n",
      "\u001b[0;32m~/anaconda/envs/python3/lib/python3.6/site-packages/tensorflow/python/client/session.py\u001b[0m in \u001b[0;36m_do_run\u001b[0;34m(self, handle, target_list, fetch_list, feed_dict, options, run_metadata)\u001b[0m\n\u001b[1;32m   1342\u001b[0m     \u001b[0;32mif\u001b[0m \u001b[0mhandle\u001b[0m \u001b[0;32mis\u001b[0m \u001b[0;32mNone\u001b[0m\u001b[0;34m:\u001b[0m\u001b[0;34m\u001b[0m\u001b[0m\n\u001b[1;32m   1343\u001b[0m       return self._do_call(_run_fn, self._session, feeds, fetches, targets,\n\u001b[0;32m-> 1344\u001b[0;31m                            options, run_metadata)\n\u001b[0m\u001b[1;32m   1345\u001b[0m     \u001b[0;32melse\u001b[0m\u001b[0;34m:\u001b[0m\u001b[0;34m\u001b[0m\u001b[0m\n\u001b[1;32m   1346\u001b[0m       \u001b[0;32mreturn\u001b[0m \u001b[0mself\u001b[0m\u001b[0;34m.\u001b[0m\u001b[0m_do_call\u001b[0m\u001b[0;34m(\u001b[0m\u001b[0m_prun_fn\u001b[0m\u001b[0;34m,\u001b[0m \u001b[0mself\u001b[0m\u001b[0;34m.\u001b[0m\u001b[0m_session\u001b[0m\u001b[0;34m,\u001b[0m \u001b[0mhandle\u001b[0m\u001b[0;34m,\u001b[0m \u001b[0mfeeds\u001b[0m\u001b[0;34m,\u001b[0m \u001b[0mfetches\u001b[0m\u001b[0;34m)\u001b[0m\u001b[0;34m\u001b[0m\u001b[0m\n",
      "\u001b[0;32m~/anaconda/envs/python3/lib/python3.6/site-packages/tensorflow/python/client/session.py\u001b[0m in \u001b[0;36m_do_call\u001b[0;34m(self, fn, *args)\u001b[0m\n\u001b[1;32m   1348\u001b[0m   \u001b[0;32mdef\u001b[0m \u001b[0m_do_call\u001b[0m\u001b[0;34m(\u001b[0m\u001b[0mself\u001b[0m\u001b[0;34m,\u001b[0m \u001b[0mfn\u001b[0m\u001b[0;34m,\u001b[0m \u001b[0;34m*\u001b[0m\u001b[0margs\u001b[0m\u001b[0;34m)\u001b[0m\u001b[0;34m:\u001b[0m\u001b[0;34m\u001b[0m\u001b[0m\n\u001b[1;32m   1349\u001b[0m     \u001b[0;32mtry\u001b[0m\u001b[0;34m:\u001b[0m\u001b[0;34m\u001b[0m\u001b[0m\n\u001b[0;32m-> 1350\u001b[0;31m       \u001b[0;32mreturn\u001b[0m \u001b[0mfn\u001b[0m\u001b[0;34m(\u001b[0m\u001b[0;34m*\u001b[0m\u001b[0margs\u001b[0m\u001b[0;34m)\u001b[0m\u001b[0;34m\u001b[0m\u001b[0m\n\u001b[0m\u001b[1;32m   1351\u001b[0m     \u001b[0;32mexcept\u001b[0m \u001b[0merrors\u001b[0m\u001b[0;34m.\u001b[0m\u001b[0mOpError\u001b[0m \u001b[0;32mas\u001b[0m \u001b[0me\u001b[0m\u001b[0;34m:\u001b[0m\u001b[0;34m\u001b[0m\u001b[0m\n\u001b[1;32m   1352\u001b[0m       \u001b[0mmessage\u001b[0m \u001b[0;34m=\u001b[0m \u001b[0mcompat\u001b[0m\u001b[0;34m.\u001b[0m\u001b[0mas_text\u001b[0m\u001b[0;34m(\u001b[0m\u001b[0me\u001b[0m\u001b[0;34m.\u001b[0m\u001b[0mmessage\u001b[0m\u001b[0;34m)\u001b[0m\u001b[0;34m\u001b[0m\u001b[0m\n",
      "\u001b[0;32m~/anaconda/envs/python3/lib/python3.6/site-packages/tensorflow/python/client/session.py\u001b[0m in \u001b[0;36m_run_fn\u001b[0;34m(session, feed_dict, fetch_list, target_list, options, run_metadata)\u001b[0m\n\u001b[1;32m   1327\u001b[0m           return tf_session.TF_Run(session, options,\n\u001b[1;32m   1328\u001b[0m                                    \u001b[0mfeed_dict\u001b[0m\u001b[0;34m,\u001b[0m \u001b[0mfetch_list\u001b[0m\u001b[0;34m,\u001b[0m \u001b[0mtarget_list\u001b[0m\u001b[0;34m,\u001b[0m\u001b[0;34m\u001b[0m\u001b[0m\n\u001b[0;32m-> 1329\u001b[0;31m                                    status, run_metadata)\n\u001b[0m\u001b[1;32m   1330\u001b[0m \u001b[0;34m\u001b[0m\u001b[0m\n\u001b[1;32m   1331\u001b[0m     \u001b[0;32mdef\u001b[0m \u001b[0m_prun_fn\u001b[0m\u001b[0;34m(\u001b[0m\u001b[0msession\u001b[0m\u001b[0;34m,\u001b[0m \u001b[0mhandle\u001b[0m\u001b[0;34m,\u001b[0m \u001b[0mfeed_dict\u001b[0m\u001b[0;34m,\u001b[0m \u001b[0mfetch_list\u001b[0m\u001b[0;34m)\u001b[0m\u001b[0;34m:\u001b[0m\u001b[0;34m\u001b[0m\u001b[0m\n",
      "\u001b[0;31mKeyboardInterrupt\u001b[0m: "
     ]
    }
   ],
   "source": [
    "last_layer_train_outputs = get_ith_layer_output(model, X_train, -2)"
   ]
  },
  {
   "cell_type": "code",
   "execution_count": null,
   "metadata": {},
   "outputs": [],
   "source": [
    "last_layer_test_outputs = get_ith_layer_output(model, X_test, -2)"
   ]
  },
  {
   "cell_type": "markdown",
   "metadata": {},
   "source": [
    "#  Use a GP to predict output with uncertainty"
   ]
  },
  {
   "cell_type": "markdown",
   "metadata": {},
   "source": [
    "- 10 inputs: 195 ms\n",
    "- 100 inputs: 1.34 s\n",
    "- 500 inputs: 42.3 s\n",
    "- 1000 inputs: 3min 46s\n",
    "\n",
    "$t = 1.125541126 \\times 10^{-7} \\times x^{3} + 1.143578644\\times10^{-4} \\times x^{2} - 1.106493506 \\times 10^{-3} \\times x + 1.945165945·10^{-1}$\n",
    "\n",
    "Estimated for all 60'000 examples:\n",
    "- 6867 hours ~ 286 days..."
   ]
  },
  {
   "cell_type": "code",
   "execution_count": 11,
   "metadata": {},
   "outputs": [
    {
     "data": {
      "text/plain": [
       "286.1494263697481"
      ]
     },
     "execution_count": 11,
     "metadata": {},
     "output_type": "execute_result"
    }
   ],
   "source": [
    "def estimate_time(inputs):\n",
    "    return 1.125541126e-7 * (inputs**3) + 1.143578644e-4 * (inputs ** 2) - 1.106493506e-3 * inputs + 1.945165945e-1\n",
    "estimate_time(60000) / 60 / 60 / 24"
   ]
  },
  {
   "cell_type": "code",
   "execution_count": null,
   "metadata": {},
   "outputs": [],
   "source": [
    "kernel = 1.0 * RBF([1.0]) + WhiteKernel(noise_level=0.01)\n",
    "gpc_rbf_isotropic = GaussianProcessClassifier(kernel=kernel, multi_class=\"one_vs_rest\") \n",
    "# %time gpc_rbf_isotropic.fit(last_layer_train_outputs[:10],y_train[:10])\n",
    "# %time gpc_rbf_isotropic.fit(last_layer_train_outputs[:100],y_train[:100])\n",
    "# %time gpc_rbf_isotropic.fit(last_layer_train_outputs[:500],y_train[:500])\n",
    "%time gpc_rbf_isotropic = gpc_rbf_isotropic.fit(last_layer_train_outputs[:100],y_train[:100])\n",
    "# %time gpc_rbf_isotropic.fit(last_layer_train_outputs[:10000],y_train[:10000])\n",
    "# %time gpc_rbf_isotropic.fit(last_layer_train_outputs, y_train)"
   ]
  },
  {
   "cell_type": "code",
   "execution_count": 13,
   "metadata": {},
   "outputs": [
    {
     "name": "stdout",
     "output_type": "stream",
     "text": [
      "Trained model: CompoundKernel(7.39, 3.79, -11.5, 7.51, 3.69, -11.5, 7.57, 3.85, -11.5, 7.59, 3.87, -11.5, 7.81, 3.78, -11.5, 7.57, 3.75, -11.5, 7.65, 3.83, -11.5, 7.64, 3.75, -11.5, 7.85, 3.92, -11.5, 7.83, 3.89, -11.5)\n",
      "Log-marginal likelihood: -27.590566136693383\n"
     ]
    }
   ],
   "source": [
    "print(\"Trained model: {}\".format(str(gpc_rbf_isotropic.kernel_)))\n",
    "print(\"Log-marginal likelihood: {}\".format(gpc_rbf_isotropic.log_marginal_likelihood()))"
   ]
  },
  {
   "cell_type": "code",
   "execution_count": 14,
   "metadata": {},
   "outputs": [],
   "source": [
    "predictions_proba = gpc_rbf_isotropic.predict_proba(last_layer_test_outputs)\n",
    "predictions = np.argmax(predictions_proba, axis=1)"
   ]
  },
  {
   "cell_type": "code",
   "execution_count": null,
   "metadata": {},
   "outputs": [],
   "source": [
    "\n"
   ]
  },
  {
   "cell_type": "code",
   "execution_count": 16,
   "metadata": {},
   "outputs": [
    {
     "name": "stdout",
     "output_type": "stream",
     "text": [
      "             precision    recall  f1-score   support\n",
      "\n",
      "          0       0.99      0.99      0.99       984\n",
      "          1       1.00      0.99      1.00      1138\n",
      "          2       0.99      0.99      0.99      1039\n",
      "          3       0.98      1.00      0.99       995\n",
      "          4       0.98      0.99      0.99       971\n",
      "          5       1.00      0.98      0.99       909\n",
      "          6       0.99      0.99      0.99       958\n",
      "          7       0.99      0.98      0.99      1030\n",
      "          8       0.98      0.99      0.99       961\n",
      "          9       0.98      0.98      0.98      1015\n",
      "\n",
      "avg / total       0.99      0.99      0.99     10000\n",
      "\n"
     ]
    }
   ],
   "source": [
    "print(classification_report(predictions, y_test))"
   ]
  },
  {
   "cell_type": "code",
   "execution_count": 17,
   "metadata": {},
   "outputs": [
    {
     "name": "stdout",
     "output_type": "stream",
     "text": [
      "Incorreclty labelled examples: 111\n",
      "Accuracy: 0.9889\n"
     ]
    }
   ],
   "source": [
    "correct_indices = np.argwhere(predictions == y_test)\n",
    "incorrect_indices = np.argwhere(predictions != y_test)\n",
    "accuracy = len(correct_indices) / len(y_test)\n",
    "print(\"Incorreclty labelled examples: {}\".format(len(incorrect_indices)))\n",
    "print(\"Accuracy: {}\".format(accuracy))"
   ]
  },
  {
   "cell_type": "code",
   "execution_count": null,
   "metadata": {},
   "outputs": [],
   "source": [
    "correct_probabilities = predictions_proba[correct_indices].reshape(-1, 10)\n",
    "correct_probabilities_correct_label = np.max(correct_probabilities, axis=1)\n",
    "plt.title(\"Probability assigned to the correct label in correclty labelled examples\")\n",
    "plt.hist(correct_probabilitis, bins=50);"
   ]
  },
  {
   "cell_type": "code",
   "execution_count": 19,
   "metadata": {},
   "outputs": [
    {
     "ename": "NameError",
     "evalue": "name 'max2_probabilities_correct_label' is not defined",
     "output_type": "error",
     "traceback": [
      "\u001b[0;31m---------------------------------------------------------------------------\u001b[0m",
      "\u001b[0;31mNameError\u001b[0m                                 Traceback (most recent call last)",
      "\u001b[0;32m<ipython-input-19-0f9f58d67374>\u001b[0m in \u001b[0;36m<module>\u001b[0;34m()\u001b[0m\n\u001b[1;32m      5\u001b[0m \u001b[0mmax2_correct_probabilities\u001b[0m \u001b[0;34m=\u001b[0m \u001b[0mcorrect_probabilities\u001b[0m\u001b[0;34m[\u001b[0m\u001b[0mnp\u001b[0m\u001b[0;34m.\u001b[0m\u001b[0marange\u001b[0m\u001b[0;34m(\u001b[0m\u001b[0mlen\u001b[0m\u001b[0;34m(\u001b[0m\u001b[0mcorrect_probabilities\u001b[0m\u001b[0;34m)\u001b[0m\u001b[0;34m)\u001b[0m\u001b[0;34m,\u001b[0m \u001b[0mmax2_indices\u001b[0m\u001b[0;34m[\u001b[0m\u001b[0;34m:\u001b[0m\u001b[0;34m,\u001b[0m\u001b[0;36m1\u001b[0m\u001b[0;34m]\u001b[0m\u001b[0;34m]\u001b[0m\u001b[0;34m\u001b[0m\u001b[0m\n\u001b[1;32m      6\u001b[0m \u001b[0;34m\u001b[0m\u001b[0m\n\u001b[0;32m----> 7\u001b[0;31m \u001b[0mmax2_difference_correct_probabilities\u001b[0m \u001b[0;34m=\u001b[0m \u001b[0mnp\u001b[0m\u001b[0;34m.\u001b[0m\u001b[0mabs\u001b[0m\u001b[0;34m(\u001b[0m\u001b[0mmax1_correct_probabilities\u001b[0m \u001b[0;34m-\u001b[0m \u001b[0mmax2_probabilities_correct_label\u001b[0m\u001b[0;34m)\u001b[0m\u001b[0;34m\u001b[0m\u001b[0m\n\u001b[0m\u001b[1;32m      8\u001b[0m \u001b[0mplt\u001b[0m\u001b[0;34m.\u001b[0m\u001b[0mtitle\u001b[0m\u001b[0;34m(\u001b[0m\u001b[0;34m\"Difference between highest and second highest probability in correclty labelled examples\"\u001b[0m\u001b[0;34m)\u001b[0m\u001b[0;34m\u001b[0m\u001b[0m\n\u001b[1;32m      9\u001b[0m \u001b[0mplt\u001b[0m\u001b[0;34m.\u001b[0m\u001b[0mhist\u001b[0m\u001b[0;34m(\u001b[0m\u001b[0mmax2_difference_correct_probabilities\u001b[0m\u001b[0;34m,\u001b[0m \u001b[0mbins\u001b[0m\u001b[0;34m=\u001b[0m\u001b[0;36m50\u001b[0m\u001b[0;34m)\u001b[0m\u001b[0;34m;\u001b[0m\u001b[0;34m\u001b[0m\u001b[0m\n",
      "\u001b[0;31mNameError\u001b[0m: name 'max2_probabilities_correct_label' is not defined"
     ]
    }
   ],
   "source": [
    "#indices of highest 2 probabilites\n",
    "max2_indices = np.argpartition(correct_probabilities, -2, axis=1)[:,-2:]\n",
    "#retrieve probabilites\n",
    "max1_correct_probabilities = correct_probabilities[np.arange(len(correct_probabilities)), max2_indices[:,0]]\n",
    "max2_correct_probabilities = correct_probabilities[np.arange(len(correct_probabilities)), max2_indices[:,1]]\n",
    "\n",
    "max2_difference_correct_probabilities = np.abs(max1_correct_probabilities - max2_probabilities_correct_label)\n",
    "plt.title(\"Difference between highest and second highest probability in correclty labelled examples\")\n",
    "plt.hist(max2_difference_correct_probabilities, bins=50);"
   ]
  },
  {
   "cell_type": "code",
   "execution_count": 20,
   "metadata": {},
   "outputs": [
    {
     "data": {
      "image/png": "[encoded data removed]",
      "text/plain": [
       "<matplotlib.figure.Figure at 0x11baec4a8>"
      ]
     },
     "metadata": {},
     "output_type": "display_data"
    }
   ],
   "source": [
    "#compute probability assigned to the correct label in missclassified examples\n",
    "incorrect_probabilities = predictions_proba[incorrect_indices].reshape(-1, 10)\n",
    "correct_predictions = y_test[incorrect_indices].reshape(-1)\n",
    "incorrect_probabilities_correct_label = incorrect_probabilities[np.arange(len(correct_predictions)), correct_predictions]\n",
    "plt.title(\"Probability assigned to the correct label in missclassified examples\")\n",
    "plt.hist(incorrect_probabilities_correct_label, bins=50);"
   ]
  },
  {
   "cell_type": "code",
   "execution_count": 21,
   "metadata": {},
   "outputs": [
    {
     "data": {
      "image/png": "[encoded data removed]",
      "text/plain": [
       "<matplotlib.figure.Figure at 0x123802828>"
      ]
     },
     "metadata": {},
     "output_type": "display_data"
    }
   ],
   "source": [
    "#highest probability assigned in mislabbeled examples\n",
    "incorrect_probabilities_max = np.max(incorrect_probabilities, axis=1)\n",
    "plt.title(\"Highest probability assigned in mislabbeled examples\")\n",
    "plt.hist(incorrect_probabilities_max, bins=50);"
   ]
  },
  {
   "cell_type": "code",
   "execution_count": 22,
   "metadata": {},
   "outputs": [
    {
     "data": {
      "image/png": "[encoded data removed]",
      "text/plain": [
       "<matplotlib.figure.Figure at 0x1238a4f28>"
      ]
     },
     "metadata": {},
     "output_type": "display_data"
    }
   ],
   "source": [
    "#indices of highest 2 probabilites\n",
    "max2_indices_incorrect = np.argpartition(incorrect_probabilities, -2, axis=1)[:,-2:]\n",
    "#retrieve probabilites\n",
    "max1_incorrect_probabilities = incorrect_probabilities[np.arange(len(incorrect_probabilities)), max2_indices_incorrect[:,0]]\n",
    "max2_incorrect_probabilities = incorrect_probabilities[np.arange(len(incorrect_probabilities)), max2_indices_incorrect[:,1]]\n",
    "\n",
    "max2_difference_incorrect_probabilities = np.abs(max1_incorrect_probabilities - max2_incorrect_probabilities)\n",
    "plt.title(\"Difference between highest and second highest probability in correclty labelled examples\")\n",
    "plt.hist(max2_difference_incorrect_probabilities, bins=50);"
   ]
  },
  {
   "cell_type": "code",
   "execution_count": 23,
   "metadata": {},
   "outputs": [
    {
     "ename": "NameError",
     "evalue": "name 'max2_difference_correct_probabilities' is not defined",
     "output_type": "error",
     "traceback": [
      "\u001b[0;31m---------------------------------------------------------------------------\u001b[0m",
      "\u001b[0;31mNameError\u001b[0m                                 Traceback (most recent call last)",
      "\u001b[0;32m<ipython-input-23-34448d75a0b4>\u001b[0m in \u001b[0;36m<module>\u001b[0;34m()\u001b[0m\n\u001b[1;32m      8\u001b[0m     \u001b[0;32mreturn\u001b[0m \u001b[0;34m(\u001b[0m\u001b[0mfalse_negatives_rate\u001b[0m\u001b[0;34m,\u001b[0m \u001b[0mfalse_positives_rate\u001b[0m\u001b[0;34m)\u001b[0m\u001b[0;34m\u001b[0m\u001b[0m\n\u001b[1;32m      9\u001b[0m \u001b[0;34m\u001b[0m\u001b[0m\n\u001b[0;32m---> 10\u001b[0;31m \u001b[0mfalse_negatives\u001b[0m\u001b[0;34m,\u001b[0m \u001b[0mtrue_negatives\u001b[0m \u001b[0;34m=\u001b[0m \u001b[0mcompute_cut_off_values\u001b[0m\u001b[0;34m(\u001b[0m\u001b[0mcut_off\u001b[0m\u001b[0;34m)\u001b[0m\u001b[0;34m\u001b[0m\u001b[0m\n\u001b[0m\u001b[1;32m     11\u001b[0m \u001b[0mprint\u001b[0m\u001b[0;34m(\u001b[0m\u001b[0;34m\"Number of correclty assigned examples that wouldn't be assigned a class:\"\u001b[0m\u001b[0;34m)\u001b[0m\u001b[0;34m\u001b[0m\u001b[0m\n\u001b[1;32m     12\u001b[0m \u001b[0mprint\u001b[0m\u001b[0;34m(\u001b[0m\u001b[0;34m\"{}\"\u001b[0m\u001b[0;34m.\u001b[0m\u001b[0mformat\u001b[0m\u001b[0;34m(\u001b[0m\u001b[0;34m(\u001b[0m\u001b[0mfalse_negatives\u001b[0m \u001b[0;34m*\u001b[0m \u001b[0mlen\u001b[0m\u001b[0;34m(\u001b[0m\u001b[0mcorrect_indices\u001b[0m\u001b[0;34m)\u001b[0m\u001b[0;34m)\u001b[0m\u001b[0;34m)\u001b[0m\u001b[0;34m)\u001b[0m\u001b[0;34m\u001b[0m\u001b[0m\n",
      "\u001b[0;32m<ipython-input-23-34448d75a0b4>\u001b[0m in \u001b[0;36mcompute_cut_off_values\u001b[0;34m(cut_off)\u001b[0m\n\u001b[1;32m      2\u001b[0m \u001b[0;34m\u001b[0m\u001b[0m\n\u001b[1;32m      3\u001b[0m \u001b[0;32mdef\u001b[0m \u001b[0mcompute_cut_off_values\u001b[0m\u001b[0;34m(\u001b[0m\u001b[0mcut_off\u001b[0m\u001b[0;34m)\u001b[0m\u001b[0;34m:\u001b[0m\u001b[0;34m\u001b[0m\u001b[0m\n\u001b[0;32m----> 4\u001b[0;31m     \u001b[0mfalse_negatives\u001b[0m \u001b[0;34m=\u001b[0m \u001b[0mlen\u001b[0m\u001b[0;34m(\u001b[0m\u001b[0mnp\u001b[0m\u001b[0;34m.\u001b[0m\u001b[0margwhere\u001b[0m\u001b[0;34m(\u001b[0m\u001b[0mmax2_difference_correct_probabilities\u001b[0m \u001b[0;34m<\u001b[0m \u001b[0mcut_off\u001b[0m\u001b[0;34m)\u001b[0m\u001b[0;34m)\u001b[0m\u001b[0;34m\u001b[0m\u001b[0m\n\u001b[0m\u001b[1;32m      5\u001b[0m     \u001b[0mfalse_positives\u001b[0m \u001b[0;34m=\u001b[0m \u001b[0mlen\u001b[0m\u001b[0;34m(\u001b[0m\u001b[0mnp\u001b[0m\u001b[0;34m.\u001b[0m\u001b[0margwhere\u001b[0m\u001b[0;34m(\u001b[0m\u001b[0mmax2_difference_incorrect_probabilities\u001b[0m \u001b[0;34m>\u001b[0m \u001b[0mcut_off\u001b[0m\u001b[0;34m)\u001b[0m\u001b[0;34m)\u001b[0m\u001b[0;34m\u001b[0m\u001b[0m\n\u001b[1;32m      6\u001b[0m     \u001b[0mfalse_negatives_rate\u001b[0m \u001b[0;34m=\u001b[0m \u001b[0mfalse_negatives\u001b[0m\u001b[0;34m/\u001b[0m\u001b[0mlen\u001b[0m\u001b[0;34m(\u001b[0m\u001b[0mcorrect_indices\u001b[0m\u001b[0;34m)\u001b[0m\u001b[0;34m\u001b[0m\u001b[0m\n",
      "\u001b[0;31mNameError\u001b[0m: name 'max2_difference_correct_probabilities' is not defined"
     ]
    }
   ],
   "source": [
    "cut_off = 0.1\n",
    "\n",
    "def compute_cut_off_values(cut_off):\n",
    "    false_negatives = len(np.argwhere(max2_difference_correct_probabilities < cut_off))\n",
    "    false_positives = len(np.argwhere(max2_difference_incorrect_probabilities > cut_off))\n",
    "    false_negatives_rate = false_negatives/len(correct_indices)\n",
    "    false_positives_rate = false_positives/len(incorrect_indices)\n",
    "    return (false_negatives_rate, false_positives_rate)\n",
    "\n",
    "false_negatives, true_negatives = compute_cut_off_values(cut_off)\n",
    "print(\"Number of correclty assigned examples that wouldn't be assigned a class:\")\n",
    "print(\"{}\".format((false_negatives * len(correct_indices))))\n",
    "\n",
    "print(\"Number of incorreclty assigned examples that would be assigned a class:\")\n",
    "print(\"{}\".format(true_negatives * len(incorrect_indices)))\n",
    "\n",
    "cut_offs = np.linspace(0.0, 0.35, num = 100)\n",
    "y = np.vectorize(compute_cut_off_values)(cut_offs)\n",
    "plt.plot(cut_offs, y[0], label=\"false negatives rate\")\n",
    "plt.plot(cut_offs, y[1], label=\"false positives rate\")\n",
    "plt.legend()"
   ]
  },
  {
   "cell_type": "code",
   "execution_count": 24,
   "metadata": {
    "collapsed": true
   },
   "outputs": [],
   "source": [
    "cut_offs = np.linspace"
   ]
  },
  {
   "cell_type": "markdown",
   "metadata": {},
   "source": [
    "# Inspect examples classified differently"
   ]
  },
  {
   "cell_type": "code",
   "execution_count": 25,
   "metadata": {},
   "outputs": [
    {
     "data": {
      "text/plain": [
       "81"
      ]
     },
     "execution_count": 25,
     "metadata": {},
     "output_type": "execute_result"
    }
   ],
   "source": [
    "len(np.argwhere(cnn_predictions != predictions))"
   ]
  },
  {
   "cell_type": "code",
   "execution_count": 26,
   "metadata": {},
   "outputs": [
    {
     "data": {
      "text/plain": [
       "48"
      ]
     },
     "execution_count": 26,
     "metadata": {},
     "output_type": "execute_result"
    }
   ],
   "source": [
    "#Number of elements classified correclty by CNN and not by GP\n",
    "len(np.argwhere((cnn_predictions == y_test) & (predictions != y_test)))"
   ]
  },
  {
   "cell_type": "code",
   "execution_count": 27,
   "metadata": {},
   "outputs": [
    {
     "data": {
      "text/plain": [
       "31"
      ]
     },
     "execution_count": 27,
     "metadata": {},
     "output_type": "execute_result"
    }
   ],
   "source": [
    "#Number of elements classified correclty by GP and not by CNN\n",
    "len(np.argwhere((cnn_predictions != y_test) & (predictions == y_test)))"
   ]
  },
  {
   "cell_type": "code",
   "execution_count": 28,
   "metadata": {},
   "outputs": [
    {
     "data": {
      "text/plain": [
       "63"
      ]
     },
     "execution_count": 28,
     "metadata": {},
     "output_type": "execute_result"
    }
   ],
   "source": [
    "#Number of elements missclassified by both\n",
    "len(np.argwhere((cnn_predictions != y_test) & (predictions != y_test)))"
   ]
  },
  {
   "cell_type": "code",
   "execution_count": 29,
   "metadata": {},
   "outputs": [
    {
     "name": "stdout",
     "output_type": "stream",
     "text": [
      "CNN prediction: 3\n",
      "GP prediction: 5\n",
      "GP confidence: 0.274 from [0.045 0.083 0.05  0.171 0.051 0.274 0.056 0.053 0.138 0.079]\n"
     ]
    },
    {
     "data": {
      "image/png": "[encoded data removed]",
      "text/plain": [
       "<matplotlib.figure.Figure at 0x11bbdfcc0>"
      ]
     },
     "metadata": {},
     "output_type": "display_data"
    }
   ],
   "source": [
    "index = np.argwhere((cnn_predictions == y_test) & (predictions != y_test))[9][0]\n",
    "plt.imshow(X_test[index].reshape(28,28),cmap =plt.cm.gray_r, interpolation = \"nearest\") \n",
    "print(\"CNN prediction: {}\".format(cnn_predictions[index]))\n",
    "print(\"GP prediction: {}\".format(predictions[index]))\n",
    "print(\"GP confidence: {} from {}\".format(np.round(np.max(predictions_proba[index]),3), np.round(predictions_proba[index], decimals=3)))"
   ]
  },
  {
   "cell_type": "code",
   "execution_count": 30,
   "metadata": {},
   "outputs": [
    {
     "name": "stdout",
     "output_type": "stream",
     "text": [
      "CNN prediction: 3\n",
      "GP prediction: 1\n",
      "GP confidence: 0.166 from [0.044 0.166 0.106 0.125 0.067 0.066 0.088 0.144 0.11  0.084]\n",
      "Correct label: 7\n"
     ]
    },
    {
     "data": {
      "image/png": "[encoded data removed]",
      "text/plain": [
       "<matplotlib.figure.Figure at 0x123df0a20>"
      ]
     },
     "metadata": {},
     "output_type": "display_data"
    }
   ],
   "source": [
    "index = np.argwhere((cnn_predictions != y_test) & (predictions != y_test) & (predictions != cnn_predictions))[0][0]\n",
    "plt.imshow(X_test[index].reshape(28,28),cmap =plt.cm.gray_r, interpolation = \"nearest\") \n",
    "print(\"CNN prediction: {}\".format(cnn_predictions[index]))\n",
    "print(\"GP prediction: {}\".format(predictions[index]))\n",
    "print(\"GP confidence: {} from {}\".format(np.round(np.max(predictions_proba[index]),3), np.round(predictions_proba[index], decimals=3)))\n",
    "print(\"Correct label: {}\".format(y_test[index]))"
   ]
  },
  {
   "cell_type": "code",
   "execution_count": 31,
   "metadata": {},
   "outputs": [
    {
     "name": "stdout",
     "output_type": "stream",
     "text": [
      "CNN prediction: 7\n",
      "GP prediction: 7\n",
      "GP confidence: 0.319 from [0.055 0.055 0.212 0.097 0.035 0.037 0.059 0.319 0.094 0.037]\n",
      "Correct label: 2\n"
     ]
    },
    {
     "data": {
      "image/png": "[encoded data removed]",
      "text/plain": [
       "<matplotlib.figure.Figure at 0x123f40ef0>"
      ]
     },
     "metadata": {},
     "output_type": "display_data"
    }
   ],
   "source": [
    "index = np.argwhere((cnn_predictions != y_test) & (predictions != y_test) & (predictions == cnn_predictions))[0][0]\n",
    "plt.imshow(X_test[index].reshape(28,28),cmap =plt.cm.gray_r, interpolation = \"nearest\") \n",
    "print(\"CNN prediction: {}\".format(cnn_predictions[index]))\n",
    "print(\"GP prediction: {}\".format(predictions[index]))\n",
    "print(\"GP confidence: {} from {}\".format(np.round(np.max(predictions_proba[index]),3), np.round(predictions_proba[index], decimals=3)))\n",
    "print(\"Correct label: {}\".format(y_test[index]))"
   ]
  }
 ],
 "metadata": {
  "anaconda-cloud": {},
  "kernelspec": {
   "display_name": "Python 3",
   "language": "python",
   "name": "python3"
  },
  "language_info": {
   "codemirror_mode": {
    "name": "ipython",
    "version": 3
   },
   "file_extension": ".py",
   "mimetype": "text/x-python",
   "name": "python",
   "nbconvert_exporter": "python",
   "pygments_lexer": "ipython3",
   "version": "3.6.4"
  },
  "toc": {
   "nav_menu": {},
   "number_sections": true,
   "sideBar": true,
   "skip_h1_title": false,
   "toc_cell": false,
   "toc_position": {},
   "toc_section_display": "block",
   "toc_window_display": false
  }
 },
 "nbformat": 4,
 "nbformat_minor": 1
}
