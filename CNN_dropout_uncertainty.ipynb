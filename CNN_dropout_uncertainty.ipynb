{
 "cells": [
  {
   "cell_type": "code",
   "execution_count": 4,
   "metadata": {},
   "outputs": [],
   "source": [
    "import keras\n",
    "from keras.datasets import mnist\n",
    "from keras import backend as K\n",
    "import numpy as np\n",
    "from matplotlib import pyplot as plt\n",
    "# from sklearn.metrics import classification_report"
   ]
  },
  {
   "cell_type": "code",
   "execution_count": 5,
   "metadata": {},
   "outputs": [],
   "source": [
    "(X_train, y_train), (X_test, y_test) = mnist.load_data()\n",
    "\n",
    "X_train = X_train.astype('float32')\n",
    "X_test = X_test.astype('float32')\n",
    "\n",
    "X_train /= 255\n",
    "X_test /= 255\n",
    "\n",
    "num_classes = 10\n",
    "y_train_one_hot = keras.utils.to_categorical(y_train, num_classes)\n",
    "y_test_one_hot = keras.utils.to_categorical(y_test, num_classes)"
   ]
  },
  {
   "cell_type": "code",
   "execution_count": 6,
   "metadata": {},
   "outputs": [
    {
     "name": "stdout",
     "output_type": "stream",
     "text": [
      "Image data format: channels_last\n"
     ]
    }
   ],
   "source": [
    "#Handle Theano and Tensorflow data format\n",
    "img_rows, img_cols = 28,28\n",
    "\n",
    "print(\"Image data format: {}\".format(K.image_data_format()))\n",
    "\n",
    "if K.image_data_format() == 'channel_first':\n",
    "    X_train = x_train.reshape(X_train.shape[0], 1, img_rows, img_cols)\n",
    "    X_test = x_test.reshape(X_test.shape[0], 1, img_rows, img_cols)\n",
    "    input_shape = (1, img_rows, img_cols)\n",
    "else:\n",
    "    X_train = X_train.reshape(X_train.shape[0], img_rows, img_cols, 1)\n",
    "    X_test = X_test.reshape(X_test.shape[0], img_rows, img_cols, 1)\n",
    "    input_shape = (img_rows, img_cols, 1)"
   ]
  },
  {
   "cell_type": "code",
   "execution_count": 7,
   "metadata": {},
   "outputs": [],
   "source": [
    "model = keras.models.load_model('my_model.h5')\n",
    "dropout_model = keras.models.load_model('permanent_dropout_model.h5')"
   ]
  },
  {
   "cell_type": "code",
   "execution_count": 8,
   "metadata": {},
   "outputs": [
    {
     "name": "stdout",
     "output_type": "stream",
     "text": [
      "Test loss: 0.028256796755890535\n",
      "Test accuracy: 0.9906\n",
      "Test loss: 0.04403473533888755\n",
      "Test accuracy: 0.9857\n"
     ]
    }
   ],
   "source": [
    "#evaluate CNN\n",
    "score = model.evaluate(X_test, y_test_one_hot, verbose=0)\n",
    "print(\"Test loss: {}\".format(score[0]))\n",
    "print(\"Test accuracy: {}\".format(score[1]))\n",
    "score = dropout_model.evaluate(X_test, y_test_one_hot, verbose=0)\n",
    "print(\"Test loss: {}\".format(score[0]))\n",
    "print(\"Test accuracy: {}\".format(score[1]))\n",
    "# print(X_test.shape)\n",
    "# cnn_predictions = np.argmax(model.predict(X_test), axis=1)\n",
    "# print(classification_report(y_test, cnn_predictions))"
   ]
  },
  {
   "cell_type": "code",
   "execution_count": 9,
   "metadata": {},
   "outputs": [
    {
     "data": {
      "text/plain": [
       "<matplotlib.image.AxesImage at 0x12fbe5898>"
      ]
     },
     "execution_count": 9,
     "metadata": {},
     "output_type": "execute_result"
    },
    {
     "data": {
      "image/png": "[encoded data removed]",
      "text/plain": [
       "<matplotlib.figure.Figure at 0x11d798eb8>"
      ]
     },
     "metadata": {},
     "output_type": "display_data"
    }
   ],
   "source": [
    "%matplotlib inline\n",
    "plt.imshow(X_test[5720].reshape(28,28),cmap =plt.cm.gray_r, interpolation = \"nearest\")"
   ]
  },
  {
   "cell_type": "code",
   "execution_count": 10,
   "metadata": {},
   "outputs": [
    {
     "name": "stdout",
     "output_type": "stream",
     "text": [
      "(1, 28, 28, 1)\n",
      "0.0 0.0\n",
      "\n",
      "0.0111 0.0091\n",
      "\n",
      "0.0 1e-04\n",
      "\n",
      "0.0 0.0\n",
      "\n",
      "0.9889 0.9899\n",
      "\n",
      "0.0 0.0002\n",
      "\n",
      "0.0 1e-04\n",
      "\n",
      "0.0 0.0002\n",
      "\n",
      "0.0 0.0004\n",
      "\n",
      "0.0 1e-04\n",
      "\n"
     ]
    }
   ],
   "source": [
    "test_img = np.expand_dims(X_test[5720],axis=0)\n",
    "print(test_img.shape)\n",
    "p1s = dropout_model.predict(test_img)[0]\n",
    "p2s = model.predict(test_img)[0]\n",
    "for p1, p2 in zip(p1s, p2s):\n",
    "    print(np.round(p1, 4),np.round(p2, 4))\n",
    "    print()"
   ]
  },
  {
   "cell_type": "code",
   "execution_count": 11,
   "metadata": {},
   "outputs": [
    {
     "name": "stdout",
     "output_type": "stream",
     "text": [
      "(1, 10)\n",
      "(1000, 1, 10)\n"
     ]
    },
    {
     "data": {
      "text/plain": [
       "<Container object of 10 artists>"
      ]
     },
     "execution_count": 11,
     "metadata": {},
     "output_type": "execute_result"
    },
    {
     "data": {
      "image/png": "[encoded data removed]",
      "text/plain": [
       "<matplotlib.figure.Figure at 0x12d3f1ba8>"
      ]
     },
     "metadata": {},
     "output_type": "display_data"
    }
   ],
   "source": [
    "def predict_mean_and_var(X, T=1000, l=1):\n",
    "    results = []\n",
    "    for i in range(T):\n",
    "        results.append(dropout_model.predict(X))\n",
    "    results = np.array(results)\n",
    "    means = np.mean(results, axis=0)\n",
    "    std = np.std(results, axis=0)\n",
    "    print(means.shape)\n",
    "    print(results.shape)\n",
    "    return means, std\n",
    "mean, std = predict_mean_and_var(test_img)\n",
    "plt.bar(np.arange(10), mean[0], yerr=std[0])"
   ]
  },
  {
   "cell_type": "code",
   "execution_count": null,
   "metadata": {},
   "outputs": [],
   "source": []
  },
  {
   "cell_type": "code",
   "execution_count": null,
   "metadata": {},
   "outputs": [],
   "source": []
  }
 ],
 "metadata": {
  "kernelspec": {
   "display_name": "Python 3",
   "language": "python",
   "name": "python3"
  },
  "language_info": {
   "codemirror_mode": {
    "name": "ipython",
    "version": 3
   },
   "file_extension": ".py",
   "mimetype": "text/x-python",
   "name": "python",
   "nbconvert_exporter": "python",
   "pygments_lexer": "ipython3",
   "version": "3.5.4"
  },
  "toc": {
   "nav_menu": {},
   "number_sections": true,
   "sideBar": true,
   "skip_h1_title": false,
   "toc_cell": false,
   "toc_position": {},
   "toc_section_display": "block",
   "toc_window_display": false
  }
 },
 "nbformat": 4,
 "nbformat_minor": 2
}
