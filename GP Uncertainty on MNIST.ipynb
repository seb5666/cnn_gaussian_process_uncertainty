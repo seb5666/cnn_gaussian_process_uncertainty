{
 "cells": [
  {
   "cell_type": "code",
   "execution_count": 1,
   "metadata": {},
   "outputs": [
    {
     "name": "stderr",
     "output_type": "stream",
     "text": [
      "Using TensorFlow backend.\n"
     ]
    }
   ],
   "source": [
    "from get_mnist_features import get_gp_mnist_data\n",
    "from keras.datasets import mnist\n",
    "import numpy as np\n",
    "import scipy.io\n",
    "\n",
    "from keras.utils import to_categorical\n",
    "from keras import backend as K\n",
    "\n",
    "from matplotlib import pyplot as plt\n",
    "plt.style.use('ggplot')"
   ]
  },
  {
   "cell_type": "code",
   "execution_count": 2,
   "metadata": {},
   "outputs": [],
   "source": [
    "# %%time\n",
    "# (mnist_train, X_train, y_train) ,(mnist_test, X_test, y_test) = get_gp_mnist_data('my_model.h5')\n",
    "mnist_train = np.load('data/mnist_train.npy')\n",
    "X_train = np.load('data/X_train.npy')\n",
    "y_train = np.load('data/y_train.npy')\n",
    "mnist_test = np.load('data/mnist_test.npy')\n",
    "X_test = np.load('data/X_test.npy')\n",
    "y_test = np.load('data/y_test.npy')"
   ]
  },
  {
   "cell_type": "code",
   "execution_count": 3,
   "metadata": {},
   "outputs": [],
   "source": [
    "# (mnist_train, y_train), (mnist_test, y_test) = mnist.load_data()\n",
    "\n",
    "# mnist_train = mnist_train.astype('float32')\n",
    "# mnist_train /= 255\n",
    "# mnist_test = mnist_test.astype('float32')\n",
    "# mnist_test /= 255\n",
    "\n",
    "# #Handle Theano and Tensorflow data format\n",
    "# img_rows, img_cols = 28,28\n",
    "\n",
    "# print(\"Image data format: {}\".format(K.image_data_format()))\n",
    "\n",
    "# if K.image_data_format() == 'channel_first':\n",
    "#     mnist_train = mnist_train.reshape(mnist_train.shape[0], 1, img_rows, img_cols)\n",
    "#     mnist_test = mnist_test.reshape(mnist_test.shape[0], 1, img_rows, img_cols)\n",
    "#     input_shape = (1, img_rows, img_cols)\n",
    "# else:\n",
    "#     mnist_train = mnist_train.reshape(mnist_train.shape[0], img_rows, img_cols, 1)\n",
    "#     mnist_test = mnist_test.reshape(mnist_test.shape[0], img_rows, img_cols, 1)\n",
    "#     input_shape = (img_rows, img_cols, 1)\n",
    "\n",
    "# X_train = get_gp_mnist_data('my_model.h5', mnist_train)\n",
    "# X_test = get_gp_mnist_data('my_model.h5', mnist_test)"
   ]
  },
  {
   "cell_type": "code",
   "execution_count": 4,
   "metadata": {},
   "outputs": [
    {
     "name": "stdout",
     "output_type": "stream",
     "text": [
      "(60000, 128)\n",
      "(60000,)\n",
      "(10000, 128)\n",
      "(10000,)\n"
     ]
    }
   ],
   "source": [
    "print(X_train.shape)\n",
    "print(y_train.shape)\n",
    "print(X_test.shape)\n",
    "print(y_test.shape)"
   ]
  },
  {
   "cell_type": "markdown",
   "metadata": {},
   "source": [
    "# Train a GP on the features"
   ]
  },
  {
   "cell_type": "code",
   "execution_count": 5,
   "metadata": {},
   "outputs": [],
   "source": [
    "import gpflow\n",
    "import tensorflow as tf\n",
    "\n",
    "from sklearn.metrics import classification_report\n",
    "\n",
    "from matplotlib import pyplot as plt"
   ]
  },
  {
   "cell_type": "code",
   "execution_count": 6,
   "metadata": {},
   "outputs": [],
   "source": [
    "num_classes = 10\n",
    "num_features = 128"
   ]
  },
  {
   "cell_type": "code",
   "execution_count": 7,
   "metadata": {
    "scrolled": false
   },
   "outputs": [
    {
     "name": "stdout",
     "output_type": "stream",
     "text": [
      "CPU times: user 819 ms, sys: 32.2 ms, total: 851 ms\n",
      "Wall time: 864 ms\n"
     ]
    }
   ],
   "source": [
    "%%time\n",
    "X_train = X_train.astype('float64').reshape(-1,num_features)[:100]\n",
    "y_train = y_train.astype('float64').reshape(-1,1)[:100]\n",
    "kernel = gpflow.kernels.Matern32(num_features) + gpflow.kernels.White(num_features, variance=0.01)\n",
    "likelihood = gpflow.likelihoods.MultiClass(num_classes)\n",
    "Z=X_train[::5].copy()\n",
    "num_latent=num_classes\n",
    "whiten=True\n",
    "q_diag=True\n",
    "m = gpflow.models.SVGP(X_train, y_train, \n",
    "                       kern=kernel, \n",
    "                       likelihood=likelihood,\n",
    "                       Z=Z, \n",
    "                       num_latent=num_latent,\n",
    "                       whiten=whiten, \n",
    "                       q_diag=q_diag)\n",
    "\n",
    "m.kern.white.variance.trainable = False\n",
    "m.feature.trainable = False\n",
    "m.as_pandas_table()"
   ]
  },
  {
   "cell_type": "code",
   "execution_count": 8,
   "metadata": {},
   "outputs": [
    {
     "name": "stdout",
     "output_type": "stream",
     "text": [
      "INFO:tensorflow:Optimization terminated with:\n",
      "  Message: b'STOP: TOTAL NO. of ITERATIONS EXCEEDS LIMIT'\n",
      "  Objective function value: 177.267472\n",
      "  Number of iterations: 1001\n",
      "  Number of functions evaluations: 1073\n",
      "CPU times: user 31.4 s, sys: 2.25 s, total: 33.6 s\n",
      "Wall time: 8.65 s\n"
     ]
    }
   ],
   "source": [
    "%%time\n",
    "opt = gpflow.train.ScipyOptimizer()\n",
    "opt.minimize(m)"
   ]
  },
  {
   "cell_type": "code",
   "execution_count": 11,
   "metadata": {},
   "outputs": [
    {
     "name": "stdout",
     "output_type": "stream",
     "text": [
      "(10000, 128)\n",
      "CPU times: user 6.79 s, sys: 142 ms, total: 6.93 s\n",
      "Wall time: 953 ms\n"
     ]
    }
   ],
   "source": [
    "%%time\n",
    "X_test = X_test.astype('float64').reshape(-1,num_features)\n",
    "print(X_test.shape)\n",
    "p, var = m.predict_y(X_test)"
   ]
  },
  {
   "cell_type": "code",
   "execution_count": 12,
   "metadata": {},
   "outputs": [
    {
     "name": "stdout",
     "output_type": "stream",
     "text": [
      "[[2.68597941e-04 1.85148033e-04 7.78793662e-04 ... 9.96075899e-01\n",
      "  1.73033861e-04 5.54928026e-04]\n",
      " [1.04393362e-01 1.44536295e-01 6.52569864e-01 ... 9.58591128e-03\n",
      "  1.06530593e-02 3.44931639e-03]\n",
      " [4.25945280e-04 9.89780489e-01 3.92046705e-04 ... 1.94998899e-03\n",
      "  4.43811416e-04 9.31006073e-04]\n",
      " ...\n",
      " [5.22573589e-04 3.17724683e-03 2.18053407e-04 ... 1.22705493e-03\n",
      "  3.67688068e-03 1.79455581e-02]\n",
      " [1.97513243e-02 2.88123454e-03 1.32647344e-03 ... 3.30478204e-03\n",
      "  5.33262661e-02 7.48921662e-03]\n",
      " [1.86058991e-03 1.53205233e-03 1.25547392e-03 ... 3.89038348e-04\n",
      "  3.03543387e-04 2.30972395e-04]]\n"
     ]
    }
   ],
   "source": [
    "print(p)"
   ]
  },
  {
   "cell_type": "code",
   "execution_count": 13,
   "metadata": {},
   "outputs": [
    {
     "name": "stdout",
     "output_type": "stream",
     "text": [
      "0.9668\n",
      "             precision    recall  f1-score   support\n",
      "\n",
      "          0       0.97      1.00      0.98       980\n",
      "          1       0.93      1.00      0.96      1135\n",
      "          2       0.99      0.92      0.95      1032\n",
      "          3       0.99      0.97      0.98      1010\n",
      "          4       0.98      0.98      0.98       982\n",
      "          5       1.00      0.93      0.97       892\n",
      "          6       0.97      0.98      0.98       958\n",
      "          7       0.97      0.98      0.97      1028\n",
      "          8       1.00      0.90      0.95       974\n",
      "          9       0.90      0.99      0.94      1009\n",
      "\n",
      "avg / total       0.97      0.97      0.97     10000\n",
      "\n"
     ]
    }
   ],
   "source": [
    "predictions = np.argmax(p, axis=-1)\n",
    "accuracy = len(np.argwhere(predictions == y_test))/len(predictions)\n",
    "print(accuracy)\n",
    "print(classification_report(y_test, predictions))"
   ]
  },
  {
   "cell_type": "code",
   "execution_count": 14,
   "metadata": {},
   "outputs": [
    {
     "name": "stdout",
     "output_type": "stream",
     "text": [
      "332\n"
     ]
    }
   ],
   "source": [
    "incorrect_indices = np.argwhere(predictions != y_test)\n",
    "correct_indices = np.argwhere(predictions == y_test)\n",
    "print(len(incorrect_indices))"
   ]
  },
  {
   "cell_type": "code",
   "execution_count": 15,
   "metadata": {},
   "outputs": [
    {
     "name": "stdout",
     "output_type": "stream",
     "text": [
      "[6.50504802e-03 1.98520698e-04 1.32291706e-04 8.07871977e-02\n",
      " 1.04545448e-03 2.30621734e-01 3.93822289e-03 3.38124841e-04\n",
      " 3.11068970e-02 2.49970795e-01]\n",
      "Correct class: [5]\n"
     ]
    },
    {
     "data": {
      "text/plain": [
       "<matplotlib.image.AxesImage at 0x10e4dde80>"
      ]
     },
     "execution_count": 15,
     "metadata": {},
     "output_type": "execute_result"
    },
    {
     "data": {
      "image/png": "[encoded data removed]",
      "text/plain": [
       "<matplotlib.figure.Figure at 0x127f0d6d8>"
      ]
     },
     "metadata": {},
     "output_type": "display_data"
    },
    {
     "data": {
      "image/png": "[encoded data removed]",
      "text/plain": [
       "<matplotlib.figure.Figure at 0x103150160>"
      ]
     },
     "metadata": {},
     "output_type": "display_data"
    }
   ],
   "source": [
    "%matplotlib inline\n",
    "index = incorrect_indices[5]\n",
    "print(var[index].squeeze())\n",
    "plt.bar(np.arange(10), p[index].squeeze(), yerr=var[index].squeeze())\n",
    "print(\"Correct class: {}\".format(y_test[index]))\n",
    "plt.figure()\n",
    "plt.imshow(mnist_test[index].reshape(28,28),cmap =plt.cm.gray_r, interpolation = \"nearest\") "
   ]
  },
  {
   "cell_type": "code",
   "execution_count": 15,
   "metadata": {},
   "outputs": [
    {
     "name": "stdout",
     "output_type": "stream",
     "text": [
      "[5720]\n",
      "[0.00165221 0.40404075 0.00143458 0.00313678 0.49867503 0.01146105\n",
      " 0.02592355 0.0073347  0.00480161 0.0407411 ]\n",
      "[0.00164948 0.24079182 0.00143252 0.00312694 0.24999824 0.01132969\n",
      " 0.02525152 0.0072809  0.00477856 0.03908127]\n",
      "Correct class: [4]\n"
     ]
    },
    {
     "data": {
      "text/plain": [
       "<matplotlib.image.AxesImage at 0x11cb61d30>"
      ]
     },
     "execution_count": 15,
     "metadata": {},
     "output_type": "execute_result"
    },
    {
     "data": {
      "image/png": "[encoded data removed]",
      "text/plain": [
       "<matplotlib.figure.Figure at 0x111c7f978>"
      ]
     },
     "metadata": {},
     "output_type": "display_data"
    },
    {
     "data": {
      "image/png": "[encoded data removed]",
      "text/plain": [
       "<matplotlib.figure.Figure at 0x11cac8908>"
      ]
     },
     "metadata": {},
     "output_type": "display_data"
    }
   ],
   "source": [
    "# %matplotlib inline\n",
    "index = correct_indices[5496]\n",
    "print(index)\n",
    "print(p[index].squeeze())\n",
    "print(var[index].squeeze())\n",
    "plt.bar(np.arange(10), p[index].squeeze(), yerr=var[index].squeeze())\n",
    "print(\"Correct class: {}\".format(y_test[index]))\n",
    "plt.figure()\n",
    "plt.imshow(mnist_test[index].reshape(28,28),cmap =plt.cm.gray_r, interpolation = \"nearest\") "
   ]
  },
  {
   "cell_type": "markdown",
   "metadata": {},
   "source": [
    "## Noisy mnist"
   ]
  },
  {
   "cell_type": "code",
   "execution_count": 16,
   "metadata": {},
   "outputs": [
    {
     "name": "stdout",
     "output_type": "stream",
     "text": [
      "['train_y', 'train_x', '__version__', '__globals__', '__header__', 'test_x', 'test_y']\n",
      "['train_y', 'train_x', '__version__', '__globals__', '__header__', 'test_x', 'test_y']\n",
      "['train_y', 'train_x', '__version__', '__globals__', '__header__', 'test_x', 'test_y']\n"
     ]
    }
   ],
   "source": [
    "def load_data(DATA_DIR):\n",
    "    rows, cols = 28, 28\n",
    "    nb_classes = 10\n",
    "\n",
    "    mat = scipy.io.loadmat(DATA_DIR)\n",
    "    print(list(mat.keys()))\n",
    "    X_train = mat['train_x']\n",
    "    Y_train = np.argmax(mat['train_y'], axis=-1)\n",
    "    X_test = mat['test_x']\n",
    "    Y_test = np.argmax(mat['test_y'], axis=-1)\n",
    "    \n",
    "    # Reshape and format input\n",
    "    \n",
    "    #Renormalize images\n",
    "    X_train = X_train.astype('float32')\n",
    "    X_train /= 255.0\n",
    "    X_test = X_test.astype('float32')\n",
    "    X_test /= 255.0\n",
    "\n",
    "    return (X_train, Y_train, X_test, Y_test)\n",
    "\n",
    "(noisy_nmist_X_train, noisy_nmist_Y_train, noisy_nmist_X_test, noisy_nmist_Y_test) = load_data('data/mnist-with-awgn.mat')\n",
    "(blur_nmist_X_train, blur_nmist_Y_train, blur_nmist_X_test, blur_nmist_Y_test) = load_data('data/mnist-with-motion-blur.mat')\n",
    "(contrast_nmist_X_train, contrast_nmist_Y_train, contrast_nmist_X_test, contrast_nmist_Y_test) = load_data('data/mnist-with-reduced-contrast-and-awgn.mat')"
   ]
  },
  {
   "cell_type": "markdown",
   "metadata": {},
   "source": [
    "## Use CNN to predict noisy training examples. Note that these are unseen although called 'training'"
   ]
  },
  {
   "cell_type": "code",
   "execution_count": 19,
   "metadata": {},
   "outputs": [],
   "source": [
    "import keras"
   ]
  },
  {
   "cell_type": "code",
   "execution_count": 20,
   "metadata": {
    "scrolled": false
   },
   "outputs": [],
   "source": [
    "img_rows, img_cols = 28,28\n",
    "\n",
    "model = keras.models.load_model('my_model.h5')\n",
    "cnn_noisy_predictions_probas = model.predict(noisy_nmist_X_train.reshape(-1, img_rows, img_cols, 1))\n",
    "cnn_noisy_predictions = np.argmax(cnn_noisy_predictions_probas, axis=-1)\n",
    "\n",
    "cnn_blur_predictions_probas = model.predict(blur_nmist_X_train.reshape(-1, img_rows, img_cols, 1))\n",
    "cnn_blur_predictions = np.argmax(cnn_blur_predictions_probas, axis=-1)\n",
    "\n",
    "cnn_contrast_predictions_probas = model.predict(contrast_nmist_X_train.reshape(-1, img_rows, img_cols, 1))\n",
    "cnn_contrast_predictions = np.argmax(cnn_contrast_predictions_probas, axis=-1)"
   ]
  },
  {
   "cell_type": "code",
   "execution_count": 21,
   "metadata": {},
   "outputs": [
    {
     "name": "stdout",
     "output_type": "stream",
     "text": [
      "0.93545\n",
      "0.96515\n",
      "0.6971833333333334\n"
     ]
    }
   ],
   "source": [
    "noisy_accuracy = len(np.argwhere(cnn_noisy_predictions == noisy_nmist_Y_train))/len(noisy_nmist_Y_train)\n",
    "print(noisy_accuracy)\n",
    "\n",
    "blur_accuracy = len(np.argwhere(cnn_blur_predictions == blur_nmist_Y_train))/len(blur_nmist_Y_train)\n",
    "print(blur_accuracy)\n",
    "\n",
    "noisy_accuracy = len(np.argwhere(cnn_contrast_predictions == contrast_nmist_Y_train))/len(contrast_nmist_Y_train)\n",
    "print(noisy_accuracy)"
   ]
  },
  {
   "cell_type": "markdown",
   "metadata": {},
   "source": [
    "## Use GP to predict noisy training examples"
   ]
  },
  {
   "cell_type": "code",
   "execution_count": 23,
   "metadata": {
    "scrolled": false
   },
   "outputs": [
    {
     "name": "stdout",
     "output_type": "stream",
     "text": [
      "CPU times: user 2.79 ms, sys: 110 ms, total: 113 ms\n",
      "Wall time: 116 ms\n"
     ]
    }
   ],
   "source": [
    "%%time\n",
    "\n",
    "# noisy_X_train = get_gp_mnist_data('my_model.h5', noisy_nmist_X_train.reshape(-1, img_rows, img_cols, 1))\n",
    "# blur_X_train = get_gp_mnist_data('my_model.h5', blur_nmist_X_train.reshape(-1, img_rows, img_cols, 1))\n",
    "# contrast_X_train = get_gp_mnist_data('my_model.h5', contrast_nmist_X_train.reshape(-1, img_rows, img_cols, 1))\n",
    "\n",
    "noisy_X_train = np.load('data/noisy_X_train.npy')\n",
    "blur_X_train = np.load('data/blur_X_train.npy')\n",
    "contrast_X_train = np.load('data/contrast_X_train.npy')\n"
   ]
  },
  {
   "cell_type": "code",
   "execution_count": 24,
   "metadata": {},
   "outputs": [],
   "source": [
    "noisy_X_train = noisy_X_train.astype('float64').reshape(-1,num_features)\n",
    "noisy_probas, noisy_var = m.predict_y(noisy_X_train)\n",
    "noisy_predictions = np.argmax(noisy_probas, axis=-1)\n",
    "\n",
    "blur_X_train = blur_X_train.astype('float64').reshape(-1,num_features)\n",
    "blur_probas, blur_var = m.predict_y(blur_X_train)\n",
    "blur_predictions = np.argmax(blur_probas, axis=-1)\n",
    "\n",
    "contrast_X_train = contrast_X_train.astype('float64').reshape(-1,num_features)\n",
    "contrast_probas, contrast_var = m.predict_y(contrast_X_train)\n",
    "contrast_predictions = np.argmax(contrast_probas, axis=-1)"
   ]
  },
  {
   "cell_type": "code",
   "execution_count": 25,
   "metadata": {},
   "outputs": [
    {
     "name": "stdout",
     "output_type": "stream",
     "text": [
      "0.21068333333333333\n",
      "0.6075666666666667\n",
      "0.21068333333333333\n"
     ]
    }
   ],
   "source": [
    "noisy_accuracy = len(np.argwhere(noisy_predictions == noisy_nmist_Y_train))/len(noisy_nmist_Y_train)\n",
    "blur_accuracy = len(np.argwhere(blur_predictions == blur_nmist_Y_train))/len(blur_nmist_Y_train)\n",
    "contrast_accuracy = len(np.argwhere(contrast_predictions == contrast_nmist_Y_train))/len(contrast_nmist_Y_train)\n",
    "print(noisy_accuracy)\n",
    "print(blur_accuracy)\n",
    "print(contrast_accuracy)"
   ]
  },
  {
   "cell_type": "code",
   "execution_count": 26,
   "metadata": {},
   "outputs": [],
   "source": [
    "%matplotlib inline\n",
    "def draw_img(img, axes,title=\"\"):\n",
    "    axes.imshow(img.reshape(28,28),cmap =plt.cm.gray_r) \n",
    "    axes.set_xticks([])\n",
    "    axes.set_yticks([])\n",
    "    axes.set_title(title)\n",
    "    \n",
    "def draw_probs(prob, var=None, axes=None):\n",
    "    axes.bar(np.arange(10), prob, yerr=var)\n",
    "    axes.set_ylim([0,1])\n",
    "    axes.set_xticks(np.arange(10))\n",
    "#     axes.set_xlabel(\"Digit\")\n",
    "    \n",
    "def plot_noisy_example(img_index):\n",
    "    fig = plt.figure(figsize=(12,10))\n",
    "\n",
    "    draw_img(noisy_nmist_X_train[img_index], fig.add_subplot(3,3,1), title=\"White noise\")\n",
    "    draw_probs(noisy_probas[img_index], noisy_var[img_index], axes=fig.add_subplot(3,3,2)) \n",
    "    draw_probs(cnn_noisy_predictions_probas[img_index], axes=fig.add_subplot(3,3,3)) \n",
    "\n",
    "    draw_img(blur_nmist_X_train[img_index], fig.add_subplot(3,3,4), title=\"Motion blur\")\n",
    "    draw_probs(blur_probas[img_index], blur_var[img_index], axes=fig.add_subplot(3,3,5)) \n",
    "    draw_probs(cnn_blur_predictions_probas[img_index], axes=fig.add_subplot(3,3,6)) \n",
    "    \n",
    "    draw_img(contrast_nmist_X_train[img_index], fig.add_subplot(3,3,7), title=\"White noise + reduced contrast\")\n",
    "    draw_probs(contrast_probas[img_index], contrast_var[img_index], fig.add_subplot(3,3,8)) \n",
    "    draw_probs(cnn_contrast_predictions_probas[img_index], axes=fig.add_subplot(3,3,9)) \n",
    "    \n",
    "# img_index=1100\n",
    "# plot_noisy_example(img_index)"
   ]
  },
  {
   "cell_type": "code",
   "execution_count": 27,
   "metadata": {},
   "outputs": [
    {
     "name": "stdout",
     "output_type": "stream",
     "text": [
      "(47359, 1)\n",
      "(12641, 1)\n",
      "Index: 0\n",
      "Correct class: 4\n"
     ]
    },
    {
     "data": {
      "image/png": "[encoded data removed]",
      "text/plain": [
       "<matplotlib.figure.Figure at 0x10e5065f8>"
      ]
     },
     "metadata": {},
     "output_type": "display_data"
    }
   ],
   "source": [
    "incorrect_indices = np.argwhere(noisy_predictions != noisy_nmist_Y_train)\n",
    "correct_indices = np.argwhere(noisy_predictions == noisy_nmist_Y_train)\n",
    "print(incorrect_indices.shape)\n",
    "print(correct_indices.shape)\n",
    "img_index = incorrect_indices[0][0]\n",
    "print(\"Index: {}\".format(img_index))\n",
    "print(\"Correct class: {}\".format(noisy_nmist_Y_train[img_index]))\n",
    "plot_noisy_example(img_index)"
   ]
  },
  {
   "cell_type": "markdown",
   "metadata": {},
   "source": [
    "Instead of accuracy use correct prediction score:\n",
    "- 1 if correct prediction\n",
    "- 0 if NN says \"I don't know\"\n",
    "- -1 if incorrect"
   ]
  },
  {
   "cell_type": "markdown",
   "metadata": {},
   "source": [
    "1. Eyeball\n",
    "2. Invent metric\n",
    "3. Embed in end-to-end system"
   ]
  },
  {
   "cell_type": "code",
   "execution_count": 68,
   "metadata": {},
   "outputs": [
    {
     "data": {
      "image/png": "[encoded data removed]",
      "text/plain": [
       "<matplotlib.figure.Figure at 0x12ab24f98>"
      ]
     },
     "metadata": {},
     "output_type": "display_data"
    },
    {
     "data": {
      "image/png": "[encoded data removed]",
      "text/plain": [
       "<matplotlib.figure.Figure at 0x12a4ae8d0>"
      ]
     },
     "metadata": {},
     "output_type": "display_data"
    },
    {
     "data": {
      "image/png": "[encoded data removed]",
      "text/plain": [
       "<matplotlib.figure.Figure at 0x1277c8358>"
      ]
     },
     "metadata": {},
     "output_type": "display_data"
    }
   ],
   "source": [
    "fig = plt.figure(figsize=(14,4))\n",
    "test_index = 18\n",
    "cnn_pred = model.predict(np.array([mnist_test[test_index]]))[0]\n",
    "draw_img(mnist_test[test_index], fig.add_subplot(1,1,1), title=\"MNIST test image\")\n",
    "fig.savefig(\"figs/mnist_test.png\", bbox_inches=\"tight\")\n",
    "fig = plt.figure()\n",
    "draw_probs(p[test_index], var[test_index], axes=fig.add_subplot(1,1,1)) \n",
    "fig.savefig(\"figs/gp_test.png\", bbox_inches=\"tight\")\n",
    "fig = plt.figure()\n",
    "draw_probs(cnn_pred, axes=fig.add_subplot(1,1,1)) \n",
    "fig.savefig(\"figs/cnn_test.png\", bbox_inches=\"tight\")"
   ]
  },
  {
   "cell_type": "code",
   "execution_count": null,
   "metadata": {},
   "outputs": [],
   "source": []
  }
 ],
 "metadata": {
  "anaconda-cloud": {},
  "kernelspec": {
   "display_name": "Python [conda env:python3]",
   "language": "python",
   "name": "conda-env-python3-py"
  },
  "language_info": {
   "codemirror_mode": {
    "name": "ipython",
    "version": 3
   },
   "file_extension": ".py",
   "mimetype": "text/x-python",
   "name": "python",
   "nbconvert_exporter": "python",
   "pygments_lexer": "ipython3",
   "version": "3.5.4"
  },
  "toc": {
   "nav_menu": {},
   "number_sections": true,
   "sideBar": true,
   "skip_h1_title": false,
   "toc_cell": false,
   "toc_position": {},
   "toc_section_display": "block",
   "toc_window_display": false
  }
 },
 "nbformat": 4,
 "nbformat_minor": 2
}
