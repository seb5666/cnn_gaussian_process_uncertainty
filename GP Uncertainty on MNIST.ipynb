{
 "cells": [
  {
   "cell_type": "code",
   "execution_count": 3,
   "metadata": {},
   "outputs": [
    {
     "name": "stderr",
     "output_type": "stream",
     "text": [
      "Using TensorFlow backend.\n"
     ]
    }
   ],
   "source": [
    "from get_mnist_features import get_gp_mnist_data\n",
    "from keras.datasets import mnist\n",
    "import numpy as np\n",
    "import scipy.io\n",
    "\n",
    "from keras.utils import to_categorical\n",
    "from keras import backend as K\n",
    "\n",
    "from matplotlib import pyplot as plt\n",
    "plt.style.use('ggplot')"
   ]
  },
  {
   "cell_type": "code",
   "execution_count": 4,
   "metadata": {},
   "outputs": [],
   "source": [
    "# %%time\n",
    "# (mnist_train, X_train, y_train) ,(mnist_test, X_test, y_test) = get_gp_mnist_data('my_model.h5')\n",
    "mnist_train = np.load('data/mnist_train.npy')\n",
    "X_train = np.load('data/X_train.npy')\n",
    "y_train = np.load('data/y_train.npy')\n",
    "mnist_test = np.load('data/mnist_test.npy')\n",
    "X_test = np.load('data/X_test.npy')\n",
    "y_test = np.load('data/y_test.npy')"
   ]
  },
  {
   "cell_type": "code",
   "execution_count": 5,
   "metadata": {},
   "outputs": [],
   "source": [
    "# (mnist_train, y_train), (mnist_test, y_test) = mnist.load_data()\n",
    "\n",
    "# mnist_train = mnist_train.astype('float32')\n",
    "# mnist_train /= 255\n",
    "# mnist_test = mnist_test.astype('float32')\n",
    "# mnist_test /= 255\n",
    "\n",
    "# #Handle Theano and Tensorflow data format\n",
    "# img_rows, img_cols = 28,28\n",
    "\n",
    "# print(\"Image data format: {}\".format(K.image_data_format()))\n",
    "\n",
    "# if K.image_data_format() == 'channel_first':\n",
    "#     mnist_train = mnist_train.reshape(mnist_train.shape[0], 1, img_rows, img_cols)\n",
    "#     mnist_test = mnist_test.reshape(mnist_test.shape[0], 1, img_rows, img_cols)\n",
    "#     input_shape = (1, img_rows, img_cols)\n",
    "# else:\n",
    "#     mnist_train = mnist_train.reshape(mnist_train.shape[0], img_rows, img_cols, 1)\n",
    "#     mnist_test = mnist_test.reshape(mnist_test.shape[0], img_rows, img_cols, 1)\n",
    "#     input_shape = (img_rows, img_cols, 1)\n",
    "\n",
    "# X_train = get_gp_mnist_data('my_model.h5', mnist_train)\n",
    "# X_test = get_gp_mnist_data('my_model.h5', mnist_test)"
   ]
  },
  {
   "cell_type": "code",
   "execution_count": 6,
   "metadata": {},
   "outputs": [
    {
     "name": "stdout",
     "output_type": "stream",
     "text": [
      "(60000, 128)\n",
      "(60000,)\n",
      "(10000, 128)\n",
      "(10000,)\n"
     ]
    }
   ],
   "source": [
    "print(X_train.shape)\n",
    "print(y_train.shape)\n",
    "print(X_test.shape)\n",
    "print(y_test.shape)"
   ]
  },
  {
   "cell_type": "markdown",
   "metadata": {},
   "source": [
    "# Train a GP on the features"
   ]
  },
  {
   "cell_type": "code",
   "execution_count": 7,
   "metadata": {},
   "outputs": [],
   "source": [
    "import gpflow\n",
    "import tensorflow as tf\n",
    "\n",
    "from sklearn.metrics import classification_report\n",
    "\n",
    "from matplotlib import pyplot as plt"
   ]
  },
  {
   "cell_type": "code",
   "execution_count": 8,
   "metadata": {},
   "outputs": [],
   "source": [
    "num_classes = 10\n",
    "num_features = 128"
   ]
  },
  {
   "cell_type": "code",
   "execution_count": 9,
   "metadata": {
    "scrolled": false
   },
   "outputs": [
    {
     "name": "stdout",
     "output_type": "stream",
     "text": [
      "CPU times: user 837 ms, sys: 34.1 ms, total: 871 ms\n",
      "Wall time: 877 ms\n"
     ]
    }
   ],
   "source": [
    "%%time\n",
    "X_train = X_train.astype('float64').reshape(-1,num_features)[:100]\n",
    "y_train = y_train.astype('float64').reshape(-1,1)[:100]\n",
    "kernel = gpflow.kernels.Matern32(num_features) + gpflow.kernels.White(num_features, variance=0.01)\n",
    "likelihood = gpflow.likelihoods.MultiClass(num_classes)\n",
    "Z=X_train[::5].copy()\n",
    "num_latent=num_classes\n",
    "whiten=True\n",
    "q_diag=True\n",
    "m = gpflow.models.SVGP(X_train, y_train, \n",
    "                       kern=kernel, \n",
    "                       likelihood=likelihood,\n",
    "                       Z=Z, \n",
    "                       num_latent=num_latent,\n",
    "                       whiten=whiten, \n",
    "                       q_diag=q_diag)\n",
    "\n",
    "m.kern.white.variance.trainable = False\n",
    "m.feature.trainable = False\n",
    "m.as_pandas_table()"
   ]
  },
  {
   "cell_type": "code",
   "execution_count": 10,
   "metadata": {},
   "outputs": [
    {
     "name": "stdout",
     "output_type": "stream",
     "text": [
      "INFO:tensorflow:Optimization terminated with:\n",
      "  Message: b'CONVERGENCE: REL_REDUCTION_OF_F_<=_FACTR*EPSMCH'\n",
      "  Objective function value: 177.494020\n",
      "  Number of iterations: 822\n",
      "  Number of functions evaluations: 890\n",
      "CPU times: user 25.7 s, sys: 1.82 s, total: 27.6 s\n",
      "Wall time: 8.06 s\n"
     ]
    }
   ],
   "source": [
    "%%time\n",
    "opt = gpflow.train.ScipyOptimizer()\n",
    "opt.minimize(m)"
   ]
  },
  {
   "cell_type": "code",
   "execution_count": 11,
   "metadata": {},
   "outputs": [
    {
     "name": "stdout",
     "output_type": "stream",
     "text": [
      "(10000, 128)\n",
      "CPU times: user 9.05 s, sys: 241 ms, total: 9.3 s\n",
      "Wall time: 3.4 s\n"
     ]
    }
   ],
   "source": [
    "%%time\n",
    "X_test = X_test.astype('float64').reshape(-1,num_features)\n",
    "print(X_test.shape)\n",
    "p, var = m.predict_y(X_test)"
   ]
  },
  {
   "cell_type": "code",
   "execution_count": 12,
   "metadata": {},
   "outputs": [
    {
     "name": "stdout",
     "output_type": "stream",
     "text": [
      "[[2.71364586e-04 1.86899579e-04 7.85145591e-04 ... 9.96049052e-01\n",
      "  1.73781049e-04 5.64948941e-04]\n",
      " [1.04360124e-01 1.44316560e-01 6.52498838e-01 ... 9.68229393e-03\n",
      "  1.06899461e-02 3.47072797e-03]\n",
      " [4.28643357e-04 9.89721306e-01 3.93882811e-04 ... 1.96833627e-03\n",
      "  4.45261415e-04 9.40489318e-04]\n",
      " ...\n",
      " [5.24817930e-04 3.19141516e-03 2.18740851e-04 ... 1.23491676e-03\n",
      "  3.68402408e-03 1.80203605e-02]\n",
      " [1.97779215e-02 2.89796269e-03 1.33848725e-03 ... 3.31476214e-03\n",
      "  5.32958836e-02 7.50584489e-03]\n",
      " [1.86899125e-03 1.53259310e-03 1.26226679e-03 ... 3.89903006e-04\n",
      "  3.03870102e-04 2.32182078e-04]]\n"
     ]
    }
   ],
   "source": [
    "print(p)"
   ]
  },
  {
   "cell_type": "code",
   "execution_count": 13,
   "metadata": {},
   "outputs": [
    {
     "name": "stdout",
     "output_type": "stream",
     "text": [
      "0.9668\n",
      "             precision    recall  f1-score   support\n",
      "\n",
      "          0       0.97      1.00      0.98       980\n",
      "          1       0.93      1.00      0.96      1135\n",
      "          2       0.99      0.92      0.95      1032\n",
      "          3       0.99      0.97      0.98      1010\n",
      "          4       0.98      0.98      0.98       982\n",
      "          5       1.00      0.93      0.97       892\n",
      "          6       0.97      0.98      0.98       958\n",
      "          7       0.97      0.98      0.97      1028\n",
      "          8       1.00      0.90      0.95       974\n",
      "          9       0.90      0.99      0.94      1009\n",
      "\n",
      "avg / total       0.97      0.97      0.97     10000\n",
      "\n"
     ]
    }
   ],
   "source": [
    "predictions = np.argmax(p, axis=-1)\n",
    "accuracy = len(np.argwhere(predictions == y_test))/len(predictions)\n",
    "print(accuracy)\n",
    "print(classification_report(y_test, predictions))"
   ]
  },
  {
   "cell_type": "code",
   "execution_count": 14,
   "metadata": {},
   "outputs": [
    {
     "name": "stdout",
     "output_type": "stream",
     "text": [
      "332\n"
     ]
    }
   ],
   "source": [
    "incorrect_indices = np.argwhere(predictions != y_test)\n",
    "correct_indices = np.argwhere(predictions == y_test)\n",
    "print(len(incorrect_indices))"
   ]
  },
  {
   "cell_type": "code",
   "execution_count": 15,
   "metadata": {},
   "outputs": [
    {
     "name": "stdout",
     "output_type": "stream",
     "text": [
      "[6.52735824e-03 1.99758296e-04 1.32781407e-04 8.07293115e-02\n",
      " 1.05172890e-03 2.30993812e-01 3.95732670e-03 3.41169224e-04\n",
      " 3.11813140e-02 2.49984007e-01]\n",
      "Correct class: [5]\n"
     ]
    },
    {
     "data": {
      "text/plain": [
       "<matplotlib.image.AxesImage at 0x10b76e0f0>"
      ]
     },
     "execution_count": 15,
     "metadata": {},
     "output_type": "execute_result"
    },
    {
     "data": {
      "image/png": "[encoded data removed]",
      "text/plain": [
       "<matplotlib.figure.Figure at 0x11977a4a8>"
      ]
     },
     "metadata": {},
     "output_type": "display_data"
    },
    {
     "data": {
      "image/png": "[encoded data removed]",
      "text/plain": [
       "<matplotlib.figure.Figure at 0x109dc6048>"
      ]
     },
     "metadata": {},
     "output_type": "display_data"
    }
   ],
   "source": [
    "%matplotlib inline\n",
    "index = incorrect_indices[5]\n",
    "print(var[index].squeeze())\n",
    "plt.bar(np.arange(10), p[index].squeeze(), yerr=var[index].squeeze())\n",
    "print(\"Correct class: {}\".format(y_test[index]))\n",
    "plt.figure()\n",
    "plt.imshow(mnist_test[index].reshape(28,28),cmap =plt.cm.gray_r, interpolation = \"nearest\") "
   ]
  },
  {
   "cell_type": "code",
   "execution_count": 16,
   "metadata": {},
   "outputs": [
    {
     "name": "stdout",
     "output_type": "stream",
     "text": [
      "[5720]\n",
      "[0.00166117 0.40445906 0.00144039 0.0031477  0.49812061 0.01148276\n",
      " 0.0259804  0.0073625  0.00481356 0.04073322]\n",
      "[0.00165841 0.24087193 0.00143832 0.00313779 0.24999647 0.0113509\n",
      " 0.02530542 0.00730829 0.00479039 0.03907403]\n",
      "Correct class: [4]\n"
     ]
    },
    {
     "data": {
      "text/plain": [
       "<matplotlib.image.AxesImage at 0x10d231a58>"
      ]
     },
     "execution_count": 16,
     "metadata": {},
     "output_type": "execute_result"
    },
    {
     "data": {
      "image/png": "[encoded data removed]",
      "text/plain": [
       "<matplotlib.figure.Figure at 0x10aef6860>"
      ]
     },
     "metadata": {},
     "output_type": "display_data"
    },
    {
     "data": {
      "image/png": "[encoded data removed]",
      "text/plain": [
       "<matplotlib.figure.Figure at 0x10d1983c8>"
      ]
     },
     "metadata": {},
     "output_type": "display_data"
    }
   ],
   "source": [
    "# %matplotlib inline\n",
    "index = correct_indices[5496]\n",
    "print(index)\n",
    "print(p[index].squeeze())\n",
    "print(var[index].squeeze())\n",
    "plt.bar(np.arange(10), p[index].squeeze(), yerr=var[index].squeeze())\n",
    "print(\"Correct class: {}\".format(y_test[index]))\n",
    "plt.figure()\n",
    "plt.imshow(mnist_test[index].reshape(28,28),cmap =plt.cm.gray_r, interpolation = \"nearest\") "
   ]
  },
  {
   "cell_type": "markdown",
   "metadata": {},
   "source": [
    "## Noisy mnist"
   ]
  },
  {
   "cell_type": "code",
   "execution_count": 17,
   "metadata": {},
   "outputs": [
    {
     "name": "stdout",
     "output_type": "stream",
     "text": [
      "['__header__', 'test_x', '__globals__', 'train_y', 'test_y', '__version__', 'train_x']\n",
      "['__header__', 'test_x', '__globals__', 'train_y', 'test_y', '__version__', 'train_x']\n",
      "['__header__', 'test_x', '__globals__', 'train_y', 'test_y', '__version__', 'train_x']\n"
     ]
    }
   ],
   "source": [
    "def load_data(DATA_DIR):\n",
    "    rows, cols = 28, 28\n",
    "    nb_classes = 10\n",
    "\n",
    "    mat = scipy.io.loadmat(DATA_DIR)\n",
    "    print(list(mat.keys()))\n",
    "    X_train = mat['train_x']\n",
    "    Y_train = np.argmax(mat['train_y'], axis=-1)\n",
    "    X_test = mat['test_x']\n",
    "    Y_test = np.argmax(mat['test_y'], axis=-1)\n",
    "    \n",
    "    # Reshape and format input\n",
    "    \n",
    "    #Renormalize images\n",
    "    X_train = X_train.astype('float32')\n",
    "    X_train /= 255.0\n",
    "    X_test = X_test.astype('float32')\n",
    "    X_test /= 255.0\n",
    "\n",
    "    return (X_train, Y_train, X_test, Y_test)\n",
    "\n",
    "(noisy_nmist_X_train, noisy_nmist_Y_train, noisy_nmist_X_test, noisy_nmist_Y_test) = load_data('data/mnist-with-awgn.mat')\n",
    "(blur_nmist_X_train, blur_nmist_Y_train, blur_nmist_X_test, blur_nmist_Y_test) = load_data('data/mnist-with-motion-blur.mat')\n",
    "(contrast_nmist_X_train, contrast_nmist_Y_train, contrast_nmist_X_test, contrast_nmist_Y_test) = load_data('data/mnist-with-reduced-contrast-and-awgn.mat')"
   ]
  },
  {
   "cell_type": "markdown",
   "metadata": {},
   "source": [
    "## Use CNN to predict noisy training examples. Note that these are unseen although called 'training'"
   ]
  },
  {
   "cell_type": "code",
   "execution_count": 18,
   "metadata": {},
   "outputs": [],
   "source": [
    "import keras"
   ]
  },
  {
   "cell_type": "code",
   "execution_count": 19,
   "metadata": {
    "scrolled": false
   },
   "outputs": [
    {
     "ename": "InvalidArgumentError",
     "evalue": "You must feed a value for placeholder tensor '0/Matern32/lengthscales/initial_unconstrained_value' with dtype double\n\t [[Node: 0/Matern32/lengthscales/initial_unconstrained_value = Placeholder[dtype=DT_DOUBLE, shape=[], _device=\"/job:localhost/replica:0/task:0/device:CPU:0\"]()]]\n\nCaused by op '0/Matern32/lengthscales/initial_unconstrained_value', defined at:\n  File \"/Users/sebastian/anaconda/envs/python3/lib/python3.5/runpy.py\", line 193, in _run_module_as_main\n    \"__main__\", mod_spec)\n  File \"/Users/sebastian/anaconda/envs/python3/lib/python3.5/runpy.py\", line 85, in _run_code\n    exec(code, run_globals)\n  File \"/Users/sebastian/anaconda/envs/python3/lib/python3.5/site-packages/ipykernel/__main__.py\", line 3, in <module>\n    app.launch_new_instance()\n  File \"/Users/sebastian/anaconda/envs/python3/lib/python3.5/site-packages/traitlets/config/application.py\", line 658, in launch_instance\n    app.start()\n  File \"/Users/sebastian/anaconda/envs/python3/lib/python3.5/site-packages/ipykernel/kernelapp.py\", line 478, in start\n    self.io_loop.start()\n  File \"/Users/sebastian/anaconda/envs/python3/lib/python3.5/site-packages/zmq/eventloop/ioloop.py\", line 177, in start\n    super(ZMQIOLoop, self).start()\n  File \"/Users/sebastian/anaconda/envs/python3/lib/python3.5/site-packages/tornado/ioloop.py\", line 888, in start\n    handler_func(fd_obj, events)\n  File \"/Users/sebastian/anaconda/envs/python3/lib/python3.5/site-packages/tornado/stack_context.py\", line 277, in null_wrapper\n    return fn(*args, **kwargs)\n  File \"/Users/sebastian/anaconda/envs/python3/lib/python3.5/site-packages/zmq/eventloop/zmqstream.py\", line 440, in _handle_events\n    self._handle_recv()\n  File \"/Users/sebastian/anaconda/envs/python3/lib/python3.5/site-packages/zmq/eventloop/zmqstream.py\", line 472, in _handle_recv\n    self._run_callback(callback, msg)\n  File \"/Users/sebastian/anaconda/envs/python3/lib/python3.5/site-packages/zmq/eventloop/zmqstream.py\", line 414, in _run_callback\n    callback(*args, **kwargs)\n  File \"/Users/sebastian/anaconda/envs/python3/lib/python3.5/site-packages/tornado/stack_context.py\", line 277, in null_wrapper\n    return fn(*args, **kwargs)\n  File \"/Users/sebastian/anaconda/envs/python3/lib/python3.5/site-packages/ipykernel/kernelbase.py\", line 283, in dispatcher\n    return self.dispatch_shell(stream, msg)\n  File \"/Users/sebastian/anaconda/envs/python3/lib/python3.5/site-packages/ipykernel/kernelbase.py\", line 233, in dispatch_shell\n    handler(stream, idents, msg)\n  File \"/Users/sebastian/anaconda/envs/python3/lib/python3.5/site-packages/ipykernel/kernelbase.py\", line 399, in execute_request\n    user_expressions, allow_stdin)\n  File \"/Users/sebastian/anaconda/envs/python3/lib/python3.5/site-packages/ipykernel/ipkernel.py\", line 208, in do_execute\n    res = shell.run_cell(code, store_history=store_history, silent=silent)\n  File \"/Users/sebastian/anaconda/envs/python3/lib/python3.5/site-packages/ipykernel/zmqshell.py\", line 537, in run_cell\n    return super(ZMQInteractiveShell, self).run_cell(*args, **kwargs)\n  File \"/Users/sebastian/anaconda/envs/python3/lib/python3.5/site-packages/IPython/core/interactiveshell.py\", line 2728, in run_cell\n    interactivity=interactivity, compiler=compiler, result=result)\n  File \"/Users/sebastian/anaconda/envs/python3/lib/python3.5/site-packages/IPython/core/interactiveshell.py\", line 2856, in run_ast_nodes\n    if self.run_code(code, result):\n  File \"/Users/sebastian/anaconda/envs/python3/lib/python3.5/site-packages/IPython/core/interactiveshell.py\", line 2910, in run_code\n    exec(code_obj, self.user_global_ns, self.user_ns)\n  File \"<ipython-input-9-51cd3d5b44f7>\", line 1, in <module>\n    get_ipython().run_cell_magic('time', '', \"X_train = X_train.astype('float64').reshape(-1,num_features)[:100]\\ny_train = y_train.astype('float64').reshape(-1,1)[:100]\\nkernel = gpflow.kernels.Matern32(num_features) + gpflow.kernels.White(num_features, variance=0.01)\\nlikelihood = gpflow.likelihoods.MultiClass(num_classes)\\nZ=X_train[::5].copy()\\nnum_latent=num_classes\\nwhiten=True\\nq_diag=True\\nm = gpflow.models.SVGP(X_train, y_train, \\n                       kern=kernel, \\n                       likelihood=likelihood,\\n                       Z=Z, \\n                       num_latent=num_latent,\\n                       whiten=whiten, \\n                       q_diag=q_diag)\\n\\nm.kern.white.variance.trainable = False\\nm.feature.trainable = False\\nm.as_pandas_table()\")\n  File \"/Users/sebastian/anaconda/envs/python3/lib/python3.5/site-packages/IPython/core/interactiveshell.py\", line 2131, in run_cell_magic\n    result = fn(magic_arg_s, cell)\n  File \"<decorator-gen-62>\", line 2, in time\n  File \"/Users/sebastian/anaconda/envs/python3/lib/python3.5/site-packages/IPython/core/magic.py\", line 187, in <lambda>\n    call = lambda f, *a, **k: f(*a, **k)\n  File \"/Users/sebastian/anaconda/envs/python3/lib/python3.5/site-packages/IPython/core/magics/execution.py\", line 1238, in time\n    exec(code, glob, local_ns)\n  File \"<timed exec>\", line 3, in <module>\n  File \"/Users/sebastian/anaconda/envs/python3/lib/python3.5/site-packages/gpflow-1.1.0-py3.5.egg/gpflow/core/compilable.py\", line 90, in __init__\n    self.build()\n  File \"/Users/sebastian/anaconda/envs/python3/lib/python3.5/site-packages/gpflow-1.1.0-py3.5.egg/gpflow/core/node.py\", line 172, in build\n    self._build()\n  File \"/Users/sebastian/anaconda/envs/python3/lib/python3.5/site-packages/gpflow-1.1.0-py3.5.egg/gpflow/params/parameterized.py\", line 284, in _build\n    param.build()\n  File \"/Users/sebastian/anaconda/envs/python3/lib/python3.5/site-packages/gpflow-1.1.0-py3.5.egg/gpflow/core/node.py\", line 172, in build\n    self._build()\n  File \"/Users/sebastian/anaconda/envs/python3/lib/python3.5/site-packages/gpflow-1.1.0-py3.5.egg/gpflow/params/parameter.py\", line 345, in _build\n    unconstrained = self._build_parameter()\n  File \"/Users/sebastian/anaconda/envs/python3/lib/python3.5/site-packages/gpflow-1.1.0-py3.5.egg/gpflow/params/parameter.py\", line 367, in _build_parameter\n    init = tf.placeholder(self.dtype, shape=shape, name='initial_unconstrained_value')\n  File \"/Users/sebastian/anaconda/envs/python3/lib/python3.5/site-packages/tensorflow/python/ops/array_ops.py\", line 1599, in placeholder\n    return gen_array_ops._placeholder(dtype=dtype, shape=shape, name=name)\n  File \"/Users/sebastian/anaconda/envs/python3/lib/python3.5/site-packages/tensorflow/python/ops/gen_array_ops.py\", line 3091, in _placeholder\n    \"Placeholder\", dtype=dtype, shape=shape, name=name)\n  File \"/Users/sebastian/anaconda/envs/python3/lib/python3.5/site-packages/tensorflow/python/framework/op_def_library.py\", line 787, in _apply_op_helper\n    op_def=op_def)\n  File \"/Users/sebastian/anaconda/envs/python3/lib/python3.5/site-packages/tensorflow/python/framework/ops.py\", line 2956, in create_op\n    op_def=op_def)\n  File \"/Users/sebastian/anaconda/envs/python3/lib/python3.5/site-packages/tensorflow/python/framework/ops.py\", line 1470, in __init__\n    self._traceback = self._graph._extract_stack()  # pylint: disable=protected-access\n\nInvalidArgumentError (see above for traceback): You must feed a value for placeholder tensor '0/Matern32/lengthscales/initial_unconstrained_value' with dtype double\n\t [[Node: 0/Matern32/lengthscales/initial_unconstrained_value = Placeholder[dtype=DT_DOUBLE, shape=[], _device=\"/job:localhost/replica:0/task:0/device:CPU:0\"]()]]\n",
     "output_type": "error",
     "traceback": [
      "\u001b[0;31m---------------------------------------------------------------------------\u001b[0m",
      "\u001b[0;31mInvalidArgumentError\u001b[0m                      Traceback (most recent call last)",
      "\u001b[0;32m~/anaconda/envs/python3/lib/python3.5/site-packages/tensorflow/python/client/session.py\u001b[0m in \u001b[0;36m_do_call\u001b[0;34m(self, fn, *args)\u001b[0m\n\u001b[1;32m   1322\u001b[0m     \u001b[0;32mtry\u001b[0m\u001b[0;34m:\u001b[0m\u001b[0;34m\u001b[0m\u001b[0m\n\u001b[0;32m-> 1323\u001b[0;31m       \u001b[0;32mreturn\u001b[0m \u001b[0mfn\u001b[0m\u001b[0;34m(\u001b[0m\u001b[0;34m*\u001b[0m\u001b[0margs\u001b[0m\u001b[0;34m)\u001b[0m\u001b[0;34m\u001b[0m\u001b[0m\n\u001b[0m\u001b[1;32m   1324\u001b[0m     \u001b[0;32mexcept\u001b[0m \u001b[0merrors\u001b[0m\u001b[0;34m.\u001b[0m\u001b[0mOpError\u001b[0m \u001b[0;32mas\u001b[0m \u001b[0me\u001b[0m\u001b[0;34m:\u001b[0m\u001b[0;34m\u001b[0m\u001b[0m\n",
      "\u001b[0;32m~/anaconda/envs/python3/lib/python3.5/site-packages/tensorflow/python/client/session.py\u001b[0m in \u001b[0;36m_run_fn\u001b[0;34m(session, feed_dict, fetch_list, target_list, options, run_metadata)\u001b[0m\n\u001b[1;32m   1301\u001b[0m                                    \u001b[0mfeed_dict\u001b[0m\u001b[0;34m,\u001b[0m \u001b[0mfetch_list\u001b[0m\u001b[0;34m,\u001b[0m \u001b[0mtarget_list\u001b[0m\u001b[0;34m,\u001b[0m\u001b[0;34m\u001b[0m\u001b[0m\n\u001b[0;32m-> 1302\u001b[0;31m                                    status, run_metadata)\n\u001b[0m\u001b[1;32m   1303\u001b[0m \u001b[0;34m\u001b[0m\u001b[0m\n",
      "\u001b[0;32m~/anaconda/envs/python3/lib/python3.5/site-packages/tensorflow/python/framework/errors_impl.py\u001b[0m in \u001b[0;36m__exit__\u001b[0;34m(self, type_arg, value_arg, traceback_arg)\u001b[0m\n\u001b[1;32m    472\u001b[0m             \u001b[0mcompat\u001b[0m\u001b[0;34m.\u001b[0m\u001b[0mas_text\u001b[0m\u001b[0;34m(\u001b[0m\u001b[0mc_api\u001b[0m\u001b[0;34m.\u001b[0m\u001b[0mTF_Message\u001b[0m\u001b[0;34m(\u001b[0m\u001b[0mself\u001b[0m\u001b[0;34m.\u001b[0m\u001b[0mstatus\u001b[0m\u001b[0;34m.\u001b[0m\u001b[0mstatus\u001b[0m\u001b[0;34m)\u001b[0m\u001b[0;34m)\u001b[0m\u001b[0;34m,\u001b[0m\u001b[0;34m\u001b[0m\u001b[0m\n\u001b[0;32m--> 473\u001b[0;31m             c_api.TF_GetCode(self.status.status))\n\u001b[0m\u001b[1;32m    474\u001b[0m     \u001b[0;31m# Delete the underlying status object from memory otherwise it stays alive\u001b[0m\u001b[0;34m\u001b[0m\u001b[0;34m\u001b[0m\u001b[0m\n",
      "\u001b[0;31mInvalidArgumentError\u001b[0m: You must feed a value for placeholder tensor '0/Matern32/lengthscales/initial_unconstrained_value' with dtype double\n\t [[Node: 0/Matern32/lengthscales/initial_unconstrained_value = Placeholder[dtype=DT_DOUBLE, shape=[], _device=\"/job:localhost/replica:0/task:0/device:CPU:0\"]()]]",
      "\nDuring handling of the above exception, another exception occurred:\n",
      "\u001b[0;31mInvalidArgumentError\u001b[0m                      Traceback (most recent call last)",
      "\u001b[0;32m<ipython-input-19-c8829e2cf885>\u001b[0m in \u001b[0;36m<module>\u001b[0;34m()\u001b[0m\n\u001b[1;32m      1\u001b[0m \u001b[0mimg_rows\u001b[0m\u001b[0;34m,\u001b[0m \u001b[0mimg_cols\u001b[0m \u001b[0;34m=\u001b[0m \u001b[0;36m28\u001b[0m\u001b[0;34m,\u001b[0m\u001b[0;36m28\u001b[0m\u001b[0;34m\u001b[0m\u001b[0m\n\u001b[1;32m      2\u001b[0m \u001b[0;34m\u001b[0m\u001b[0m\n\u001b[0;32m----> 3\u001b[0;31m \u001b[0mmodel\u001b[0m \u001b[0;34m=\u001b[0m \u001b[0mkeras\u001b[0m\u001b[0;34m.\u001b[0m\u001b[0mmodels\u001b[0m\u001b[0;34m.\u001b[0m\u001b[0mload_model\u001b[0m\u001b[0;34m(\u001b[0m\u001b[0;34m'my_model.h5'\u001b[0m\u001b[0;34m)\u001b[0m\u001b[0;34m\u001b[0m\u001b[0m\n\u001b[0m\u001b[1;32m      4\u001b[0m \u001b[0mcnn_noisy_predictions_probas\u001b[0m \u001b[0;34m=\u001b[0m \u001b[0mmodel\u001b[0m\u001b[0;34m.\u001b[0m\u001b[0mpredict\u001b[0m\u001b[0;34m(\u001b[0m\u001b[0mnoisy_nmist_X_train\u001b[0m\u001b[0;34m.\u001b[0m\u001b[0mreshape\u001b[0m\u001b[0;34m(\u001b[0m\u001b[0;34m-\u001b[0m\u001b[0;36m1\u001b[0m\u001b[0;34m,\u001b[0m \u001b[0mimg_rows\u001b[0m\u001b[0;34m,\u001b[0m \u001b[0mimg_cols\u001b[0m\u001b[0;34m,\u001b[0m \u001b[0;36m1\u001b[0m\u001b[0;34m)\u001b[0m\u001b[0;34m)\u001b[0m\u001b[0;34m\u001b[0m\u001b[0m\n\u001b[1;32m      5\u001b[0m \u001b[0mcnn_noisy_predictions\u001b[0m \u001b[0;34m=\u001b[0m \u001b[0mnp\u001b[0m\u001b[0;34m.\u001b[0m\u001b[0margmax\u001b[0m\u001b[0;34m(\u001b[0m\u001b[0mcnn_noisy_predictions_probas\u001b[0m\u001b[0;34m,\u001b[0m \u001b[0maxis\u001b[0m\u001b[0;34m=\u001b[0m\u001b[0;34m-\u001b[0m\u001b[0;36m1\u001b[0m\u001b[0;34m)\u001b[0m\u001b[0;34m\u001b[0m\u001b[0m\n",
      "\u001b[0;32m~/anaconda/envs/python3/lib/python3.5/site-packages/keras/models.py\u001b[0m in \u001b[0;36mload_model\u001b[0;34m(filepath, custom_objects, compile)\u001b[0m\n\u001b[1;32m    244\u001b[0m \u001b[0;34m\u001b[0m\u001b[0m\n\u001b[1;32m    245\u001b[0m         \u001b[0;31m# set weights\u001b[0m\u001b[0;34m\u001b[0m\u001b[0;34m\u001b[0m\u001b[0m\n\u001b[0;32m--> 246\u001b[0;31m         \u001b[0mtopology\u001b[0m\u001b[0;34m.\u001b[0m\u001b[0mload_weights_from_hdf5_group\u001b[0m\u001b[0;34m(\u001b[0m\u001b[0mf\u001b[0m\u001b[0;34m[\u001b[0m\u001b[0;34m'model_weights'\u001b[0m\u001b[0;34m]\u001b[0m\u001b[0;34m,\u001b[0m \u001b[0mmodel\u001b[0m\u001b[0;34m.\u001b[0m\u001b[0mlayers\u001b[0m\u001b[0;34m)\u001b[0m\u001b[0;34m\u001b[0m\u001b[0m\n\u001b[0m\u001b[1;32m    247\u001b[0m \u001b[0;34m\u001b[0m\u001b[0m\n\u001b[1;32m    248\u001b[0m         \u001b[0;31m# Early return if compilation is not required.\u001b[0m\u001b[0;34m\u001b[0m\u001b[0;34m\u001b[0m\u001b[0m\n",
      "\u001b[0;32m~/anaconda/envs/python3/lib/python3.5/site-packages/keras/engine/topology.py\u001b[0m in \u001b[0;36mload_weights_from_hdf5_group\u001b[0;34m(f, layers)\u001b[0m\n\u001b[1;32m   3164\u001b[0m                              ' elements.')\n\u001b[1;32m   3165\u001b[0m         \u001b[0mweight_value_tuples\u001b[0m \u001b[0;34m+=\u001b[0m \u001b[0mzip\u001b[0m\u001b[0;34m(\u001b[0m\u001b[0msymbolic_weights\u001b[0m\u001b[0;34m,\u001b[0m \u001b[0mweight_values\u001b[0m\u001b[0;34m)\u001b[0m\u001b[0;34m\u001b[0m\u001b[0m\n\u001b[0;32m-> 3166\u001b[0;31m     \u001b[0mK\u001b[0m\u001b[0;34m.\u001b[0m\u001b[0mbatch_set_value\u001b[0m\u001b[0;34m(\u001b[0m\u001b[0mweight_value_tuples\u001b[0m\u001b[0;34m)\u001b[0m\u001b[0;34m\u001b[0m\u001b[0m\n\u001b[0m\u001b[1;32m   3167\u001b[0m \u001b[0;34m\u001b[0m\u001b[0m\n\u001b[1;32m   3168\u001b[0m \u001b[0;34m\u001b[0m\u001b[0m\n",
      "\u001b[0;32m~/anaconda/envs/python3/lib/python3.5/site-packages/keras/backend/tensorflow_backend.py\u001b[0m in \u001b[0;36mbatch_set_value\u001b[0;34m(tuples)\u001b[0m\n\u001b[1;32m   2368\u001b[0m             \u001b[0massign_ops\u001b[0m\u001b[0;34m.\u001b[0m\u001b[0mappend\u001b[0m\u001b[0;34m(\u001b[0m\u001b[0massign_op\u001b[0m\u001b[0;34m)\u001b[0m\u001b[0;34m\u001b[0m\u001b[0m\n\u001b[1;32m   2369\u001b[0m             \u001b[0mfeed_dict\u001b[0m\u001b[0;34m[\u001b[0m\u001b[0massign_placeholder\u001b[0m\u001b[0;34m]\u001b[0m \u001b[0;34m=\u001b[0m \u001b[0mvalue\u001b[0m\u001b[0;34m\u001b[0m\u001b[0m\n\u001b[0;32m-> 2370\u001b[0;31m         \u001b[0mget_session\u001b[0m\u001b[0;34m(\u001b[0m\u001b[0;34m)\u001b[0m\u001b[0;34m.\u001b[0m\u001b[0mrun\u001b[0m\u001b[0;34m(\u001b[0m\u001b[0massign_ops\u001b[0m\u001b[0;34m,\u001b[0m \u001b[0mfeed_dict\u001b[0m\u001b[0;34m=\u001b[0m\u001b[0mfeed_dict\u001b[0m\u001b[0;34m)\u001b[0m\u001b[0;34m\u001b[0m\u001b[0m\n\u001b[0m\u001b[1;32m   2371\u001b[0m \u001b[0;34m\u001b[0m\u001b[0m\n\u001b[1;32m   2372\u001b[0m \u001b[0;34m\u001b[0m\u001b[0m\n",
      "\u001b[0;32m~/anaconda/envs/python3/lib/python3.5/site-packages/keras/backend/tensorflow_backend.py\u001b[0m in \u001b[0;36mget_session\u001b[0;34m()\u001b[0m\n\u001b[1;32m    194\u001b[0m                     \u001b[0mv\u001b[0m\u001b[0;34m.\u001b[0m\u001b[0m_keras_initialized\u001b[0m \u001b[0;34m=\u001b[0m \u001b[0;32mTrue\u001b[0m\u001b[0;34m\u001b[0m\u001b[0m\n\u001b[1;32m    195\u001b[0m                 \u001b[0;32mif\u001b[0m \u001b[0muninitialized_vars\u001b[0m\u001b[0;34m:\u001b[0m\u001b[0;34m\u001b[0m\u001b[0m\n\u001b[0;32m--> 196\u001b[0;31m                     \u001b[0msession\u001b[0m\u001b[0;34m.\u001b[0m\u001b[0mrun\u001b[0m\u001b[0;34m(\u001b[0m\u001b[0mtf\u001b[0m\u001b[0;34m.\u001b[0m\u001b[0mvariables_initializer\u001b[0m\u001b[0;34m(\u001b[0m\u001b[0muninitialized_vars\u001b[0m\u001b[0;34m)\u001b[0m\u001b[0;34m)\u001b[0m\u001b[0;34m\u001b[0m\u001b[0m\n\u001b[0m\u001b[1;32m    197\u001b[0m     \u001b[0;31m# hack for list_devices() function.\u001b[0m\u001b[0;34m\u001b[0m\u001b[0;34m\u001b[0m\u001b[0m\n\u001b[1;32m    198\u001b[0m     \u001b[0;31m# list_devices() function is not available under tensorflow r1.3.\u001b[0m\u001b[0;34m\u001b[0m\u001b[0;34m\u001b[0m\u001b[0m\n",
      "\u001b[0;32m~/anaconda/envs/python3/lib/python3.5/site-packages/tensorflow/python/client/session.py\u001b[0m in \u001b[0;36mrun\u001b[0;34m(self, fetches, feed_dict, options, run_metadata)\u001b[0m\n\u001b[1;32m    887\u001b[0m     \u001b[0;32mtry\u001b[0m\u001b[0;34m:\u001b[0m\u001b[0;34m\u001b[0m\u001b[0m\n\u001b[1;32m    888\u001b[0m       result = self._run(None, fetches, feed_dict, options_ptr,\n\u001b[0;32m--> 889\u001b[0;31m                          run_metadata_ptr)\n\u001b[0m\u001b[1;32m    890\u001b[0m       \u001b[0;32mif\u001b[0m \u001b[0mrun_metadata\u001b[0m\u001b[0;34m:\u001b[0m\u001b[0;34m\u001b[0m\u001b[0m\n\u001b[1;32m    891\u001b[0m         \u001b[0mproto_data\u001b[0m \u001b[0;34m=\u001b[0m \u001b[0mtf_session\u001b[0m\u001b[0;34m.\u001b[0m\u001b[0mTF_GetBuffer\u001b[0m\u001b[0;34m(\u001b[0m\u001b[0mrun_metadata_ptr\u001b[0m\u001b[0;34m)\u001b[0m\u001b[0;34m\u001b[0m\u001b[0m\n",
      "\u001b[0;32m~/anaconda/envs/python3/lib/python3.5/site-packages/tensorflow/python/client/session.py\u001b[0m in \u001b[0;36m_run\u001b[0;34m(self, handle, fetches, feed_dict, options, run_metadata)\u001b[0m\n\u001b[1;32m   1118\u001b[0m     \u001b[0;32mif\u001b[0m \u001b[0mfinal_fetches\u001b[0m \u001b[0;32mor\u001b[0m \u001b[0mfinal_targets\u001b[0m \u001b[0;32mor\u001b[0m \u001b[0;34m(\u001b[0m\u001b[0mhandle\u001b[0m \u001b[0;32mand\u001b[0m \u001b[0mfeed_dict_tensor\u001b[0m\u001b[0;34m)\u001b[0m\u001b[0;34m:\u001b[0m\u001b[0;34m\u001b[0m\u001b[0m\n\u001b[1;32m   1119\u001b[0m       results = self._do_run(handle, final_targets, final_fetches,\n\u001b[0;32m-> 1120\u001b[0;31m                              feed_dict_tensor, options, run_metadata)\n\u001b[0m\u001b[1;32m   1121\u001b[0m     \u001b[0;32melse\u001b[0m\u001b[0;34m:\u001b[0m\u001b[0;34m\u001b[0m\u001b[0m\n\u001b[1;32m   1122\u001b[0m       \u001b[0mresults\u001b[0m \u001b[0;34m=\u001b[0m \u001b[0;34m[\u001b[0m\u001b[0;34m]\u001b[0m\u001b[0;34m\u001b[0m\u001b[0m\n",
      "\u001b[0;32m~/anaconda/envs/python3/lib/python3.5/site-packages/tensorflow/python/client/session.py\u001b[0m in \u001b[0;36m_do_run\u001b[0;34m(self, handle, target_list, fetch_list, feed_dict, options, run_metadata)\u001b[0m\n\u001b[1;32m   1315\u001b[0m     \u001b[0;32mif\u001b[0m \u001b[0mhandle\u001b[0m \u001b[0;32mis\u001b[0m \u001b[0;32mNone\u001b[0m\u001b[0;34m:\u001b[0m\u001b[0;34m\u001b[0m\u001b[0m\n\u001b[1;32m   1316\u001b[0m       return self._do_call(_run_fn, self._session, feeds, fetches, targets,\n\u001b[0;32m-> 1317\u001b[0;31m                            options, run_metadata)\n\u001b[0m\u001b[1;32m   1318\u001b[0m     \u001b[0;32melse\u001b[0m\u001b[0;34m:\u001b[0m\u001b[0;34m\u001b[0m\u001b[0m\n\u001b[1;32m   1319\u001b[0m       \u001b[0;32mreturn\u001b[0m \u001b[0mself\u001b[0m\u001b[0;34m.\u001b[0m\u001b[0m_do_call\u001b[0m\u001b[0;34m(\u001b[0m\u001b[0m_prun_fn\u001b[0m\u001b[0;34m,\u001b[0m \u001b[0mself\u001b[0m\u001b[0;34m.\u001b[0m\u001b[0m_session\u001b[0m\u001b[0;34m,\u001b[0m \u001b[0mhandle\u001b[0m\u001b[0;34m,\u001b[0m \u001b[0mfeeds\u001b[0m\u001b[0;34m,\u001b[0m \u001b[0mfetches\u001b[0m\u001b[0;34m)\u001b[0m\u001b[0;34m\u001b[0m\u001b[0m\n",
      "\u001b[0;32m~/anaconda/envs/python3/lib/python3.5/site-packages/tensorflow/python/client/session.py\u001b[0m in \u001b[0;36m_do_call\u001b[0;34m(self, fn, *args)\u001b[0m\n\u001b[1;32m   1334\u001b[0m         \u001b[0;32mexcept\u001b[0m \u001b[0mKeyError\u001b[0m\u001b[0;34m:\u001b[0m\u001b[0;34m\u001b[0m\u001b[0m\n\u001b[1;32m   1335\u001b[0m           \u001b[0;32mpass\u001b[0m\u001b[0;34m\u001b[0m\u001b[0m\n\u001b[0;32m-> 1336\u001b[0;31m       \u001b[0;32mraise\u001b[0m \u001b[0mtype\u001b[0m\u001b[0;34m(\u001b[0m\u001b[0me\u001b[0m\u001b[0;34m)\u001b[0m\u001b[0;34m(\u001b[0m\u001b[0mnode_def\u001b[0m\u001b[0;34m,\u001b[0m \u001b[0mop\u001b[0m\u001b[0;34m,\u001b[0m \u001b[0mmessage\u001b[0m\u001b[0;34m)\u001b[0m\u001b[0;34m\u001b[0m\u001b[0m\n\u001b[0m\u001b[1;32m   1337\u001b[0m \u001b[0;34m\u001b[0m\u001b[0m\n\u001b[1;32m   1338\u001b[0m   \u001b[0;32mdef\u001b[0m \u001b[0m_extend_graph\u001b[0m\u001b[0;34m(\u001b[0m\u001b[0mself\u001b[0m\u001b[0;34m)\u001b[0m\u001b[0;34m:\u001b[0m\u001b[0;34m\u001b[0m\u001b[0m\n",
      "\u001b[0;31mInvalidArgumentError\u001b[0m: You must feed a value for placeholder tensor '0/Matern32/lengthscales/initial_unconstrained_value' with dtype double\n\t [[Node: 0/Matern32/lengthscales/initial_unconstrained_value = Placeholder[dtype=DT_DOUBLE, shape=[], _device=\"/job:localhost/replica:0/task:0/device:CPU:0\"]()]]\n\nCaused by op '0/Matern32/lengthscales/initial_unconstrained_value', defined at:\n  File \"/Users/sebastian/anaconda/envs/python3/lib/python3.5/runpy.py\", line 193, in _run_module_as_main\n    \"__main__\", mod_spec)\n  File \"/Users/sebastian/anaconda/envs/python3/lib/python3.5/runpy.py\", line 85, in _run_code\n    exec(code, run_globals)\n  File \"/Users/sebastian/anaconda/envs/python3/lib/python3.5/site-packages/ipykernel/__main__.py\", line 3, in <module>\n    app.launch_new_instance()\n  File \"/Users/sebastian/anaconda/envs/python3/lib/python3.5/site-packages/traitlets/config/application.py\", line 658, in launch_instance\n    app.start()\n  File \"/Users/sebastian/anaconda/envs/python3/lib/python3.5/site-packages/ipykernel/kernelapp.py\", line 478, in start\n    self.io_loop.start()\n  File \"/Users/sebastian/anaconda/envs/python3/lib/python3.5/site-packages/zmq/eventloop/ioloop.py\", line 177, in start\n    super(ZMQIOLoop, self).start()\n  File \"/Users/sebastian/anaconda/envs/python3/lib/python3.5/site-packages/tornado/ioloop.py\", line 888, in start\n    handler_func(fd_obj, events)\n  File \"/Users/sebastian/anaconda/envs/python3/lib/python3.5/site-packages/tornado/stack_context.py\", line 277, in null_wrapper\n    return fn(*args, **kwargs)\n  File \"/Users/sebastian/anaconda/envs/python3/lib/python3.5/site-packages/zmq/eventloop/zmqstream.py\", line 440, in _handle_events\n    self._handle_recv()\n  File \"/Users/sebastian/anaconda/envs/python3/lib/python3.5/site-packages/zmq/eventloop/zmqstream.py\", line 472, in _handle_recv\n    self._run_callback(callback, msg)\n  File \"/Users/sebastian/anaconda/envs/python3/lib/python3.5/site-packages/zmq/eventloop/zmqstream.py\", line 414, in _run_callback\n    callback(*args, **kwargs)\n  File \"/Users/sebastian/anaconda/envs/python3/lib/python3.5/site-packages/tornado/stack_context.py\", line 277, in null_wrapper\n    return fn(*args, **kwargs)\n  File \"/Users/sebastian/anaconda/envs/python3/lib/python3.5/site-packages/ipykernel/kernelbase.py\", line 283, in dispatcher\n    return self.dispatch_shell(stream, msg)\n  File \"/Users/sebastian/anaconda/envs/python3/lib/python3.5/site-packages/ipykernel/kernelbase.py\", line 233, in dispatch_shell\n    handler(stream, idents, msg)\n  File \"/Users/sebastian/anaconda/envs/python3/lib/python3.5/site-packages/ipykernel/kernelbase.py\", line 399, in execute_request\n    user_expressions, allow_stdin)\n  File \"/Users/sebastian/anaconda/envs/python3/lib/python3.5/site-packages/ipykernel/ipkernel.py\", line 208, in do_execute\n    res = shell.run_cell(code, store_history=store_history, silent=silent)\n  File \"/Users/sebastian/anaconda/envs/python3/lib/python3.5/site-packages/ipykernel/zmqshell.py\", line 537, in run_cell\n    return super(ZMQInteractiveShell, self).run_cell(*args, **kwargs)\n  File \"/Users/sebastian/anaconda/envs/python3/lib/python3.5/site-packages/IPython/core/interactiveshell.py\", line 2728, in run_cell\n    interactivity=interactivity, compiler=compiler, result=result)\n  File \"/Users/sebastian/anaconda/envs/python3/lib/python3.5/site-packages/IPython/core/interactiveshell.py\", line 2856, in run_ast_nodes\n    if self.run_code(code, result):\n  File \"/Users/sebastian/anaconda/envs/python3/lib/python3.5/site-packages/IPython/core/interactiveshell.py\", line 2910, in run_code\n    exec(code_obj, self.user_global_ns, self.user_ns)\n  File \"<ipython-input-9-51cd3d5b44f7>\", line 1, in <module>\n    get_ipython().run_cell_magic('time', '', \"X_train = X_train.astype('float64').reshape(-1,num_features)[:100]\\ny_train = y_train.astype('float64').reshape(-1,1)[:100]\\nkernel = gpflow.kernels.Matern32(num_features) + gpflow.kernels.White(num_features, variance=0.01)\\nlikelihood = gpflow.likelihoods.MultiClass(num_classes)\\nZ=X_train[::5].copy()\\nnum_latent=num_classes\\nwhiten=True\\nq_diag=True\\nm = gpflow.models.SVGP(X_train, y_train, \\n                       kern=kernel, \\n                       likelihood=likelihood,\\n                       Z=Z, \\n                       num_latent=num_latent,\\n                       whiten=whiten, \\n                       q_diag=q_diag)\\n\\nm.kern.white.variance.trainable = False\\nm.feature.trainable = False\\nm.as_pandas_table()\")\n  File \"/Users/sebastian/anaconda/envs/python3/lib/python3.5/site-packages/IPython/core/interactiveshell.py\", line 2131, in run_cell_magic\n    result = fn(magic_arg_s, cell)\n  File \"<decorator-gen-62>\", line 2, in time\n  File \"/Users/sebastian/anaconda/envs/python3/lib/python3.5/site-packages/IPython/core/magic.py\", line 187, in <lambda>\n    call = lambda f, *a, **k: f(*a, **k)\n  File \"/Users/sebastian/anaconda/envs/python3/lib/python3.5/site-packages/IPython/core/magics/execution.py\", line 1238, in time\n    exec(code, glob, local_ns)\n  File \"<timed exec>\", line 3, in <module>\n  File \"/Users/sebastian/anaconda/envs/python3/lib/python3.5/site-packages/gpflow-1.1.0-py3.5.egg/gpflow/core/compilable.py\", line 90, in __init__\n    self.build()\n  File \"/Users/sebastian/anaconda/envs/python3/lib/python3.5/site-packages/gpflow-1.1.0-py3.5.egg/gpflow/core/node.py\", line 172, in build\n    self._build()\n  File \"/Users/sebastian/anaconda/envs/python3/lib/python3.5/site-packages/gpflow-1.1.0-py3.5.egg/gpflow/params/parameterized.py\", line 284, in _build\n    param.build()\n  File \"/Users/sebastian/anaconda/envs/python3/lib/python3.5/site-packages/gpflow-1.1.0-py3.5.egg/gpflow/core/node.py\", line 172, in build\n    self._build()\n  File \"/Users/sebastian/anaconda/envs/python3/lib/python3.5/site-packages/gpflow-1.1.0-py3.5.egg/gpflow/params/parameter.py\", line 345, in _build\n    unconstrained = self._build_parameter()\n  File \"/Users/sebastian/anaconda/envs/python3/lib/python3.5/site-packages/gpflow-1.1.0-py3.5.egg/gpflow/params/parameter.py\", line 367, in _build_parameter\n    init = tf.placeholder(self.dtype, shape=shape, name='initial_unconstrained_value')\n  File \"/Users/sebastian/anaconda/envs/python3/lib/python3.5/site-packages/tensorflow/python/ops/array_ops.py\", line 1599, in placeholder\n    return gen_array_ops._placeholder(dtype=dtype, shape=shape, name=name)\n  File \"/Users/sebastian/anaconda/envs/python3/lib/python3.5/site-packages/tensorflow/python/ops/gen_array_ops.py\", line 3091, in _placeholder\n    \"Placeholder\", dtype=dtype, shape=shape, name=name)\n  File \"/Users/sebastian/anaconda/envs/python3/lib/python3.5/site-packages/tensorflow/python/framework/op_def_library.py\", line 787, in _apply_op_helper\n    op_def=op_def)\n  File \"/Users/sebastian/anaconda/envs/python3/lib/python3.5/site-packages/tensorflow/python/framework/ops.py\", line 2956, in create_op\n    op_def=op_def)\n  File \"/Users/sebastian/anaconda/envs/python3/lib/python3.5/site-packages/tensorflow/python/framework/ops.py\", line 1470, in __init__\n    self._traceback = self._graph._extract_stack()  # pylint: disable=protected-access\n\nInvalidArgumentError (see above for traceback): You must feed a value for placeholder tensor '0/Matern32/lengthscales/initial_unconstrained_value' with dtype double\n\t [[Node: 0/Matern32/lengthscales/initial_unconstrained_value = Placeholder[dtype=DT_DOUBLE, shape=[], _device=\"/job:localhost/replica:0/task:0/device:CPU:0\"]()]]\n"
     ]
    }
   ],
   "source": [
    "img_rows, img_cols = 28,28\n",
    "\n",
    "model = keras.models.load_model('my_model.h5')\n",
    "cnn_noisy_predictions_probas = model.predict(noisy_nmist_X_train.reshape(-1, img_rows, img_cols, 1))\n",
    "cnn_noisy_predictions = np.argmax(cnn_noisy_predictions_probas, axis=-1)\n",
    "\n",
    "cnn_blur_predictions_probas = model.predict(blur_nmist_X_train.reshape(-1, img_rows, img_cols, 1))\n",
    "cnn_blur_predictions = np.argmax(cnn_blur_predictions_probas, axis=-1)\n",
    "\n",
    "cnn_contrast_predictions_probas = model.predict(contrast_nmist_X_train.reshape(-1, img_rows, img_cols, 1))\n",
    "cnn_contrast_predictions = np.argmax(cnn_contrast_predictions_probas, axis=-1)"
   ]
  },
  {
   "cell_type": "code",
   "execution_count": null,
   "metadata": {},
   "outputs": [],
   "source": [
    "noisy_accuracy = len(np.argwhere(cnn_noisy_predictions == noisy_nmist_Y_train))/len(noisy_nmist_Y_train)\n",
    "print(noisy_accuracy)\n",
    "\n",
    "blur_accuracy = len(np.argwhere(cnn_blur_predictions == blur_nmist_Y_train))/len(blur_nmist_Y_train)\n",
    "print(blur_accuracy)\n",
    "\n",
    "noisy_accuracy = len(np.argwhere(cnn_contrast_predictions == contrast_nmist_Y_train))/len(contrast_nmist_Y_train)\n",
    "print(noisy_accuracy)"
   ]
  },
  {
   "cell_type": "markdown",
   "metadata": {},
   "source": [
    "## Use GP to predict noisy training examples"
   ]
  },
  {
   "cell_type": "code",
   "execution_count": null,
   "metadata": {
    "scrolled": false
   },
   "outputs": [],
   "source": [
    "%%time\n",
    "\n",
    "# noisy_X_train = get_gp_mnist_data('my_model.h5', noisy_nmist_X_train.reshape(-1, img_rows, img_cols, 1))\n",
    "# blur_X_train = get_gp_mnist_data('my_model.h5', blur_nmist_X_train.reshape(-1, img_rows, img_cols, 1))\n",
    "# contrast_X_train = get_gp_mnist_data('my_model.h5', contrast_nmist_X_train.reshape(-1, img_rows, img_cols, 1))\n",
    "\n",
    "noisy_X_train = np.load('data/noisy_X_train.npy')\n",
    "blur_X_train = np.load('data/blur_X_train.npy')\n",
    "contrast_X_train = np.load('data/contrast_X_train.npy')\n"
   ]
  },
  {
   "cell_type": "code",
   "execution_count": null,
   "metadata": {},
   "outputs": [],
   "source": [
    "noisy_X_train = noisy_X_train.astype('float64').reshape(-1,num_features)\n",
    "noisy_probas, noisy_var = m.predict_y(noisy_X_train)\n",
    "noisy_predictions = np.argmax(noisy_probas, axis=-1)\n",
    "\n",
    "blur_X_train = blur_X_train.astype('float64').reshape(-1,num_features)\n",
    "blur_probas, blur_var = m.predict_y(blur_X_train)\n",
    "blur_predictions = np.argmax(blur_probas, axis=-1)\n",
    "\n",
    "contrast_X_train = contrast_X_train.astype('float64').reshape(-1,num_features)\n",
    "contrast_probas, contrast_var = m.predict_y(contrast_X_train)\n",
    "contrast_predictions = np.argmax(contrast_probas, axis=-1)"
   ]
  },
  {
   "cell_type": "code",
   "execution_count": null,
   "metadata": {},
   "outputs": [],
   "source": [
    "noisy_accuracy = len(np.argwhere(noisy_predictions == noisy_nmist_Y_train))/len(noisy_nmist_Y_train)\n",
    "blur_accuracy = len(np.argwhere(blur_predictions == blur_nmist_Y_train))/len(blur_nmist_Y_train)\n",
    "contrast_accuracy = len(np.argwhere(contrast_predictions == contrast_nmist_Y_train))/len(contrast_nmist_Y_train)\n",
    "print(noisy_accuracy)\n",
    "print(blur_accuracy)\n",
    "print(contrast_accuracy)"
   ]
  },
  {
   "cell_type": "code",
   "execution_count": null,
   "metadata": {},
   "outputs": [],
   "source": [
    "%matplotlib inline\n",
    "def draw_img(img, axes,title=\"\"):\n",
    "    axes.imshow(img.reshape(28,28),cmap =plt.cm.gray_r) \n",
    "    axes.set_xticks([])\n",
    "    axes.set_yticks([])\n",
    "    axes.set_title(title)\n",
    "    \n",
    "def draw_probs(prob, var=None, axes=None):\n",
    "    axes.bar(np.arange(10), prob, yerr=var)\n",
    "    axes.set_ylim([0,1])\n",
    "    axes.set_xticks(np.arange(10))\n",
    "#     axes.set_xlabel(\"Digit\")\n",
    "    \n",
    "def plot_noisy_example(img_index):\n",
    "    fig = plt.figure(figsize=(12,10))\n",
    "\n",
    "    draw_img(noisy_nmist_X_train[img_index], fig.add_subplot(3,3,1), title=\"White noise\")\n",
    "    draw_probs(noisy_probas[img_index], noisy_var[img_index], axes=fig.add_subplot(3,3,2)) \n",
    "    draw_probs(cnn_noisy_predictions_probas[img_index], axes=fig.add_subplot(3,3,3)) \n",
    "\n",
    "    draw_img(blur_nmist_X_train[img_index], fig.add_subplot(3,3,4), title=\"Motion blur\")\n",
    "    draw_probs(blur_probas[img_index], blur_var[img_index], axes=fig.add_subplot(3,3,5)) \n",
    "    draw_probs(cnn_blur_predictions_probas[img_index], axes=fig.add_subplot(3,3,6)) \n",
    "    \n",
    "    draw_img(contrast_nmist_X_train[img_index], fig.add_subplot(3,3,7), title=\"White noise + reduced contrast\")\n",
    "    draw_probs(contrast_probas[img_index], contrast_var[img_index], fig.add_subplot(3,3,8)) \n",
    "    draw_probs(cnn_contrast_predictions_probas[img_index], axes=fig.add_subplot(3,3,9)) \n",
    "    \n",
    "# img_index=1100\n",
    "# plot_noisy_example(img_index)"
   ]
  },
  {
   "cell_type": "code",
   "execution_count": null,
   "metadata": {},
   "outputs": [],
   "source": [
    "incorrect_indices = np.argwhere(noisy_predictions != noisy_nmist_Y_train)\n",
    "correct_indices = np.argwhere(noisy_predictions == noisy_nmist_Y_train)\n",
    "print(incorrect_indices.shape)\n",
    "print(correct_indices.shape)\n",
    "img_index = incorrect_indices[0][0]\n",
    "print(\"Index: {}\".format(img_index))\n",
    "print(\"Correct class: {}\".format(noisy_nmist_Y_train[img_index]))\n",
    "plot_noisy_example(img_index)"
   ]
  },
  {
   "cell_type": "markdown",
   "metadata": {},
   "source": [
    "Instead of accuracy use correct prediction score:\n",
    "- 1 if correct prediction\n",
    "- 0 if NN says \"I don't know\"\n",
    "- -1 if incorrect"
   ]
  },
  {
   "cell_type": "markdown",
   "metadata": {},
   "source": [
    "1. Eyeball\n",
    "2. Invent metric\n",
    "3. Embed in end-to-end system"
   ]
  },
  {
   "cell_type": "code",
   "execution_count": 39,
   "metadata": {},
   "outputs": [
    {
     "ename": "AttributeError",
     "evalue": "'SVGP' object has no attribute 'predict'",
     "output_type": "error",
     "traceback": [
      "\u001b[0;31m---------------------------------------------------------------------------\u001b[0m",
      "\u001b[0;31mAttributeError\u001b[0m                            Traceback (most recent call last)",
      "\u001b[0;32m<ipython-input-39-ea2e65e027c1>\u001b[0m in \u001b[0;36m<module>\u001b[0;34m()\u001b[0m\n\u001b[1;32m      1\u001b[0m \u001b[0mfig\u001b[0m \u001b[0;34m=\u001b[0m \u001b[0mplt\u001b[0m\u001b[0;34m.\u001b[0m\u001b[0mfigure\u001b[0m\u001b[0;34m(\u001b[0m\u001b[0mfigsize\u001b[0m\u001b[0;34m=\u001b[0m\u001b[0;34m(\u001b[0m\u001b[0;36m18\u001b[0m\u001b[0;34m,\u001b[0m\u001b[0;36m8\u001b[0m\u001b[0;34m)\u001b[0m\u001b[0;34m)\u001b[0m\u001b[0;34m\u001b[0m\u001b[0m\n\u001b[1;32m      2\u001b[0m \u001b[0mtest_index\u001b[0m \u001b[0;34m=\u001b[0m \u001b[0;36m18\u001b[0m\u001b[0;34m\u001b[0m\u001b[0m\n\u001b[0;32m----> 3\u001b[0;31m \u001b[0mcnn_pred\u001b[0m \u001b[0;34m=\u001b[0m \u001b[0mm\u001b[0m\u001b[0;34m.\u001b[0m\u001b[0mpredict\u001b[0m\u001b[0;34m(\u001b[0m\u001b[0mnp\u001b[0m\u001b[0;34m.\u001b[0m\u001b[0marray\u001b[0m\u001b[0;34m(\u001b[0m\u001b[0;34m[\u001b[0m\u001b[0mmnist_test\u001b[0m\u001b[0;34m[\u001b[0m\u001b[0mtest_index\u001b[0m\u001b[0;34m]\u001b[0m\u001b[0;34m]\u001b[0m\u001b[0;34m)\u001b[0m\u001b[0;34m)\u001b[0m\u001b[0;34m[\u001b[0m\u001b[0;36m0\u001b[0m\u001b[0;34m]\u001b[0m\u001b[0;34m\u001b[0m\u001b[0m\n\u001b[0m\u001b[1;32m      4\u001b[0m \u001b[0mdraw_img\u001b[0m\u001b[0;34m(\u001b[0m\u001b[0mmnist_test\u001b[0m\u001b[0;34m[\u001b[0m\u001b[0mtest_index\u001b[0m\u001b[0;34m]\u001b[0m\u001b[0;34m,\u001b[0m \u001b[0mfig\u001b[0m\u001b[0;34m.\u001b[0m\u001b[0madd_subplot\u001b[0m\u001b[0;34m(\u001b[0m\u001b[0;36m1\u001b[0m\u001b[0;34m,\u001b[0m\u001b[0;36m1\u001b[0m\u001b[0;34m,\u001b[0m\u001b[0;36m1\u001b[0m\u001b[0;34m)\u001b[0m\u001b[0;34m,\u001b[0m \u001b[0mtitle\u001b[0m\u001b[0;34m=\u001b[0m\u001b[0;34m\"MNIST test image\"\u001b[0m\u001b[0;34m)\u001b[0m\u001b[0;34m\u001b[0m\u001b[0m\n\u001b[1;32m      5\u001b[0m \u001b[0mfig\u001b[0m\u001b[0;34m.\u001b[0m\u001b[0msavefig\u001b[0m\u001b[0;34m(\u001b[0m\u001b[0;34m\"figs/mnist_test.png\"\u001b[0m\u001b[0;34m,\u001b[0m \u001b[0mbbox_inches\u001b[0m\u001b[0;34m=\u001b[0m\u001b[0;34m\"tight\"\u001b[0m\u001b[0;34m)\u001b[0m\u001b[0;34m\u001b[0m\u001b[0m\n",
      "\u001b[0;32m~/anaconda/envs/python3/lib/python3.5/site-packages/gpflow-1.1.0-py3.5.egg/gpflow/params/parameterized.py\u001b[0m in \u001b[0;36m__getattribute__\u001b[0;34m(self, name)\u001b[0m\n\u001b[1;32m    325\u001b[0m \u001b[0;34m\u001b[0m\u001b[0m\n\u001b[1;32m    326\u001b[0m     \u001b[0;32mdef\u001b[0m \u001b[0m__getattribute__\u001b[0m\u001b[0;34m(\u001b[0m\u001b[0mself\u001b[0m\u001b[0;34m,\u001b[0m \u001b[0mname\u001b[0m\u001b[0;34m)\u001b[0m\u001b[0;34m:\u001b[0m\u001b[0;34m\u001b[0m\u001b[0m\n\u001b[0;32m--> 327\u001b[0;31m         \u001b[0mattr\u001b[0m \u001b[0;34m=\u001b[0m \u001b[0mmisc\u001b[0m\u001b[0;34m.\u001b[0m\u001b[0mget_attribute\u001b[0m\u001b[0;34m(\u001b[0m\u001b[0mself\u001b[0m\u001b[0;34m,\u001b[0m \u001b[0mname\u001b[0m\u001b[0;34m)\u001b[0m\u001b[0;34m\u001b[0m\u001b[0m\n\u001b[0m\u001b[1;32m    328\u001b[0m         \u001b[0;32mif\u001b[0m \u001b[0misinstance\u001b[0m\u001b[0;34m(\u001b[0m\u001b[0mattr\u001b[0m\u001b[0;34m,\u001b[0m \u001b[0mParameter\u001b[0m\u001b[0;34m)\u001b[0m \u001b[0;32mand\u001b[0m \u001b[0mTensorConverter\u001b[0m\u001b[0;34m.\u001b[0m\u001b[0mtensor_mode\u001b[0m\u001b[0;34m(\u001b[0m\u001b[0mself\u001b[0m\u001b[0;34m)\u001b[0m\u001b[0;34m:\u001b[0m\u001b[0;34m\u001b[0m\u001b[0m\n\u001b[1;32m    329\u001b[0m             \u001b[0;32mreturn\u001b[0m \u001b[0mParameterized\u001b[0m\u001b[0;34m.\u001b[0m\u001b[0m_tensor_mode_parameter\u001b[0m\u001b[0;34m(\u001b[0m\u001b[0mattr\u001b[0m\u001b[0;34m)\u001b[0m\u001b[0;34m\u001b[0m\u001b[0m\n",
      "\u001b[0;32m~/anaconda/envs/python3/lib/python3.5/site-packages/gpflow-1.1.0-py3.5.egg/gpflow/misc.py\u001b[0m in \u001b[0;36mget_attribute\u001b[0;34m(obj, name, allow_fail, default)\u001b[0m\n\u001b[1;32m    134\u001b[0m         \u001b[0;32mif\u001b[0m \u001b[0mallow_fail\u001b[0m\u001b[0;34m:\u001b[0m\u001b[0;34m\u001b[0m\u001b[0m\n\u001b[1;32m    135\u001b[0m             \u001b[0;32mreturn\u001b[0m \u001b[0mdefault\u001b[0m\u001b[0;34m\u001b[0m\u001b[0m\n\u001b[0;32m--> 136\u001b[0;31m         \u001b[0;32mraise\u001b[0m \u001b[0merror\u001b[0m\u001b[0;34m\u001b[0m\u001b[0m\n\u001b[0m\u001b[1;32m    137\u001b[0m \u001b[0;34m\u001b[0m\u001b[0m\n\u001b[1;32m    138\u001b[0m \u001b[0;34m\u001b[0m\u001b[0m\n",
      "\u001b[0;32m~/anaconda/envs/python3/lib/python3.5/site-packages/gpflow-1.1.0-py3.5.egg/gpflow/misc.py\u001b[0m in \u001b[0;36mget_attribute\u001b[0;34m(obj, name, allow_fail, default)\u001b[0m\n\u001b[1;32m    130\u001b[0m \u001b[0;32mdef\u001b[0m \u001b[0mget_attribute\u001b[0m\u001b[0;34m(\u001b[0m\u001b[0mobj\u001b[0m\u001b[0;34m,\u001b[0m \u001b[0mname\u001b[0m\u001b[0;34m,\u001b[0m \u001b[0mallow_fail\u001b[0m\u001b[0;34m=\u001b[0m\u001b[0;32mFalse\u001b[0m\u001b[0;34m,\u001b[0m \u001b[0mdefault\u001b[0m\u001b[0;34m=\u001b[0m\u001b[0;32mNone\u001b[0m\u001b[0;34m)\u001b[0m\u001b[0;34m:\u001b[0m\u001b[0;34m\u001b[0m\u001b[0m\n\u001b[1;32m    131\u001b[0m     \u001b[0;32mtry\u001b[0m\u001b[0;34m:\u001b[0m\u001b[0;34m\u001b[0m\u001b[0m\n\u001b[0;32m--> 132\u001b[0;31m         \u001b[0;32mreturn\u001b[0m \u001b[0mobject\u001b[0m\u001b[0;34m.\u001b[0m\u001b[0m__getattribute__\u001b[0m\u001b[0;34m(\u001b[0m\u001b[0mobj\u001b[0m\u001b[0;34m,\u001b[0m \u001b[0mname\u001b[0m\u001b[0;34m)\u001b[0m\u001b[0;34m\u001b[0m\u001b[0m\n\u001b[0m\u001b[1;32m    133\u001b[0m     \u001b[0;32mexcept\u001b[0m \u001b[0mAttributeError\u001b[0m \u001b[0;32mas\u001b[0m \u001b[0merror\u001b[0m\u001b[0;34m:\u001b[0m\u001b[0;34m\u001b[0m\u001b[0m\n\u001b[1;32m    134\u001b[0m         \u001b[0;32mif\u001b[0m \u001b[0mallow_fail\u001b[0m\u001b[0;34m:\u001b[0m\u001b[0;34m\u001b[0m\u001b[0m\n",
      "\u001b[0;31mAttributeError\u001b[0m: 'SVGP' object has no attribute 'predict'"
     ]
    },
    {
     "data": {
      "text/plain": [
       "<matplotlib.figure.Figure at 0x10d2f9438>"
      ]
     },
     "metadata": {},
     "output_type": "display_data"
    }
   ],
   "source": [
    "fig = plt.figure(figsize=(18,8))\n",
    "test_index = 18\n",
    "cnn_pred = m.predict(np.array([mnist_test[test_index]]))[0]\n",
    "draw_img(mnist_test[test_index], fig.add_subplot(1,1,1), title=\"MNIST test image\")\n",
    "fig.savefig(\"figs/mnist_test.png\", bbox_inches=\"tight\")\n",
    "fig = plt.figure()\n",
    "draw_probs(p[test_index], var[test_index], axes=fig.add_subplot(1,1,1)) \n",
    "fig.savefig(\"figs/gp_test.png\", bbox_inches=\"tight\")\n",
    "fig = plt.figure()\n",
    "draw_probs(cnn_pred, axes=fig.add_subplot(1,1,1)) \n",
    "fig.savefig(\"figs/cnn_test.png\", bbox_inches=\"tight\")"
   ]
  },
  {
   "cell_type": "code",
   "execution_count": 38,
   "metadata": {},
   "outputs": [
    {
     "name": "stdout",
     "output_type": "stream",
     "text": [
      "3.25946465745429\n",
      "-3.1437234354668173\n",
      "[[0.05470652 0.50387217 0.01420017 0.01610646 0.04521335 0.02600623\n",
      "  0.07980607 0.11502654 0.00414209 0.14013986]\n",
      " [0.0473342  0.46659441 0.0191117  0.01635278 0.04950845 0.02666697\n",
      "  0.08416742 0.10239602 0.00581452 0.18127465]\n",
      " [0.0411996  0.43140947 0.02566908 0.01813896 0.05894305 0.02977837\n",
      "  0.08113962 0.1046315  0.00881704 0.19948654]\n",
      " [0.03957462 0.4226856  0.02935377 0.01839392 0.05971575 0.03160338\n",
      "  0.08038327 0.10734486 0.01048866 0.19966264]]\n"
     ]
    },
    {
     "data": {
      "image/png": "[encoded data removed]",
      "text/plain": [
       "<matplotlib.figure.Figure at 0x12f75de10>"
      ]
     },
     "metadata": {},
     "output_type": "display_data"
    }
   ],
   "source": [
    "%matplotlib inline\n",
    "index = 3\n",
    "noise = np.random.randn(28, 28, 1)\n",
    "# noise = np.ones(shape=(28,28,1))\n",
    "# noise = noise / max(noise.max(), noise.min())\n",
    "print(noise.max())\n",
    "print(noise.min())\n",
    "image = mnist_test[index]\n",
    "\n",
    "num_images = 4\n",
    "noisy_images = np.concatenate([np.clip(image + i/(num_images-1) * noise, -1, 1).reshape(-1, 28*28) for i in range(num_images)])\n",
    "noisy_p, noisy_var = m.predict_y(noisy_images)\n",
    "\n",
    "print(noisy_p)\n",
    "fig = plt.figure(figsize=(10, 4))\n",
    "for i in range(num_images):\n",
    "    ax = fig.add_subplot(2,num_images, i+1)\n",
    "    noisy_image = noisy_images[i]\n",
    "    \n",
    "    plt.bar(np.arange(10), p[index].squeeze(), yerr=var[index].squeeze())\n",
    "    ax.imshow(noisy_image.reshape(28,28), cmap=plt.cm.gray_r) \n",
    "    ax.set_xticks([])\n",
    "    ax.set_yticks([])\n",
    "    \n",
    "    ax2 = fig.add_subplot(2,num_images,i+1+num_images)\n",
    "    ax2.bar(np.arange(10), noisy_p[i].squeeze(), yerr=noisy_var[i].squeeze())\n",
    "    ax2.set_ylim([0,1])\n"
   ]
  },
  {
   "cell_type": "code",
   "execution_count": null,
   "metadata": {},
   "outputs": [],
   "source": []
  },
  {
   "cell_type": "code",
   "execution_count": null,
   "metadata": {},
   "outputs": [],
   "source": []
  }
 ],
 "metadata": {
  "anaconda-cloud": {},
  "kernelspec": {
   "display_name": "Python [conda env:python3]",
   "language": "python",
   "name": "conda-env-python3-py"
  },
  "language_info": {
   "codemirror_mode": {
    "name": "ipython",
    "version": 3
   },
   "file_extension": ".py",
   "mimetype": "text/x-python",
   "name": "python",
   "nbconvert_exporter": "python",
   "pygments_lexer": "ipython3",
   "version": "3.5.4"
  },
  "toc": {
   "nav_menu": {},
   "number_sections": true,
   "sideBar": true,
   "skip_h1_title": false,
   "toc_cell": false,
   "toc_position": {},
   "toc_section_display": "block",
   "toc_window_display": false
  }
 },
 "nbformat": 4,
 "nbformat_minor": 2
}
