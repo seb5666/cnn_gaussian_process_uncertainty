{
 "cells": [
  {
   "cell_type": "code",
   "execution_count": 83,
   "metadata": {},
   "outputs": [],
   "source": [
    "from get_mnist_features import get_gp_mnist_data\n",
    "from keras.datasets import mnist\n",
    "import numpy as np\n",
    "import scipy.io\n",
    "\n",
    "from keras.utils import to_categorical\n",
    "from keras import backend as K\n",
    "\n",
    "from matplotlib import pyplot as plt\n",
    "plt.style.use('ggplot')"
   ]
  },
  {
   "cell_type": "code",
   "execution_count": 86,
   "metadata": {},
   "outputs": [
    {
     "name": "stdout",
     "output_type": "stream",
     "text": [
      "(2, 128)\n",
      "False\n"
     ]
    }
   ],
   "source": [
    "# %%time\n",
    "# (mnist_train, X_train, y_train) ,(mnist_test, X_test, y_test) = get_gp_mnist_data('my_model.h5')\n",
    "mnist_train = np.load('data/mnist_train.npy')\n",
    "X_train = np.load('data/X_train.npy')\n",
    "y_train = np.load('data/y_train.npy')\n",
    "\n",
    "mnist_test = np.load('data/mnist_test.npy')\n",
    "X_test = np.load('data/X_test.npy')\n",
    "y_test = np.load('data/y_test.npy')"
   ]
  },
  {
   "cell_type": "code",
   "execution_count": 124,
   "metadata": {},
   "outputs": [
    {
     "name": "stdout",
     "output_type": "stream",
     "text": [
      "Image data format: channels_last\n"
     ]
    }
   ],
   "source": [
    "(mnist_train, y_train), (mnist_test, y_test) = mnist.load_data()\n",
    "\n",
    "mnist_train = mnist_train.astype('float32')\n",
    "mnist_train /= 255\n",
    "mnist_test = mnist_test.astype('float32')\n",
    "mnist_test /= 255\n",
    "\n",
    "#Handle Theano and Tensorflow data format\n",
    "img_rows, img_cols = 28,28\n",
    "\n",
    "print(\"Image data format: {}\".format(K.image_data_format()))\n",
    "\n",
    "if K.image_data_format() == 'channel_first':\n",
    "    mnist_train = mnist_train.reshape(mnist_train.shape[0], 1, img_rows, img_cols)\n",
    "    mnist_test = mnist_test.reshape(mnist_test.shape[0], 1, img_rows, img_cols)\n",
    "    input_shape = (1, img_rows, img_cols)\n",
    "else:\n",
    "    mnist_train = mnist_train.reshape(mnist_train.shape[0], img_rows, img_cols, 1)\n",
    "    mnist_test = mnist_test.reshape(mnist_test.shape[0], img_rows, img_cols, 1)\n",
    "    input_shape = (img_rows, img_cols, 1)\n",
    "\n",
    "X_train = get_gp_mnist_data('my_model.h5', mnist_train)\n",
    "X_test = get_gp_mnist_data('my_model.h5', mnist_test)"
   ]
  },
  {
   "cell_type": "code",
   "execution_count": 126,
   "metadata": {},
   "outputs": [
    {
     "name": "stdout",
     "output_type": "stream",
     "text": [
      "(60000, 128)\n",
      "(60000,)\n",
      "(10000, 128)\n",
      "(10000,)\n"
     ]
    }
   ],
   "source": [
    "print(X_train.shape)\n",
    "print(y_train.shape)\n",
    "print(X_test.shape)\n",
    "print(y_test.shape)"
   ]
  },
  {
   "cell_type": "markdown",
   "metadata": {},
   "source": [
    "# Train a GP on the features"
   ]
  },
  {
   "cell_type": "code",
   "execution_count": 127,
   "metadata": {},
   "outputs": [],
   "source": [
    "import gpflow\n",
    "import tensorflow as tf\n",
    "\n",
    "from sklearn.metrics import classification_report\n",
    "\n",
    "from matplotlib import pyplot as plt"
   ]
  },
  {
   "cell_type": "code",
   "execution_count": 128,
   "metadata": {},
   "outputs": [],
   "source": [
    "num_classes = 10\n",
    "num_features = 128"
   ]
  },
  {
   "cell_type": "code",
   "execution_count": 129,
   "metadata": {
    "scrolled": false
   },
   "outputs": [
    {
     "name": "stdout",
     "output_type": "stream",
     "text": [
      "CPU times: user 6.13 s, sys: 126 ms, total: 6.25 s\n",
      "Wall time: 6.27 s\n"
     ]
    }
   ],
   "source": [
    "%%time\n",
    "X_train = X_train.astype('float64').reshape(-1,num_features)[:100]\n",
    "y_train = y_train.astype('float64').reshape(-1,1)[:100]\n",
    "kernel = gpflow.kernels.Matern32(num_features) + gpflow.kernels.White(num_features, variance=0.01)\n",
    "likelihood = gpflow.likelihoods.MultiClass(num_classes)\n",
    "Z=X_train[::5].copy()\n",
    "num_latent=num_classes\n",
    "whiten=True\n",
    "q_diag=True\n",
    "m = gpflow.models.SVGP(X_train, y_train, \n",
    "                       kern=kernel, \n",
    "                       likelihood=likelihood,\n",
    "                       Z=Z, \n",
    "                       num_latent=num_latent,\n",
    "                       whiten=whiten, \n",
    "                       q_diag=q_diag)\n",
    "\n",
    "m.kern.white.variance.trainable = False\n",
    "m.feature.trainable = False\n",
    "m.as_pandas_table()"
   ]
  },
  {
   "cell_type": "code",
   "execution_count": 130,
   "metadata": {},
   "outputs": [
    {
     "name": "stdout",
     "output_type": "stream",
     "text": [
      "INFO:tensorflow:Optimization terminated with:\n",
      "  Message: b'CONVERGENCE: REL_REDUCTION_OF_F_<=_FACTR*EPSMCH'\n",
      "  Objective function value: 181.408685\n",
      "  Number of iterations: 430\n",
      "  Number of functions evaluations: 461\n",
      "CPU times: user 24.4 s, sys: 1.09 s, total: 25.5 s\n",
      "Wall time: 14.9 s\n"
     ]
    }
   ],
   "source": [
    "%%time\n",
    "opt = gpflow.train.ScipyOptimizer()\n",
    "opt.minimize(m)"
   ]
  },
  {
   "cell_type": "code",
   "execution_count": 131,
   "metadata": {},
   "outputs": [
    {
     "name": "stdout",
     "output_type": "stream",
     "text": [
      "(10000, 128)\n",
      "CPU times: user 9.93 s, sys: 204 ms, total: 10.1 s\n",
      "Wall time: 4.15 s\n"
     ]
    }
   ],
   "source": [
    "%%time\n",
    "X_test = X_test.astype('float64').reshape(-1,num_features)\n",
    "print(X_test.shape)\n",
    "p, var = m.predict_y(X_test)"
   ]
  },
  {
   "cell_type": "code",
   "execution_count": 133,
   "metadata": {},
   "outputs": [
    {
     "name": "stdout",
     "output_type": "stream",
     "text": [
      "[[5.02960579e-04 2.80773098e-04 5.78859711e-04 ... 9.95864386e-01\n",
      "  1.37191959e-04 4.65607477e-04]\n",
      " [1.17888847e-01 2.05015637e-01 5.54519378e-01 ... 1.70934400e-02\n",
      "  1.34243288e-02 3.32000458e-03]\n",
      " [4.30769868e-04 9.93699870e-01 5.43096884e-04 ... 9.60634160e-04\n",
      "  3.84366619e-04 2.16496552e-04]\n",
      " ...\n",
      " [7.88156886e-04 1.05512535e-02 5.53965877e-04 ... 2.98003599e-03\n",
      "  7.83300095e-03 1.95017843e-02]\n",
      " [8.82369605e-03 3.57805347e-03 1.42156159e-03 ... 3.14267685e-03\n",
      "  2.29945098e-02 1.79625980e-02]\n",
      " [2.23199743e-03 7.16688679e-04 1.25470680e-03 ... 4.39776136e-04\n",
      "  2.66057504e-04 3.74319595e-04]]\n"
     ]
    }
   ],
   "source": [
    "print(p)"
   ]
  },
  {
   "cell_type": "code",
   "execution_count": 134,
   "metadata": {},
   "outputs": [
    {
     "name": "stdout",
     "output_type": "stream",
     "text": [
      "0.9612\n",
      "             precision    recall  f1-score   support\n",
      "\n",
      "          0       0.96      1.00      0.98       980\n",
      "          1       0.95      1.00      0.97      1135\n",
      "          2       1.00      0.91      0.95      1032\n",
      "          3       0.99      0.99      0.99      1010\n",
      "          4       0.98      0.99      0.98       982\n",
      "          5       1.00      0.86      0.92       892\n",
      "          6       0.96      0.99      0.97       958\n",
      "          7       0.96      0.98      0.97      1028\n",
      "          8       1.00      0.91      0.95       974\n",
      "          9       0.86      0.99      0.92      1009\n",
      "\n",
      "avg / total       0.96      0.96      0.96     10000\n",
      "\n"
     ]
    }
   ],
   "source": [
    "predictions = np.argmax(p, axis=-1)\n",
    "accuracy = len(np.argwhere(predictions == y_test))/len(predictions)\n",
    "print(accuracy)\n",
    "print(classification_report(y_test, predictions))"
   ]
  },
  {
   "cell_type": "code",
   "execution_count": 135,
   "metadata": {},
   "outputs": [
    {
     "name": "stdout",
     "output_type": "stream",
     "text": [
      "388\n"
     ]
    }
   ],
   "source": [
    "incorrect_indices = np.argwhere(predictions != y_test)\n",
    "correct_indices = np.argwhere(predictions == y_test)\n",
    "print(len(incorrect_indices))"
   ]
  },
  {
   "cell_type": "code",
   "execution_count": 136,
   "metadata": {},
   "outputs": [
    {
     "name": "stdout",
     "output_type": "stream",
     "text": [
      "[0.24538107 0.0209174  0.09439507 0.02358613 0.00745645 0.005549\n",
      " 0.10242879 0.00211885 0.16866585 0.06528849]\n",
      "Correct class: [8]\n"
     ]
    },
    {
     "data": {
      "text/plain": [
       "<matplotlib.image.AxesImage at 0x1d9ac3b70>"
      ]
     },
     "execution_count": 136,
     "metadata": {},
     "output_type": "execute_result"
    },
    {
     "data": {
      "image/png": "[encoded data removed]",
      "text/plain": [
       "<matplotlib.figure.Figure at 0x1da883160>"
      ]
     },
     "metadata": {},
     "output_type": "display_data"
    },
    {
     "data": {
      "image/png": "[encoded data removed]",
      "text/plain": [
       "<matplotlib.figure.Figure at 0x1d9ae28d0>"
      ]
     },
     "metadata": {},
     "output_type": "display_data"
    }
   ],
   "source": [
    "%matplotlib inline\n",
    "index = incorrect_indices[5]\n",
    "print(var[index].squeeze())\n",
    "plt.bar(np.arange(10), p[index].squeeze(), yerr=var[index].squeeze())\n",
    "print(\"Correct class: {}\".format(y_test[index]))\n",
    "plt.figure()\n",
    "plt.imshow(mnist_test[index].reshape(28,28),cmap =plt.cm.gray_r, interpolation = \"nearest\") "
   ]
  },
  {
   "cell_type": "code",
   "execution_count": 137,
   "metadata": {},
   "outputs": [
    {
     "name": "stdout",
     "output_type": "stream",
     "text": [
      "[5777]\n",
      "[0.00382133 0.00631087 0.02604019 0.00235345 0.00499557 0.00953762\n",
      " 0.01598742 0.00340596 0.88588116 0.04086743]\n",
      "[0.00380673 0.00627105 0.0253621  0.00234791 0.00497062 0.00944666\n",
      " 0.01573182 0.00339436 0.10109573 0.03919728]\n",
      "Correct class: [8]\n"
     ]
    },
    {
     "data": {
      "text/plain": [
       "<matplotlib.image.AxesImage at 0x1d6730278>"
      ]
     },
     "execution_count": 137,
     "metadata": {},
     "output_type": "execute_result"
    },
    {
     "data": {
      "image/png": "[encoded data removed]",
      "text/plain": [
       "<matplotlib.figure.Figure at 0x1d9acf4e0>"
      ]
     },
     "metadata": {},
     "output_type": "display_data"
    },
    {
     "data": {
      "image/png": "[encoded data removed]",
      "text/plain": [
       "<matplotlib.figure.Figure at 0x130c15668>"
      ]
     },
     "metadata": {},
     "output_type": "display_data"
    }
   ],
   "source": [
    "# %matplotlib inline\n",
    "index = correct_indices[5496]\n",
    "print(index)\n",
    "print(p[index].squeeze())\n",
    "print(var[index].squeeze())\n",
    "plt.bar(np.arange(10), p[index].squeeze(), yerr=var[index].squeeze())\n",
    "print(\"Correct class: {}\".format(y_test[index]))\n",
    "plt.figure()\n",
    "plt.imshow(mnist_test[index].reshape(28,28),cmap =plt.cm.gray_r, interpolation = \"nearest\") "
   ]
  },
  {
   "cell_type": "markdown",
   "metadata": {},
   "source": [
    "## Noisy mnist"
   ]
  },
  {
   "cell_type": "code",
   "execution_count": 138,
   "metadata": {
    "scrolled": true
   },
   "outputs": [
    {
     "name": "stdout",
     "output_type": "stream",
     "text": [
      "['__header__', 'test_x', '__globals__', 'train_y', 'test_y', '__version__', 'train_x']\n",
      "['__header__', 'test_x', '__globals__', 'train_y', 'test_y', '__version__', 'train_x']\n",
      "['__header__', 'test_x', '__globals__', 'train_y', 'test_y', '__version__', 'train_x']\n"
     ]
    }
   ],
   "source": [
    "def load_data(DATA_DIR):\n",
    "    rows, cols = 28, 28\n",
    "    nb_classes = 10\n",
    "\n",
    "    mat = scipy.io.loadmat(DATA_DIR)\n",
    "    print(list(mat.keys()))\n",
    "    X_train = mat['train_x']\n",
    "    Y_train = np.argmax(mat['train_y'], axis=-1)\n",
    "    X_test = mat['test_x']\n",
    "    Y_test = np.argmax(mat['test_y'], axis=-1)\n",
    "    \n",
    "    # Reshape and format input\n",
    "    \n",
    "    #Renormalize images\n",
    "    X_train = X_train.astype('float32')\n",
    "    X_train /= 255.0\n",
    "    X_test = X_test.astype('float32')\n",
    "    X_test /= 255.0\n",
    "\n",
    "    return (X_train, Y_train, X_test, Y_test)\n",
    "\n",
    "(noisy_nmist_X_train, noisy_nmist_Y_train, noisy_nmist_X_test, noisy_nmist_Y_test) = load_data('data/mnist-with-awgn.mat')\n",
    "(blur_nmist_X_train, blur_nmist_Y_train, blur_nmist_X_test, blur_nmist_Y_test) = load_data('data/mnist-with-motion-blur.mat')\n",
    "(contrast_nmist_X_train, contrast_nmist_Y_train, contrast_nmist_X_test, contrast_nmist_Y_test) = load_data('data/mnist-with-reduced-contrast-and-awgn.mat')"
   ]
  },
  {
   "cell_type": "code",
   "execution_count": 185,
   "metadata": {},
   "outputs": [
    {
     "data": {
      "image/png": "[encoded data removed]",
      "text/plain": [
       "<matplotlib.figure.Figure at 0x1410b7080>"
      ]
     },
     "metadata": {},
     "output_type": "display_data"
    }
   ],
   "source": [
    "fig = plt.figure(figsize=(13,4))\n",
    "ax1 = fig.add_subplot(1,3,1)\n",
    "\n",
    "index=4\n",
    "\n",
    "ax1.imshow(noisy_nmist_X_test[index].reshape(28,28),cmap =plt.cm.gray_r) \n",
    "ax1.set_xticks([])\n",
    "ax1.set_yticks([])\n",
    "ax1.set_title(\"Additive white Gaussian noise\")\n",
    "\n",
    "ax2 = fig.add_subplot(1,3, 2)\n",
    "ax2.imshow(blur_nmist_X_test[index].reshape(28,28),cmap =plt.cm.gray_r) \n",
    "ax2.set_xticks([])\n",
    "ax2.set_yticks([])\n",
    "ax2.set_title(\"Motion blur\")\n",
    "\n",
    "ax3 = fig.add_subplot(1,3, 3)\n",
    "ax3.imshow(contrast_nmist_X_test[index].reshape(28,28),cmap =plt.cm.gray_r) \n",
    "ax3.set_xticks([])\n",
    "ax3.set_yticks([])\n",
    "ax3.set_title(\"Reduced contrast and AWGN\")\n",
    "\n",
    "fig.savefig(\"figs/noisy_mnist_example.png\", bbox_inches='tight')"
   ]
  },
  {
   "cell_type": "markdown",
   "metadata": {},
   "source": [
    "## Use CNN to predict noisy training examples. Note that these are unseen although called 'training'"
   ]
  },
  {
   "cell_type": "code",
   "execution_count": 18,
   "metadata": {},
   "outputs": [],
   "source": [
    "import keras"
   ]
  },
  {
   "cell_type": "code",
   "execution_count": 40,
   "metadata": {
    "scrolled": false
   },
   "outputs": [],
   "source": [
    "img_rows, img_cols = 28,28\n",
    "\n",
    "model = keras.models.load_model('my_model.h5')\n",
    "\n",
    "cnn_noisy_predictions_probas = model.predict(noisy_nmist_X_train.reshape(-1, img_rows, img_cols, 1))\n",
    "cnn_noisy_predictions = np.argmax(cnn_noisy_predictions_probas, axis=-1)\n",
    "\n",
    "cnn_blur_predictions_probas = model.predict(blur_nmist_X_train.reshape(-1, img_rows, img_cols, 1))\n",
    "cnn_blur_predictions = np.argmax(cnn_blur_predictions_probas, axis=-1)\n",
    "\n",
    "cnn_contrast_predictions_probas = model.predict(contrast_nmist_X_train.reshape(-1, img_rows, img_cols, 1))\n",
    "cnn_contrast_predictions = np.argmax(cnn_contrast_predictions_probas, axis=-1)"
   ]
  },
  {
   "cell_type": "code",
   "execution_count": 172,
   "metadata": {},
   "outputs": [
    {
     "name": "stdout",
     "output_type": "stream",
     "text": [
      "0.9435333333333333\n",
      "0.9326833333333333\n",
      "0.7770666666666667\n"
     ]
    }
   ],
   "source": [
    "noisy_accuracy = len(np.argwhere(cnn_noisy_predictions == noisy_nmist_Y_train))/len(noisy_nmist_Y_train)\n",
    "print(noisy_accuracy)\n",
    "\n",
    "blur_accuracy = len(np.argwhere(cnn_blur_predictions == blur_nmist_Y_train))/len(blur_nmist_Y_train)\n",
    "print(blur_accuracy)\n",
    "\n",
    "noisy_accuracy = len(np.argwhere(cnn_contrast_predictions == contrast_nmist_Y_train))/len(contrast_nmist_Y_train)\n",
    "print(noisy_accuracy)"
   ]
  },
  {
   "cell_type": "markdown",
   "metadata": {},
   "source": [
    "## Use GP to predict noisy training examples"
   ]
  },
  {
   "cell_type": "code",
   "execution_count": 42,
   "metadata": {
    "scrolled": false
   },
   "outputs": [
    {
     "name": "stdout",
     "output_type": "stream",
     "text": [
      "CPU times: user 4.88 ms, sys: 228 ms, total: 232 ms\n",
      "Wall time: 244 ms\n"
     ]
    }
   ],
   "source": [
    "%%time\n",
    "\n",
    "# noisy_X_train = get_gp_mnist_data('my_model.h5', noisy_nmist_X_train.reshape(-1, img_rows, img_cols, 1))\n",
    "# blur_X_train = get_gp_mnist_data('my_model.h5', blur_nmist_X_train.reshape(-1, img_rows, img_cols, 1))\n",
    "# contrast_X_train = get_gp_mnist_data('my_model.h5', contrast_nmist_X_train.reshape(-1, img_rows, img_cols, 1))\n",
    "\n",
    "noisy_X_train = np.load('data/noisy_X_train.npy')\n",
    "blur_X_train = np.load('data/blur_X_train.npy')\n",
    "contrast_X_train = np.load('data/contrast_X_train.npy')\n"
   ]
  },
  {
   "cell_type": "code",
   "execution_count": 43,
   "metadata": {},
   "outputs": [],
   "source": [
    "noisy_X_train = noisy_X_train.astype('float64').reshape(-1,num_features)\n",
    "noisy_probas, noisy_var = m.predict_y(noisy_X_train)\n",
    "noisy_predictions = np.argmax(noisy_probas, axis=-1)\n",
    "\n",
    "blur_X_train = blur_X_train.astype('float64').reshape(-1,num_features)\n",
    "blur_probas, blur_var = m.predict_y(blur_X_train)\n",
    "blur_predictions = np.argmax(blur_probas, axis=-1)\n",
    "\n",
    "contrast_X_train = contrast_X_train.astype('float64').reshape(-1,num_features)\n",
    "contrast_probas, contrast_var = m.predict_y(contrast_X_train)\n",
    "contrast_predictions = np.argmax(contrast_probas, axis=-1)"
   ]
  },
  {
   "cell_type": "code",
   "execution_count": 44,
   "metadata": {},
   "outputs": [
    {
     "name": "stdout",
     "output_type": "stream",
     "text": [
      "0.2104\n",
      "0.6075666666666667\n",
      "0.2104\n"
     ]
    }
   ],
   "source": [
    "noisy_accuracy = len(np.argwhere(noisy_predictions == noisy_nmist_Y_train))/len(noisy_nmist_Y_train)\n",
    "blur_accuracy = len(np.argwhere(blur_predictions == blur_nmist_Y_train))/len(blur_nmist_Y_train)\n",
    "contrast_accuracy = len(np.argwhere(contrast_predictions == contrast_nmist_Y_train))/len(contrast_nmist_Y_train)\n",
    "print(noisy_accuracy)\n",
    "print(blur_accuracy)\n",
    "print(contrast_accuracy)"
   ]
  },
  {
   "cell_type": "code",
   "execution_count": 171,
   "metadata": {},
   "outputs": [],
   "source": [
    "%matplotlib inline\n",
    "def draw_img(img, axes,title=\"\"):\n",
    "    axes.imshow(img.reshape(28,28),cmap =plt.cm.gray_r) \n",
    "    axes.set_xticks([])\n",
    "    axes.set_yticks([])\n",
    "    axes.set_title(title)\n",
    "    \n",
    "def draw_probs(prob, var=None, axes=None):\n",
    "    axes.bar(np.arange(10), prob, yerr=var)\n",
    "    axes.set_ylim([0,1])\n",
    "    axes.set_xticks(np.arange(10))\n",
    "#     axes.set_xlabel(\"Digit\")\n",
    "    \n",
    "def plot_noisy_example(img_index):\n",
    "    fig = plt.figure(figsize=(12,10))\n",
    "\n",
    "    draw_img(noisy_nmist_X_train[img_index], fig.add_subplot(3,3,1), title=\"White noise\")\n",
    "    draw_probs(noisy_probas[img_index], noisy_var[img_index], axes=fig.add_subplot(3,3,2)) \n",
    "    draw_probs(cnn_noisy_predictions_probas[img_index], axes=fig.add_subplot(3,3,3)) \n",
    "\n",
    "    draw_img(blur_nmist_X_train[img_index], fig.add_subplot(3,3,4), title=\"Motion blur\")\n",
    "    draw_probs(blur_probas[img_index], blur_var[img_index], axes=fig.add_subplot(3,3,5)) \n",
    "    draw_probs(cnn_blur_predictions_probas[img_index], axes=fig.add_subplot(3,3,6)) \n",
    "    \n",
    "    draw_img(contrast_nmist_X_train[img_index], fig.add_subplot(3,3,7), title=\"White noise + reduced contrast\")\n",
    "    draw_probs(contrast_probas[img_index], contrast_var[img_index], fig.add_subplot(3,3,8)) \n",
    "    draw_probs(cnn_contrast_predictions_probas[img_index], axes=fig.add_subplot(3,3,9)) \n",
    "    \n",
    "# img_index=1100\n",
    "# plot_noisy_example(img_index)"
   ]
  },
  {
   "cell_type": "code",
   "execution_count": 46,
   "metadata": {},
   "outputs": [
    {
     "name": "stdout",
     "output_type": "stream",
     "text": [
      "(47376, 1)\n",
      "(12624, 1)\n",
      "Index: 0\n",
      "Correct class: 4\n"
     ]
    },
    {
     "data": {
      "image/png": "[encoded data removed]",
      "text/plain": [
       "<matplotlib.figure.Figure at 0x12ee979b0>"
      ]
     },
     "metadata": {},
     "output_type": "display_data"
    }
   ],
   "source": [
    "incorrect_indices = np.argwhere(noisy_predictions != noisy_nmist_Y_train)\n",
    "correct_indices = np.argwhere(noisy_predictions == noisy_nmist_Y_train)\n",
    "print(incorrect_indices.shape)\n",
    "print(correct_indices.shape)\n",
    "img_index = incorrect_indices[0][0]\n",
    "print(\"Index: {}\".format(img_index))\n",
    "print(\"Correct class: {}\".format(noisy_nmist_Y_train[img_index]))\n",
    "plot_noisy_example(img_index)"
   ]
  },
  {
   "cell_type": "markdown",
   "metadata": {},
   "source": [
    "Instead of accuracy use correct prediction score:\n",
    "- 1 if correct prediction\n",
    "- 0 if NN says \"I don't know\"\n",
    "- -1 if incorrect"
   ]
  },
  {
   "cell_type": "markdown",
   "metadata": {},
   "source": [
    "1. Eyeball\n",
    "2. Invent metric\n",
    "3. Embed in end-to-end system"
   ]
  },
  {
   "cell_type": "code",
   "execution_count": 140,
   "metadata": {},
   "outputs": [
    {
     "data": {
      "image/png": "[encoded data removed]",
      "text/plain": [
       "<matplotlib.figure.Figure at 0x13d4ab470>"
      ]
     },
     "metadata": {},
     "output_type": "display_data"
    },
    {
     "data": {
      "image/png": "[encoded data removed]",
      "text/plain": [
       "<matplotlib.figure.Figure at 0x13d4abe10>"
      ]
     },
     "metadata": {},
     "output_type": "display_data"
    },
    {
     "data": {
      "image/png": "[encoded data removed]",
      "text/plain": [
       "<matplotlib.figure.Figure at 0x1d6740dd8>"
      ]
     },
     "metadata": {},
     "output_type": "display_data"
    }
   ],
   "source": [
    "fig = plt.figure()\n",
    "test_index = 18\n",
    "cnn_pred = model.predict(np.array([mnist_test[test_index]]))[0]\n",
    "draw_img(mnist_test[test_index], fig.add_subplot(1,1,1), title=\"MNIST test image\")\n",
    "fig.savefig(\"figs/mnist_test.png\", bbox_inches=\"tight\")\n",
    "fig = plt.figure()\n",
    "draw_probs(p[test_index], var[test_index], axes=fig.add_subplot(1,1,1)) \n",
    "fig.savefig(\"figs/gp_test.png\", bbox_inches=\"tight\")\n",
    "fig = plt.figure()\n",
    "draw_probs(cnn_pred, axes=fig.add_subplot(1,1,1)) \n",
    "fig.savefig(\"figs/cnn_test.png\", bbox_inches=\"tight\")"
   ]
  },
  {
   "cell_type": "code",
   "execution_count": null,
   "metadata": {},
   "outputs": [],
   "source": []
  },
  {
   "cell_type": "code",
   "execution_count": null,
   "metadata": {},
   "outputs": [],
   "source": []
  }
 ],
 "metadata": {
  "anaconda-cloud": {},
  "kernelspec": {
   "display_name": "Python [conda env:python3]",
   "language": "python",
   "name": "conda-env-python3-py"
  },
  "language_info": {
   "codemirror_mode": {
    "name": "ipython",
    "version": 3
   },
   "file_extension": ".py",
   "mimetype": "text/x-python",
   "name": "python",
   "nbconvert_exporter": "python",
   "pygments_lexer": "ipython3",
   "version": "3.5.4"
  },
  "toc": {
   "nav_menu": {},
   "number_sections": true,
   "sideBar": true,
   "skip_h1_title": false,
   "toc_cell": false,
   "toc_position": {},
   "toc_section_display": "block",
   "toc_window_display": false
  }
 },
 "nbformat": 4,
 "nbformat_minor": 2
}
