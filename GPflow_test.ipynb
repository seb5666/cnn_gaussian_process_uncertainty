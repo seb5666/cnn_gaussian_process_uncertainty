{
 "cells": [
  {
   "cell_type": "code",
   "execution_count": 1,
   "metadata": {},
   "outputs": [
    {
     "name": "stdout",
     "output_type": "stream",
     "text": [
      "Using matplotlib backend: MacOSX\n"
     ]
    }
   ],
   "source": [
    "import gpflow\n",
    "import numpy as np\n",
    "import matplotlib.pyplot as plt\n",
    "%matplotlib"
   ]
  },
  {
   "cell_type": "code",
   "execution_count": 2,
   "metadata": {},
   "outputs": [
    {
     "name": "stdout",
     "output_type": "stream",
     "text": [
      "[11 13  0  4 16 10  3  1  5  8  7 15  2 17 14 12 19  6 18  9]\n"
     ]
    },
    {
     "data": {
      "image/png": "[encoded data removed]",
      "text/plain": [
       "<matplotlib.figure.Figure at 0x11e541278>"
      ]
     },
     "metadata": {},
     "output_type": "display_data"
    }
   ],
   "source": [
    "with gpflow.defer_build():\n",
    "    X = np.random.rand(20, 1)\n",
    "    Y = np.sin(12 * X) + 0.66 * np.cos(25 * X) + np.random.randn(20,1) * 0.01\n",
    "    m = gpflow.models.GPR(X, Y, \n",
    "                         kern=gpflow.kernels.Matern32(1) + gpflow.kernels.Linear(1))\n",
    "    \n",
    "    X = X.reshape(-1)\n",
    "    sort_args = np.argsort(X)\n",
    "    print(sort_args)\n",
    "    plt.plot(X[sort_args],Y[sort_args])"
   ]
  },
  {
   "cell_type": "code",
   "execution_count": 3,
   "metadata": {},
   "outputs": [
    {
     "data": {
      "text/html": [
       "<div>\n",
       "<style scoped>\n",
       "    .dataframe tbody tr th:only-of-type {\n",
       "        vertical-align: middle;\n",
       "    }\n",
       "\n",
       "    .dataframe tbody tr th {\n",
       "        vertical-align: top;\n",
       "    }\n",
       "\n",
       "    .dataframe thead th {\n",
       "        text-align: right;\n",
       "    }\n",
       "</style>\n",
       "<table border=\"1\" class=\"dataframe\">\n",
       "  <thead>\n",
       "    <tr style=\"text-align: right;\">\n",
       "      <th></th>\n",
       "      <th>class</th>\n",
       "      <th>prior</th>\n",
       "      <th>transform</th>\n",
       "      <th>trainable</th>\n",
       "      <th>shape</th>\n",
       "      <th>fixed_shape</th>\n",
       "      <th>value</th>\n",
       "    </tr>\n",
       "  </thead>\n",
       "  <tbody>\n",
       "    <tr>\n",
       "      <th>GPR/kern/linear/variance</th>\n",
       "      <td>Parameter</td>\n",
       "      <td>None</td>\n",
       "      <td>+ve</td>\n",
       "      <td>True</td>\n",
       "      <td>()</td>\n",
       "      <td>True</td>\n",
       "      <td>1.0</td>\n",
       "    </tr>\n",
       "    <tr>\n",
       "      <th>GPR/kern/matern32/lengthscales</th>\n",
       "      <td>Parameter</td>\n",
       "      <td>None</td>\n",
       "      <td>+ve</td>\n",
       "      <td>True</td>\n",
       "      <td>()</td>\n",
       "      <td>True</td>\n",
       "      <td>1.0</td>\n",
       "    </tr>\n",
       "    <tr>\n",
       "      <th>GPR/kern/matern32/variance</th>\n",
       "      <td>Parameter</td>\n",
       "      <td>None</td>\n",
       "      <td>+ve</td>\n",
       "      <td>True</td>\n",
       "      <td>()</td>\n",
       "      <td>True</td>\n",
       "      <td>1.0</td>\n",
       "    </tr>\n",
       "    <tr>\n",
       "      <th>GPR/likelihood/variance</th>\n",
       "      <td>Parameter</td>\n",
       "      <td>None</td>\n",
       "      <td>+ve</td>\n",
       "      <td>True</td>\n",
       "      <td>()</td>\n",
       "      <td>True</td>\n",
       "      <td>1.0</td>\n",
       "    </tr>\n",
       "  </tbody>\n",
       "</table>\n",
       "</div>"
      ],
      "text/plain": [
       "                                    class prior transform  trainable shape  \\\n",
       "GPR/kern/linear/variance        Parameter  None       +ve       True    ()   \n",
       "GPR/kern/matern32/lengthscales  Parameter  None       +ve       True    ()   \n",
       "GPR/kern/matern32/variance      Parameter  None       +ve       True    ()   \n",
       "GPR/likelihood/variance         Parameter  None       +ve       True    ()   \n",
       "\n",
       "                                fixed_shape value  \n",
       "GPR/kern/linear/variance               True   1.0  \n",
       "GPR/kern/matern32/lengthscales         True   1.0  \n",
       "GPR/kern/matern32/variance             True   1.0  \n",
       "GPR/likelihood/variance                True   1.0  "
      ]
     },
     "execution_count": 3,
     "metadata": {},
     "output_type": "execute_result"
    }
   ],
   "source": [
    "m.as_pandas_table()"
   ]
  },
  {
   "cell_type": "code",
   "execution_count": 4,
   "metadata": {},
   "outputs": [
    {
     "data": {
      "text/html": [
       "<div>\n",
       "<style scoped>\n",
       "    .dataframe tbody tr th:only-of-type {\n",
       "        vertical-align: middle;\n",
       "    }\n",
       "\n",
       "    .dataframe tbody tr th {\n",
       "        vertical-align: top;\n",
       "    }\n",
       "\n",
       "    .dataframe thead th {\n",
       "        text-align: right;\n",
       "    }\n",
       "</style>\n",
       "<table border=\"1\" class=\"dataframe\">\n",
       "  <thead>\n",
       "    <tr style=\"text-align: right;\">\n",
       "      <th></th>\n",
       "      <th>class</th>\n",
       "      <th>prior</th>\n",
       "      <th>transform</th>\n",
       "      <th>trainable</th>\n",
       "      <th>shape</th>\n",
       "      <th>fixed_shape</th>\n",
       "      <th>value</th>\n",
       "    </tr>\n",
       "  </thead>\n",
       "  <tbody>\n",
       "    <tr>\n",
       "      <th>GPR/likelihood/variance</th>\n",
       "      <td>Parameter</td>\n",
       "      <td>None</td>\n",
       "      <td>+ve</td>\n",
       "      <td>True</td>\n",
       "      <td>()</td>\n",
       "      <td>True</td>\n",
       "      <td>1.0</td>\n",
       "    </tr>\n",
       "  </tbody>\n",
       "</table>\n",
       "</div>"
      ],
      "text/plain": [
       "                             class prior transform  trainable shape  \\\n",
       "GPR/likelihood/variance  Parameter  None       +ve       True    ()   \n",
       "\n",
       "                         fixed_shape value  \n",
       "GPR/likelihood/variance         True   1.0  "
      ]
     },
     "execution_count": 4,
     "metadata": {},
     "output_type": "execute_result"
    }
   ],
   "source": [
    "m.likelihood.as_pandas_table()"
   ]
  },
  {
   "cell_type": "code",
   "execution_count": 5,
   "metadata": {},
   "outputs": [
    {
     "data": {
      "text/html": [
       "<div>\n",
       "<style scoped>\n",
       "    .dataframe tbody tr th:only-of-type {\n",
       "        vertical-align: middle;\n",
       "    }\n",
       "\n",
       "    .dataframe tbody tr th {\n",
       "        vertical-align: top;\n",
       "    }\n",
       "\n",
       "    .dataframe thead th {\n",
       "        text-align: right;\n",
       "    }\n",
       "</style>\n",
       "<table border=\"1\" class=\"dataframe\">\n",
       "  <thead>\n",
       "    <tr style=\"text-align: right;\">\n",
       "      <th></th>\n",
       "      <th>class</th>\n",
       "      <th>prior</th>\n",
       "      <th>transform</th>\n",
       "      <th>trainable</th>\n",
       "      <th>shape</th>\n",
       "      <th>fixed_shape</th>\n",
       "      <th>value</th>\n",
       "    </tr>\n",
       "  </thead>\n",
       "  <tbody>\n",
       "    <tr>\n",
       "      <th>GPR/kern/linear/variance</th>\n",
       "      <td>Parameter</td>\n",
       "      <td>None</td>\n",
       "      <td>+ve</td>\n",
       "      <td>True</td>\n",
       "      <td>()</td>\n",
       "      <td>True</td>\n",
       "      <td>1.0</td>\n",
       "    </tr>\n",
       "    <tr>\n",
       "      <th>GPR/kern/matern32/lengthscales</th>\n",
       "      <td>Parameter</td>\n",
       "      <td>None</td>\n",
       "      <td>+ve</td>\n",
       "      <td>True</td>\n",
       "      <td>()</td>\n",
       "      <td>True</td>\n",
       "      <td>0.5</td>\n",
       "    </tr>\n",
       "    <tr>\n",
       "      <th>GPR/kern/matern32/variance</th>\n",
       "      <td>Parameter</td>\n",
       "      <td>None</td>\n",
       "      <td>+ve</td>\n",
       "      <td>True</td>\n",
       "      <td>()</td>\n",
       "      <td>True</td>\n",
       "      <td>1.0</td>\n",
       "    </tr>\n",
       "    <tr>\n",
       "      <th>GPR/likelihood/variance</th>\n",
       "      <td>Parameter</td>\n",
       "      <td>None</td>\n",
       "      <td>+ve</td>\n",
       "      <td>True</td>\n",
       "      <td>()</td>\n",
       "      <td>True</td>\n",
       "      <td>0.01</td>\n",
       "    </tr>\n",
       "  </tbody>\n",
       "</table>\n",
       "</div>"
      ],
      "text/plain": [
       "                                    class prior transform  trainable shape  \\\n",
       "GPR/kern/linear/variance        Parameter  None       +ve       True    ()   \n",
       "GPR/kern/matern32/lengthscales  Parameter  None       +ve       True    ()   \n",
       "GPR/kern/matern32/variance      Parameter  None       +ve       True    ()   \n",
       "GPR/likelihood/variance         Parameter  None       +ve       True    ()   \n",
       "\n",
       "                                fixed_shape value  \n",
       "GPR/kern/linear/variance               True   1.0  \n",
       "GPR/kern/matern32/lengthscales         True   0.5  \n",
       "GPR/kern/matern32/variance             True   1.0  \n",
       "GPR/likelihood/variance                True  0.01  "
      ]
     },
     "execution_count": 5,
     "metadata": {},
     "output_type": "execute_result"
    }
   ],
   "source": [
    "m.kern.matern32.lengthscales = 0.5\n",
    "m.likelihood.variance = 0.01\n",
    "m.as_pandas_table()"
   ]
  },
  {
   "cell_type": "code",
   "execution_count": 6,
   "metadata": {},
   "outputs": [
    {
     "data": {
      "text/plain": [
       "{'GPR/kern/linear/variance': array(1.),\n",
       " 'GPR/kern/matern32/lengthscales': array(0.5),\n",
       " 'GPR/kern/matern32/variance': array(1.),\n",
       " 'GPR/likelihood/variance': array(0.01)}"
      ]
     },
     "execution_count": 6,
     "metadata": {},
     "output_type": "execute_result"
    }
   ],
   "source": [
    "m.read_trainables()"
   ]
  },
  {
   "cell_type": "code",
   "execution_count": 7,
   "metadata": {},
   "outputs": [
    {
     "data": {
      "text/html": [
       "<div>\n",
       "<style scoped>\n",
       "    .dataframe tbody tr th:only-of-type {\n",
       "        vertical-align: middle;\n",
       "    }\n",
       "\n",
       "    .dataframe tbody tr th {\n",
       "        vertical-align: top;\n",
       "    }\n",
       "\n",
       "    .dataframe thead th {\n",
       "        text-align: right;\n",
       "    }\n",
       "</style>\n",
       "<table border=\"1\" class=\"dataframe\">\n",
       "  <thead>\n",
       "    <tr style=\"text-align: right;\">\n",
       "      <th></th>\n",
       "      <th>class</th>\n",
       "      <th>prior</th>\n",
       "      <th>transform</th>\n",
       "      <th>trainable</th>\n",
       "      <th>shape</th>\n",
       "      <th>fixed_shape</th>\n",
       "      <th>value</th>\n",
       "    </tr>\n",
       "  </thead>\n",
       "  <tbody>\n",
       "    <tr>\n",
       "      <th>GPR/kern/linear/variance</th>\n",
       "      <td>Parameter</td>\n",
       "      <td>None</td>\n",
       "      <td>+ve</td>\n",
       "      <td>True</td>\n",
       "      <td>()</td>\n",
       "      <td>True</td>\n",
       "      <td>1.0</td>\n",
       "    </tr>\n",
       "    <tr>\n",
       "      <th>GPR/kern/matern32/lengthscales</th>\n",
       "      <td>Parameter</td>\n",
       "      <td>None</td>\n",
       "      <td>+ve</td>\n",
       "      <td>True</td>\n",
       "      <td>()</td>\n",
       "      <td>True</td>\n",
       "      <td>0.5</td>\n",
       "    </tr>\n",
       "    <tr>\n",
       "      <th>GPR/kern/matern32/variance</th>\n",
       "      <td>Parameter</td>\n",
       "      <td>Ga([2.],[3.])</td>\n",
       "      <td>+ve</td>\n",
       "      <td>True</td>\n",
       "      <td>()</td>\n",
       "      <td>True</td>\n",
       "      <td>1.0</td>\n",
       "    </tr>\n",
       "    <tr>\n",
       "      <th>GPR/likelihood/variance</th>\n",
       "      <td>Parameter</td>\n",
       "      <td>None</td>\n",
       "      <td>+ve</td>\n",
       "      <td>True</td>\n",
       "      <td>()</td>\n",
       "      <td>True</td>\n",
       "      <td>0.01</td>\n",
       "    </tr>\n",
       "  </tbody>\n",
       "</table>\n",
       "</div>"
      ],
      "text/plain": [
       "                                    class          prior transform  trainable  \\\n",
       "GPR/kern/linear/variance        Parameter           None       +ve       True   \n",
       "GPR/kern/matern32/lengthscales  Parameter           None       +ve       True   \n",
       "GPR/kern/matern32/variance      Parameter  Ga([2.],[3.])       +ve       True   \n",
       "GPR/likelihood/variance         Parameter           None       +ve       True   \n",
       "\n",
       "                               shape  fixed_shape value  \n",
       "GPR/kern/linear/variance          ()         True   1.0  \n",
       "GPR/kern/matern32/lengthscales    ()         True   0.5  \n",
       "GPR/kern/matern32/variance        ()         True   1.0  \n",
       "GPR/likelihood/variance           ()         True  0.01  "
      ]
     },
     "execution_count": 7,
     "metadata": {},
     "output_type": "execute_result"
    }
   ],
   "source": [
    "m.kern.matern32.variance.prior = gpflow.priors.Gamma(2,3)\n",
    "m.as_pandas_table()"
   ]
  },
  {
   "cell_type": "code",
   "execution_count": 8,
   "metadata": {},
   "outputs": [
    {
     "name": "stdout",
     "output_type": "stream",
     "text": [
      "INFO:tensorflow:Optimization terminated with:\n",
      "  Message: b'CONVERGENCE: NORM_OF_PROJECTED_GRADIENT_<=_PGTOL'\n",
      "  Objective function value: 5.494183\n",
      "  Number of iterations: 39\n",
      "  Number of functions evaluations: 42\n"
     ]
    }
   ],
   "source": [
    "m.compile()\n",
    "opt = gpflow.train.ScipyOptimizer()\n",
    "opt.minimize(m)"
   ]
  },
  {
   "cell_type": "code",
   "execution_count": 9,
   "metadata": {
    "scrolled": false
   },
   "outputs": [
    {
     "data": {
      "text/plain": [
       "<matplotlib.collections.PolyCollection at 0x10ec8add8>"
      ]
     },
     "execution_count": 9,
     "metadata": {},
     "output_type": "execute_result"
    },
    {
     "data": {
      "image/png": "[encoded data removed]",
      "text/plain": [
       "<matplotlib.figure.Figure at 0x1222d8cc0>"
      ]
     },
     "metadata": {},
     "output_type": "display_data"
    }
   ],
   "source": [
    "test_X = np.linspace(0,1,100)\n",
    "Y_mean, Y_std = m.predict_y(test_X.reshape(-1,1))\n",
    "# print(test_Y)\n",
    "plt.figure()\n",
    "plt.plot(test_X, Y_mean)\n",
    "Y_mean = Y_mean.reshape(-1)\n",
    "Y_std = Y_std.reshape(-1)\n",
    "# print(test_Y[0] - test_Y[1])\n",
    "plt.plot(X, Y, 'x')\n",
    "plt.fill_between(test_X, Y_mean - Y_std, Y_mean + Y_std, alpha=0.5, color='k')"
   ]
  },
  {
   "cell_type": "markdown",
   "metadata": {},
   "source": [
    "# Multi-class classification"
   ]
  },
  {
   "cell_type": "code",
   "execution_count": 10,
   "metadata": {},
   "outputs": [
    {
     "name": "stdout",
     "output_type": "stream",
     "text": [
      "Using matplotlib backend: MacOSX\n"
     ]
    },
    {
     "name": "stderr",
     "output_type": "stream",
     "text": [
      "Using TensorFlow backend.\n"
     ]
    }
   ],
   "source": [
    "from matplotlib import pyplot as plt\n",
    "%matplotlib\n",
    "plt.style.use('ggplot')\n",
    "import tensorflow as tf\n",
    "import numpy as np\n",
    "import gpflow\n",
    "\n",
    "import keras\n",
    "from keras.datasets import mnist"
   ]
  },
  {
   "cell_type": "markdown",
   "metadata": {},
   "source": [
    "## Generate the data"
   ]
  },
  {
   "cell_type": "code",
   "execution_count": 11,
   "metadata": {},
   "outputs": [],
   "source": [
    "X = np.random.rand(100, 1)\n",
    "K = np.exp(-0.5*np.square(X - X.T)/0.01) + np.eye(100) * 1e-6\n",
    "f = np.dot(np.linalg.cholesky(K), np.random.randn(100, 3))\n",
    "\n",
    "plt.figure(figsize=(12,6))\n",
    "plt.plot(X, f, '.')\n",
    "Y = np.array(np.argmax(f, 1).reshape(-1,1), dtype=float)"
   ]
  },
  {
   "cell_type": "markdown",
   "metadata": {},
   "source": [
    "## Sparse Variational Gaussian approximation"
   ]
  },
  {
   "cell_type": "code",
   "execution_count": 12,
   "metadata": {},
   "outputs": [
    {
     "name": "stdout",
     "output_type": "stream",
     "text": [
      "CPU times: user 734 ms, sys: 8.52 ms, total: 743 ms\n",
      "Wall time: 745 ms\n"
     ]
    }
   ],
   "source": [
    "%%time\n",
    "kernel = gpflow.kernels.Matern32(1) + gpflow.kernels.White(1, variance=0.01)\n",
    "likelihood = gpflow.likelihoods.MultiClass(3)\n",
    "Z=X[::5].copy()\n",
    "num_latent=3\n",
    "whiten=True\n",
    "q_diag=True\n",
    "m = gpflow.models.SVGP(X, Y, \n",
    "                       kern=kernel, \n",
    "                       likelihood=likelihood,\n",
    "                       Z=Z, \n",
    "                       num_latent=num_latent,\n",
    "                       whiten=whiten, \n",
    "                       q_diag=q_diag)\n",
    "\n",
    "m.kern.white.variance.trainable = False\n",
    "m.feature.trainable = False\n",
    "m.as_pandas_table()"
   ]
  },
  {
   "cell_type": "code",
   "execution_count": 13,
   "metadata": {},
   "outputs": [
    {
     "name": "stdout",
     "output_type": "stream",
     "text": [
      "CPU times: user 14.2 s, sys: 2.04 s, total: 16.2 s\n",
      "Wall time: 6.28 s\n"
     ]
    }
   ],
   "source": [
    "%%time\n",
    "opt = gpflow.train.AdamOptimizer()\n",
    "opt.minimize(m)"
   ]
  },
  {
   "cell_type": "code",
   "execution_count": 14,
   "metadata": {},
   "outputs": [
    {
     "data": {
      "image/png": "[encoded data removed]",
      "text/plain": [
       "<matplotlib.figure.Figure at 0x1220965f8>"
      ]
     },
     "metadata": {},
     "output_type": "display_data"
    }
   ],
   "source": [
    "%matplotlib inline\n",
    "def plot(m):\n",
    "    fig = plt.figure(figsize=(12, 6))\n",
    "    a0 = fig.add_axes([0.05, 0.05, 0.9, 0.25])\n",
    "    a0.set_title(\"Data points\")\n",
    "    a1 = fig.add_axes([0.05, 0.35, 0.9, 0.25])\n",
    "    a1.set_title(\"Latent functions\")\n",
    "    a2 = fig.add_axes([0.05, 0.65, 0.9, 0.1])\n",
    "    a2.set_title(\"Probabilities\")\n",
    "    a3 = fig.add_axes([0.05, 0.8, 0.9, 0.1])\n",
    "    a3.set_title(\"Assigned class\")\n",
    "    \n",
    "    xx = np.linspace(m.X.read_value().min(), m.X.read_value().max(), 200).reshape(-1, 1)\n",
    "    mu, var = m.predict_f(xx)\n",
    "    mu, var = mu.copy(), var.copy()\n",
    "    p, _ = m.predict_y(xx)\n",
    "    \n",
    "    a0.plot(X, f, '.')\n",
    "    \n",
    "    a1.set_xticks([])\n",
    "    a3.set_xticks([])\n",
    "    a3.set_yticks([])\n",
    "    \n",
    "    for i in range(m.likelihood.num_classes):\n",
    "        x = m.X.read_value()[m.Y.read_value().flatten()==i]\n",
    "        points, = a3.plot(x, x*0, '.')\n",
    "        color = points.get_color()\n",
    "        a1.plot(xx, mu[:,i], color=color, lw=2)\n",
    "        a1.plot(xx, mu[:,i] + 2*np.sqrt(var[:,i]), '--', color=color)\n",
    "        a1.plot(xx, mu[:,i] - 2*np.sqrt(var[:,i]), '--', color=color)        \n",
    "        a2.plot(xx, p[:, i], '-', color=color, lw=2)\n",
    "        \n",
    "    a2.set_ylim(-0.1, 1.1)\n",
    "    a2.set_yticks([0,1])\n",
    "    a2.set_xticks([])\n",
    "plot(m)"
   ]
  },
  {
   "cell_type": "code",
   "execution_count": 41,
   "metadata": {},
   "outputs": [
    {
     "data": {
      "text/html": [
       "<div>\n",
       "<style scoped>\n",
       "    .dataframe tbody tr th:only-of-type {\n",
       "        vertical-align: middle;\n",
       "    }\n",
       "\n",
       "    .dataframe tbody tr th {\n",
       "        vertical-align: top;\n",
       "    }\n",
       "\n",
       "    .dataframe thead th {\n",
       "        text-align: right;\n",
       "    }\n",
       "</style>\n",
       "<table border=\"1\" class=\"dataframe\">\n",
       "  <thead>\n",
       "    <tr style=\"text-align: right;\">\n",
       "      <th></th>\n",
       "      <th>class</th>\n",
       "      <th>prior</th>\n",
       "      <th>transform</th>\n",
       "      <th>trainable</th>\n",
       "      <th>shape</th>\n",
       "      <th>fixed_shape</th>\n",
       "      <th>value</th>\n",
       "    </tr>\n",
       "  </thead>\n",
       "  <tbody>\n",
       "    <tr>\n",
       "      <th>SVGP/kern/matern32/variance</th>\n",
       "      <td>Parameter</td>\n",
       "      <td>None</td>\n",
       "      <td>+ve</td>\n",
       "      <td>True</td>\n",
       "      <td>()</td>\n",
       "      <td>True</td>\n",
       "      <td>144.33355013015506</td>\n",
       "    </tr>\n",
       "    <tr>\n",
       "      <th>SVGP/kern/matern32/lengthscales</th>\n",
       "      <td>Parameter</td>\n",
       "      <td>None</td>\n",
       "      <td>+ve</td>\n",
       "      <td>True</td>\n",
       "      <td>()</td>\n",
       "      <td>True</td>\n",
       "      <td>0.3748351970926175</td>\n",
       "    </tr>\n",
       "    <tr>\n",
       "      <th>SVGP/kern/white/variance</th>\n",
       "      <td>Parameter</td>\n",
       "      <td>None</td>\n",
       "      <td>+ve</td>\n",
       "      <td>False</td>\n",
       "      <td>()</td>\n",
       "      <td>True</td>\n",
       "      <td>0.01</td>\n",
       "    </tr>\n",
       "  </tbody>\n",
       "</table>\n",
       "</div>"
      ],
      "text/plain": [
       "                                     class prior transform  trainable shape  \\\n",
       "SVGP/kern/matern32/variance      Parameter  None       +ve       True    ()   \n",
       "SVGP/kern/matern32/lengthscales  Parameter  None       +ve       True    ()   \n",
       "SVGP/kern/white/variance         Parameter  None       +ve      False    ()   \n",
       "\n",
       "                                 fixed_shape               value  \n",
       "SVGP/kern/matern32/variance             True  144.33355013015506  \n",
       "SVGP/kern/matern32/lengthscales         True  0.3748351970926175  \n",
       "SVGP/kern/white/variance                True                0.01  "
      ]
     },
     "execution_count": 41,
     "metadata": {},
     "output_type": "execute_result"
    }
   ],
   "source": [
    "m.kern.as_pandas_table()"
   ]
  },
  {
   "cell_type": "markdown",
   "metadata": {},
   "source": [
    "## Sparse MCMC"
   ]
  },
  {
   "cell_type": "code",
   "execution_count": 40,
   "metadata": {},
   "outputs": [],
   "source": [
    "with gpflow.defer_build():\n",
    "    kernel = gpflow.kernels.Matern32(1, lengthscales=0.1) + gpflow.kernels.White(1, variance=0.01)\n",
    "    likelihood = gpflow.likelihoods.MultiClass(3)\n",
    "    Z=X[::5].copy()\n",
    "    num_latent=3\n",
    "    m = gpflow.models.SGPMC(X, Y,\n",
    "                        kern=kernel,\n",
    "                           likelihood=likelihood,\n",
    "                           Z=Z,\n",
    "                           num_latent=num_latent)\n",
    "\n",
    "    m.kern.matern32.variance.prior = gpflow.priors.Gamma(1.,1.)\n",
    "    m.kern.matern32.lengthscales.prior = gpflow.priors.Gamma(2.,2.)\n",
    "    m.kern.white.variance.trainables = False\n",
    "m.compile()"
   ]
  },
  {
   "cell_type": "code",
   "execution_count": 58,
   "metadata": {},
   "outputs": [
    {
     "data": {
      "text/html": [
       "<div>\n",
       "<style scoped>\n",
       "    .dataframe tbody tr th:only-of-type {\n",
       "        vertical-align: middle;\n",
       "    }\n",
       "\n",
       "    .dataframe tbody tr th {\n",
       "        vertical-align: top;\n",
       "    }\n",
       "\n",
       "    .dataframe thead th {\n",
       "        text-align: right;\n",
       "    }\n",
       "</style>\n",
       "<table border=\"1\" class=\"dataframe\">\n",
       "  <thead>\n",
       "    <tr style=\"text-align: right;\">\n",
       "      <th></th>\n",
       "      <th>class</th>\n",
       "      <th>prior</th>\n",
       "      <th>transform</th>\n",
       "      <th>trainable</th>\n",
       "      <th>shape</th>\n",
       "      <th>fixed_shape</th>\n",
       "      <th>value</th>\n",
       "    </tr>\n",
       "  </thead>\n",
       "  <tbody>\n",
       "    <tr>\n",
       "      <th>SGPMC/kern/matern32/variance</th>\n",
       "      <td>Parameter</td>\n",
       "      <td>Ga([1.],[1.])</td>\n",
       "      <td>+ve</td>\n",
       "      <td>True</td>\n",
       "      <td>()</td>\n",
       "      <td>True</td>\n",
       "      <td>1.0</td>\n",
       "    </tr>\n",
       "    <tr>\n",
       "      <th>SGPMC/kern/matern32/lengthscales</th>\n",
       "      <td>Parameter</td>\n",
       "      <td>Ga([2.],[2.])</td>\n",
       "      <td>+ve</td>\n",
       "      <td>True</td>\n",
       "      <td>()</td>\n",
       "      <td>True</td>\n",
       "      <td>0.1</td>\n",
       "    </tr>\n",
       "    <tr>\n",
       "      <th>SGPMC/kern/white/variance</th>\n",
       "      <td>Parameter</td>\n",
       "      <td>None</td>\n",
       "      <td>+ve</td>\n",
       "      <td>False</td>\n",
       "      <td>()</td>\n",
       "      <td>True</td>\n",
       "      <td>0.01</td>\n",
       "    </tr>\n",
       "  </tbody>\n",
       "</table>\n",
       "</div>"
      ],
      "text/plain": [
       "                                      class          prior transform  \\\n",
       "SGPMC/kern/matern32/variance      Parameter  Ga([1.],[1.])       +ve   \n",
       "SGPMC/kern/matern32/lengthscales  Parameter  Ga([2.],[2.])       +ve   \n",
       "SGPMC/kern/white/variance         Parameter           None       +ve   \n",
       "\n",
       "                                  trainable shape  fixed_shape value  \n",
       "SGPMC/kern/matern32/variance           True    ()         True   1.0  \n",
       "SGPMC/kern/matern32/lengthscales       True    ()         True   0.1  \n",
       "SGPMC/kern/white/variance             False    ()         True  0.01  "
      ]
     },
     "execution_count": 58,
     "metadata": {},
     "output_type": "execute_result"
    }
   ],
   "source": [
    "with gpflow.defer_build():\n",
    "    m = gpflow.models.SGPMC(X, Y,\n",
    "                     kern=gpflow.kernels.Matern32(1, lengthscales=0.1) + gpflow.kernels.White(1, variance=0.01),\n",
    "                     likelihood=gpflow.likelihoods.MultiClass(3),\n",
    "                     Z=X[::5].copy(), num_latent=3)\n",
    "    m.kern.matern32.variance.prior = gpflow.priors.Gamma(1.,1.)\n",
    "    m.kern.matern32.lengthscales.prior = gpflow.priors.Gamma(2.,2.)\n",
    "    m.kern.white.variance.trainable = False\n",
    "\n",
    "m.compile()\n",
    "m.kern.as_pandas_table()"
   ]
  },
  {
   "cell_type": "code",
   "execution_count": 61,
   "metadata": {},
   "outputs": [
    {
     "name": "stdout",
     "output_type": "stream",
     "text": [
      "INFO:tensorflow:Optimization terminated with:\n",
      "  Message: b'STOP: TOTAL NO. of ITERATIONS EXCEEDS LIMIT'\n",
      "  Objective function value: 113.767618\n",
      "  Number of iterations: 101\n",
      "  Number of functions evaluations: 135\n"
     ]
    },
    {
     "data": {
      "text/html": [
       "<div>\n",
       "<style scoped>\n",
       "    .dataframe tbody tr th:only-of-type {\n",
       "        vertical-align: middle;\n",
       "    }\n",
       "\n",
       "    .dataframe tbody tr th {\n",
       "        vertical-align: top;\n",
       "    }\n",
       "\n",
       "    .dataframe thead th {\n",
       "        text-align: right;\n",
       "    }\n",
       "</style>\n",
       "<table border=\"1\" class=\"dataframe\">\n",
       "  <thead>\n",
       "    <tr style=\"text-align: right;\">\n",
       "      <th></th>\n",
       "      <th>class</th>\n",
       "      <th>prior</th>\n",
       "      <th>transform</th>\n",
       "      <th>trainable</th>\n",
       "      <th>shape</th>\n",
       "      <th>fixed_shape</th>\n",
       "      <th>value</th>\n",
       "    </tr>\n",
       "  </thead>\n",
       "  <tbody>\n",
       "    <tr>\n",
       "      <th>SGPMC/kern/matern32/variance</th>\n",
       "      <td>Parameter</td>\n",
       "      <td>Ga([1.],[1.])</td>\n",
       "      <td>+ve</td>\n",
       "      <td>True</td>\n",
       "      <td>()</td>\n",
       "      <td>True</td>\n",
       "      <td>1.906417065167978</td>\n",
       "    </tr>\n",
       "    <tr>\n",
       "      <th>SGPMC/kern/matern32/lengthscales</th>\n",
       "      <td>Parameter</td>\n",
       "      <td>Ga([2.],[2.])</td>\n",
       "      <td>+ve</td>\n",
       "      <td>True</td>\n",
       "      <td>()</td>\n",
       "      <td>True</td>\n",
       "      <td>0.08955672742336324</td>\n",
       "    </tr>\n",
       "    <tr>\n",
       "      <th>SGPMC/kern/white/variance</th>\n",
       "      <td>Parameter</td>\n",
       "      <td>None</td>\n",
       "      <td>+ve</td>\n",
       "      <td>False</td>\n",
       "      <td>()</td>\n",
       "      <td>True</td>\n",
       "      <td>0.01</td>\n",
       "    </tr>\n",
       "  </tbody>\n",
       "</table>\n",
       "</div>"
      ],
      "text/plain": [
       "                                      class          prior transform  \\\n",
       "SGPMC/kern/matern32/variance      Parameter  Ga([1.],[1.])       +ve   \n",
       "SGPMC/kern/matern32/lengthscales  Parameter  Ga([2.],[2.])       +ve   \n",
       "SGPMC/kern/white/variance         Parameter           None       +ve   \n",
       "\n",
       "                                  trainable shape  fixed_shape  \\\n",
       "SGPMC/kern/matern32/variance           True    ()         True   \n",
       "SGPMC/kern/matern32/lengthscales       True    ()         True   \n",
       "SGPMC/kern/white/variance             False    ()         True   \n",
       "\n",
       "                                                value  \n",
       "SGPMC/kern/matern32/variance        1.906417065167978  \n",
       "SGPMC/kern/matern32/lengthscales  0.08955672742336324  \n",
       "SGPMC/kern/white/variance                        0.01  "
      ]
     },
     "execution_count": 61,
     "metadata": {},
     "output_type": "execute_result"
    }
   ],
   "source": [
    "opt = gpflow.train.ScipyOptimizer()\n",
    "opt.minimize(m, maxiter=100)\n",
    "m.kern.as_pandas_table()"
   ]
  },
  {
   "cell_type": "code",
   "execution_count": 62,
   "metadata": {},
   "outputs": [],
   "source": [
    "#use hamiltonian monte carle to obtain samples\n",
    "hmc = gpflow.train.HMC()\n",
    "samples = hmc.sample(m, \n",
    "                     num_samples=500, \n",
    "                     epsilon=0.04,\n",
    "                     lmax=15,\n",
    "                     logprobs=False)"
   ]
  },
  {
   "cell_type": "code",
   "execution_count": 16,
   "metadata": {},
   "outputs": [
    {
     "ename": "NameError",
     "evalue": "name 'samples' is not defined",
     "output_type": "error",
     "traceback": [
      "\u001b[0;31m---------------------------------------------------------------------------\u001b[0m",
      "\u001b[0;31mNameError\u001b[0m                                 Traceback (most recent call last)",
      "\u001b[0;32m<ipython-input-16-787f34907776>\u001b[0m in \u001b[0;36m<module>\u001b[0;34m()\u001b[0m\n\u001b[1;32m     36\u001b[0m     \u001b[0ma3\u001b[0m\u001b[0;34m.\u001b[0m\u001b[0mset_xticks\u001b[0m\u001b[0;34m(\u001b[0m\u001b[0;34m[\u001b[0m\u001b[0;34m]\u001b[0m\u001b[0;34m)\u001b[0m\u001b[0;34m\u001b[0m\u001b[0m\n\u001b[1;32m     37\u001b[0m     \u001b[0ma3\u001b[0m\u001b[0;34m.\u001b[0m\u001b[0mset_yticks\u001b[0m\u001b[0;34m(\u001b[0m\u001b[0;34m[\u001b[0m\u001b[0;34m]\u001b[0m\u001b[0;34m)\u001b[0m\u001b[0;34m\u001b[0m\u001b[0m\n\u001b[0;32m---> 38\u001b[0;31m \u001b[0mplot_from_samples\u001b[0m\u001b[0;34m(\u001b[0m\u001b[0mm\u001b[0m\u001b[0;34m,\u001b[0m \u001b[0msamples\u001b[0m\u001b[0;34m)\u001b[0m\u001b[0;34m\u001b[0m\u001b[0m\n\u001b[0m",
      "\u001b[0;31mNameError\u001b[0m: name 'samples' is not defined"
     ]
    }
   ],
   "source": [
    "def plot_from_samples(m, samples):\n",
    "    fig = plt.figure(figsize=(12, 6))\n",
    "    a0 = fig.add_axes([0.05, 0.05, 0.9, 0.25])\n",
    "    a0.set_title(\"Data points\")\n",
    "    a1 = fig.add_axes([0.05, 0.35, 0.9, 0.25])\n",
    "    a1.set_title(\"Latent functions\")\n",
    "    a2 = fig.add_axes([0.05, 0.65, 0.9, 0.1])\n",
    "    a2.set_title(\"Probabilities\")\n",
    "    a3 = fig.add_axes([0.05, 0.8, 0.9, 0.1])\n",
    "    a3.set_title(\"Assigned class\")\n",
    "    \n",
    "    xx = np.linspace(m.X.read_value().min(), m.X.read_value().max(), 200).reshape(-1, 1)\n",
    "    \n",
    "    Fpred, Ypred = [], []\n",
    "    #burn in time of 100, thin time of 10\n",
    "    for s in samples[100::10].iterrows():\n",
    "        m.assign(s[1])\n",
    "        Ypred.append(m.predict_y(xx)[0])\n",
    "        Fpred.append(m.predict_f_samples(xx, 1).squeeze())\n",
    "    \n",
    "    \n",
    "    for i in range(m.likelihood.num_classes):\n",
    "        x = m.X.read_value()[m.Y.read_value().flatten()==i]\n",
    "        points, = a3.plot(x, x*0, '.')\n",
    "        color = points.get_color()\n",
    "        for F in Fpred:\n",
    "            a1.plot(xx, F[:,i], color=color, lw=0.2, alpha=1.0)\n",
    "        for Y in Ypred:\n",
    "            a2.plot(xx, Y[:,i], color=color, lw=0.5, alpha=1.0)\n",
    "\n",
    "    a0.plot(X, f, '.')    \n",
    "    a1.set_xticks([])\n",
    "    a2.set_ylim(-0.1, 1.1)\n",
    "    a2.set_yticks([0,1])\n",
    "    a2.set_xticks([])\n",
    "    a3.set_xticks([])\n",
    "    a3.set_yticks([])\n",
    "plot_from_samples(m, samples)"
   ]
  },
  {
   "cell_type": "code",
   "execution_count": 64,
   "metadata": {},
   "outputs": [
    {
     "data": {
      "text/html": [
       "<div>\n",
       "<style scoped>\n",
       "    .dataframe tbody tr th:only-of-type {\n",
       "        vertical-align: middle;\n",
       "    }\n",
       "\n",
       "    .dataframe tbody tr th {\n",
       "        vertical-align: top;\n",
       "    }\n",
       "\n",
       "    .dataframe thead th {\n",
       "        text-align: right;\n",
       "    }\n",
       "</style>\n",
       "<table border=\"1\" class=\"dataframe\">\n",
       "  <thead>\n",
       "    <tr style=\"text-align: right;\">\n",
       "      <th></th>\n",
       "      <th>SGPMC/V</th>\n",
       "      <th>SGPMC/feature/Z</th>\n",
       "      <th>SGPMC/kern/matern32/lengthscales</th>\n",
       "      <th>SGPMC/kern/matern32/variance</th>\n",
       "    </tr>\n",
       "  </thead>\n",
       "  <tbody>\n",
       "    <tr>\n",
       "      <th>0</th>\n",
       "      <td>[[2.2777814408983783, 0.3865348539167041, -2.6...</td>\n",
       "      <td>[[0.46808490252962015], [0.5990443732026893], ...</td>\n",
       "      <td>0.089557</td>\n",
       "      <td>1.906417</td>\n",
       "    </tr>\n",
       "    <tr>\n",
       "      <th>1</th>\n",
       "      <td>[[2.2777814408983783, 0.3865348539167041, -2.6...</td>\n",
       "      <td>[[0.46808490252962015], [0.5990443732026893], ...</td>\n",
       "      <td>0.089557</td>\n",
       "      <td>1.906417</td>\n",
       "    </tr>\n",
       "    <tr>\n",
       "      <th>2</th>\n",
       "      <td>[[2.2777814408983783, 0.3865348539167041, -2.6...</td>\n",
       "      <td>[[0.46808490252962015], [0.5990443732026893], ...</td>\n",
       "      <td>0.089557</td>\n",
       "      <td>1.906417</td>\n",
       "    </tr>\n",
       "    <tr>\n",
       "      <th>3</th>\n",
       "      <td>[[2.2777814408983783, 0.3865348539167041, -2.6...</td>\n",
       "      <td>[[0.46808490252962015], [0.5990443732026893], ...</td>\n",
       "      <td>0.089557</td>\n",
       "      <td>1.906417</td>\n",
       "    </tr>\n",
       "    <tr>\n",
       "      <th>4</th>\n",
       "      <td>[[2.2777814408983783, 0.3865348539167041, -2.6...</td>\n",
       "      <td>[[0.46808490252962015], [0.5990443732026893], ...</td>\n",
       "      <td>0.089557</td>\n",
       "      <td>1.906417</td>\n",
       "    </tr>\n",
       "  </tbody>\n",
       "</table>\n",
       "</div>"
      ],
      "text/plain": [
       "                                             SGPMC/V  \\\n",
       "0  [[2.2777814408983783, 0.3865348539167041, -2.6...   \n",
       "1  [[2.2777814408983783, 0.3865348539167041, -2.6...   \n",
       "2  [[2.2777814408983783, 0.3865348539167041, -2.6...   \n",
       "3  [[2.2777814408983783, 0.3865348539167041, -2.6...   \n",
       "4  [[2.2777814408983783, 0.3865348539167041, -2.6...   \n",
       "\n",
       "                                     SGPMC/feature/Z  \\\n",
       "0  [[0.46808490252962015], [0.5990443732026893], ...   \n",
       "1  [[0.46808490252962015], [0.5990443732026893], ...   \n",
       "2  [[0.46808490252962015], [0.5990443732026893], ...   \n",
       "3  [[0.46808490252962015], [0.5990443732026893], ...   \n",
       "4  [[0.46808490252962015], [0.5990443732026893], ...   \n",
       "\n",
       "   SGPMC/kern/matern32/lengthscales  SGPMC/kern/matern32/variance  \n",
       "0                          0.089557                      1.906417  \n",
       "1                          0.089557                      1.906417  \n",
       "2                          0.089557                      1.906417  \n",
       "3                          0.089557                      1.906417  \n",
       "4                          0.089557                      1.906417  "
      ]
     },
     "execution_count": 64,
     "metadata": {},
     "output_type": "execute_result"
    }
   ],
   "source": [
    "samples.head()"
   ]
  },
  {
   "cell_type": "code",
   "execution_count": null,
   "metadata": {},
   "outputs": [],
   "source": []
  }
 ],
 "metadata": {
  "kernelspec": {
   "display_name": "Python 3",
   "language": "python",
   "name": "python3"
  },
  "language_info": {
   "codemirror_mode": {
    "name": "ipython",
    "version": 3
   },
   "file_extension": ".py",
   "mimetype": "text/x-python",
   "name": "python",
   "nbconvert_exporter": "python",
   "pygments_lexer": "ipython3",
   "version": "3.5.4"
  },
  "toc": {
   "nav_menu": {},
   "number_sections": true,
   "sideBar": true,
   "skip_h1_title": false,
   "toc_cell": false,
   "toc_position": {},
   "toc_section_display": "block",
   "toc_window_display": false
  }
 },
 "nbformat": 4,
 "nbformat_minor": 2
}
