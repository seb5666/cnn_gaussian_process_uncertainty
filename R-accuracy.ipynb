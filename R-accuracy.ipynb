{
 "cells": [
  {
   "cell_type": "code",
   "execution_count": 1,
   "metadata": {},
   "outputs": [],
   "source": [
    "import numpy as np\n",
    "from matplotlib import pyplot as plt\n",
    "plt.style.use('ggplot')"
   ]
  },
  {
   "cell_type": "code",
   "execution_count": 2,
   "metadata": {},
   "outputs": [],
   "source": [
    "mnist_train = np.load('data/mnist_train.npy')\n",
    "X_train = np.load('data/X_train.npy')\n",
    "y_train = np.load('data/y_train.npy')\n",
    "mnist_test = np.load('data/mnist_test.npy')\n",
    "X_test = np.load('data/X_test.npy')\n",
    "y_test = np.load('data/y_test.npy')"
   ]
  },
  {
   "cell_type": "code",
   "execution_count": 27,
   "metadata": {},
   "outputs": [
    {
     "name": "stdout",
     "output_type": "stream",
     "text": [
      "(10000, 10)\n",
      "(10000, 10)\n"
     ]
    }
   ],
   "source": [
    "X_p, X_var = np.load('predictions/X_test.npy')\n",
    "print(X_p.shape)\n",
    "print(X_var.shape)\n",
    "X_std = np.sqrt(X_var)"
   ]
  },
  {
   "cell_type": "code",
   "execution_count": 7,
   "metadata": {},
   "outputs": [],
   "source": [
    "predictions = np.argmax(X_p, axis=-1)"
   ]
  },
  {
   "cell_type": "code",
   "execution_count": 9,
   "metadata": {},
   "outputs": [
    {
     "name": "stdout",
     "output_type": "stream",
     "text": [
      "0.9928\n"
     ]
    }
   ],
   "source": [
    "accuracy = np.sum(predictions == y_test) / len(y_test)\n",
    "print(accuracy)"
   ]
  },
  {
   "cell_type": "code",
   "execution_count": 36,
   "metadata": {},
   "outputs": [
    {
     "name": "stdout",
     "output_type": "stream",
     "text": [
      "[4 6 8 5 2 0 1 9 3 7]\n",
      "[1.11111543e-04 1.11113623e-04 1.11111118e-04 2.10415329e-04\n",
      " 1.11111111e-04 1.11111113e-04 1.11111111e-04 9.98101360e-01\n",
      " 1.11111111e-04 1.11622929e-04]\n",
      "[0.01054036 0.01054046 0.01054034 0.01450417 0.01054034 0.01054034\n",
      " 0.01054034 0.04353201 0.01054034 0.01056459]\n",
      "[1.11111111e-04 1.11111111e-04 1.11111111e-04 1.11111113e-04\n",
      " 1.11111118e-04 1.11111543e-04 1.11113623e-04 1.11622929e-04\n",
      " 2.10415329e-04 9.98101360e-01]\n",
      "Rejecting: 61\n",
      "None\n"
     ]
    }
   ],
   "source": [
    "arg_sorted_p = np.argsort(X_p, axis=-1)\n",
    "print(arg_sorted_p[0])\n",
    "print(X_p[0])\n",
    "print(X_std[0])\n",
    "print(X_p[0][arg_sorted_p[0]])\n",
    "\n",
    "highest_arg = arg_sorted_p[:, -1]\n",
    "second_highest_arg = arg_sorted_p[:, -2]\n",
    "\n",
    "highest_p = X_p[np.arange(len(X_p)), highest_arg]\n",
    "second_highest_p  = X_p[np.arange(len(X_p)), second_highest_arg]\n",
    "highest_p_std = X_std[np.arange(len(X_p)), highest_arg]\n",
    "\n",
    "def R_acc(alpha=-1, beta=0):\n",
    "    eps = 1\n",
    "    reject_img = highest_p - second_highest_p < eps * highest_p_std\n",
    "    print(\"Rejecting: {}\".format(np.sum(reject_img)))\n",
    "    alpha * np.sum(predictions == y_test)\n",
    "    correct_accept = (y_test == predictions) & np.logical_not(reject_img)\n",
    "    correct_reject = (y_test == predictions) & reject_img\n",
    "    return np.sum(predictions == y_test & np.logical_not(reject_img)) + alpha * np.sum(predictions == y_test & np.logical_not(reject_img))\n",
    "\n",
    "print(R_acc())"
   ]
  },
  {
   "cell_type": "code",
   "execution_count": null,
   "metadata": {},
   "outputs": [],
   "source": []
  }
 ],
 "metadata": {
  "anaconda-cloud": {},
  "kernelspec": {
   "display_name": "Python [conda env:python3]",
   "language": "python",
   "name": "conda-env-python3-py"
  },
  "language_info": {
   "codemirror_mode": {
    "name": "ipython",
    "version": 3
   },
   "file_extension": ".py",
   "mimetype": "text/x-python",
   "name": "python",
   "nbconvert_exporter": "python",
   "pygments_lexer": "ipython3",
   "version": "3.5.4"
  },
  "toc": {
   "nav_menu": {},
   "number_sections": true,
   "sideBar": true,
   "skip_h1_title": false,
   "toc_cell": false,
   "toc_position": {},
   "toc_section_display": "block",
   "toc_window_display": false
  }
 },
 "nbformat": 4,
 "nbformat_minor": 1
}
